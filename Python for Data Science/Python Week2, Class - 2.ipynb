{
 "cells": [
  {
   "cell_type": "markdown",
   "id": "59b2ee01",
   "metadata": {},
   "source": [
    "## Conditional Statements"
   ]
  },
  {
   "cell_type": "code",
   "execution_count": 1,
   "id": "12c6f9d6",
   "metadata": {},
   "outputs": [
    {
     "name": "stdout",
     "output_type": "stream",
     "text": [
      "Im inside if block\n",
      "a>b\n",
      "2.5\n",
      "end of code\n"
     ]
    }
   ],
   "source": [
    "a=5\n",
    "b=2\n",
    "if a>b:\n",
    "    print(\"Im inside if block\")\n",
    "    print(\"a>b\")\n",
    "    c=5/2\n",
    "    print(c)\n",
    "print(\"end of code\")"
   ]
  },
  {
   "cell_type": "code",
   "execution_count": 2,
   "id": "6be559df",
   "metadata": {},
   "outputs": [
    {
     "name": "stdout",
     "output_type": "stream",
     "text": [
      "end of code\n"
     ]
    }
   ],
   "source": [
    "a=5\n",
    "b=2\n",
    "if a<b:\n",
    "    print(\"Im inside if block\")\n",
    "    print(\"a>b\")\n",
    "    c=5/2\n",
    "    print(c)\n",
    "print(\"end of code\")"
   ]
  },
  {
   "cell_type": "code",
   "execution_count": 4,
   "id": "52ee5db1",
   "metadata": {},
   "outputs": [
    {
     "name": "stdout",
     "output_type": "stream",
     "text": [
      "if block is excecuting\n",
      "end\n"
     ]
    }
   ],
   "source": [
    "if True:\n",
    "    print(\"if block is excecuting\")\n",
    "print(\"end\")"
   ]
  },
  {
   "cell_type": "code",
   "execution_count": 8,
   "id": "681f6285",
   "metadata": {},
   "outputs": [
    {
     "name": "stdout",
     "output_type": "stream",
     "text": [
      "Im inside if block\n",
      "a>b\n",
      "end of code\n"
     ]
    }
   ],
   "source": [
    "a=5\n",
    "b=2\n",
    "if a>b:\n",
    "    print(\"Im inside if block\")\n",
    "    print(\"a>b\")\n",
    "    if a==b:\n",
    "        c=5/2\n",
    "        print(c)\n",
    "print(\"end of code\")"
   ]
  },
  {
   "cell_type": "markdown",
   "id": "530fff26",
   "metadata": {},
   "source": [
    "### if-else block"
   ]
  },
  {
   "cell_type": "code",
   "execution_count": 9,
   "id": "81fce8e9",
   "metadata": {
    "scrolled": true
   },
   "outputs": [
    {
     "name": "stdout",
     "output_type": "stream",
     "text": [
      "Im inside if block\n",
      "a>b True\n",
      "2.5\n",
      "end of code\n"
     ]
    }
   ],
   "source": [
    "a=5\n",
    "b=2\n",
    "if a>b:\n",
    "    print(\"Im inside if block\")\n",
    "    print(\"a>b\",a>b)\n",
    "    c=5/2\n",
    "    print(c)\n",
    "else:\n",
    "    print(\"Im inside else block\")\n",
    "print(\"end of code\")"
   ]
  },
  {
   "cell_type": "code",
   "execution_count": 11,
   "id": "ac4f0e32",
   "metadata": {},
   "outputs": [
    {
     "name": "stdout",
     "output_type": "stream",
     "text": [
      "Im inside else block\n",
      "end of code\n"
     ]
    }
   ],
   "source": [
    "a=5\n",
    "b=2\n",
    "if a<b:  #If block executes only when the condition is true. If its False then else block will execute\n",
    "    print(\"Im inside if block\")\n",
    "    print(\"a>b\",a>b)\n",
    "    c=5/2\n",
    "    print(c)\n",
    "else:\n",
    "    print(\"Im inside else block\")\n",
    "print(\"end of code\")"
   ]
  },
  {
   "cell_type": "code",
   "execution_count": 12,
   "id": "56887de3",
   "metadata": {},
   "outputs": [
    {
     "name": "stdout",
     "output_type": "stream",
     "text": [
      "b is greater than a\n"
     ]
    }
   ],
   "source": [
    "#Write a program to find a greater number of two values\n",
    "a=10\n",
    "b=20\n",
    "if a>b:\n",
    "    print(\"a is greater than b\")\n",
    "else:\n",
    "    print(\"b is greater than a\")"
   ]
  },
  {
   "cell_type": "code",
   "execution_count": 16,
   "id": "656aa8fc",
   "metadata": {},
   "outputs": [
    {
     "name": "stdout",
     "output_type": "stream",
     "text": [
      "Enter the value of a: 35\n",
      "Enter the value of b: 67\n",
      "Greater number is  67\n"
     ]
    }
   ],
   "source": [
    "a=int(input(\"Enter the value of a: \"))\n",
    "b=int(input(\"Enter the value of b: \"))\n",
    "if a>b:\n",
    "    print(\"Greater number is \",a)\n",
    "else:\n",
    "    print(\"Greater number is \",b)"
   ]
  },
  {
   "cell_type": "code",
   "execution_count": 18,
   "id": "0c7a40e2",
   "metadata": {},
   "outputs": [
    {
     "name": "stdout",
     "output_type": "stream",
     "text": [
      "Enter a number: 25\n",
      "25 is an odd number\n"
     ]
    }
   ],
   "source": [
    "# Write a program to find the entered number is even or odd.\n",
    "n=int(input(\"Enter a number: \"))\n",
    "if n%2==0:\n",
    "    print(\"{} is an even number\".format(n))\n",
    "else:\n",
    "    print(\"{} is an odd number\".format(n))\n",
    "    "
   ]
  },
  {
   "cell_type": "code",
   "execution_count": 21,
   "id": "1d5fed37",
   "metadata": {},
   "outputs": [
    {
     "name": "stdout",
     "output_type": "stream",
     "text": [
      "Enter your name: brgh\n",
      "a is not present in your name\n"
     ]
    }
   ],
   "source": [
    "# write a program to find whether \"a\" is present or not\n",
    "name=input(\"Enter your name: \")\n",
    "if 'a' in name:\n",
    "    print(\"a is present in your name\")\n",
    "else:\n",
    "    print(\"a is not present in your name\")"
   ]
  },
  {
   "cell_type": "markdown",
   "id": "cab003bb",
   "metadata": {},
   "source": [
    "### elif block"
   ]
  },
  {
   "cell_type": "code",
   "execution_count": 25,
   "id": "9fba1133",
   "metadata": {},
   "outputs": [
    {
     "name": "stdout",
     "output_type": "stream",
     "text": [
      "Enter the value of a: 37\n",
      "Enter the value of b: 56\n",
      "Enter the value of c: 45\n",
      "b is greater\n"
     ]
    }
   ],
   "source": [
    "a=int(input(\"Enter the value of a: \"))\n",
    "b=int(input(\"Enter the value of b: \"))\n",
    "c=int(input(\"Enter the value of c: \"))\n",
    "\n",
    "if (a>b) and (a>c):\n",
    "    print(\"a is greater\")\n",
    "elif (b>a) and (b>c): \n",
    "    print(\"b is greater\")\n",
    "else:\n",
    "    print(\"c is greater\")\n",
    "    "
   ]
  },
  {
   "cell_type": "code",
   "execution_count": 31,
   "id": "7b6f3768",
   "metadata": {},
   "outputs": [
    {
     "name": "stdout",
     "output_type": "stream",
     "text": [
      "It contains mixture of characters\n"
     ]
    }
   ],
   "source": [
    "name=\"anuraaag1234@#$%\"\n",
    "\n",
    "if(name.isalpha()):\n",
    "    print(\"name only contains alphabets\")\n",
    "elif(name.isalnum()):\n",
    "    print(\"contains both numbers and characters\")\n",
    "else:\n",
    "    print(\"It contains mixture of characters\")"
   ]
  },
  {
   "cell_type": "markdown",
   "id": "c0ec2a88",
   "metadata": {},
   "source": [
    "## Data Structures"
   ]
  },
  {
   "cell_type": "markdown",
   "id": "50d60f6f",
   "metadata": {},
   "source": [
    "### List "
   ]
  },
  {
   "cell_type": "code",
   "execution_count": 32,
   "id": "028cd998",
   "metadata": {},
   "outputs": [
    {
     "data": {
      "text/plain": [
       "list"
      ]
     },
     "execution_count": 32,
     "metadata": {},
     "output_type": "execute_result"
    }
   ],
   "source": [
    "mylist=['apple' , 'ball' , 1,2,3,4 , True]\n",
    "type(mylist)"
   ]
  },
  {
   "cell_type": "code",
   "execution_count": 33,
   "id": "e2c841a5",
   "metadata": {},
   "outputs": [
    {
     "data": {
      "text/plain": [
       "list"
      ]
     },
     "execution_count": 33,
     "metadata": {},
     "output_type": "execute_result"
    }
   ],
   "source": [
    "#Create empty list\n",
    "\n",
    "list_var=[]\n",
    "type(list_var)"
   ]
  },
  {
   "cell_type": "code",
   "execution_count": 35,
   "id": "e6de85e7",
   "metadata": {},
   "outputs": [],
   "source": [
    "mylist=['anuraag' , 'abdul' , 'ganesh' , 'Thomas']"
   ]
  },
  {
   "cell_type": "code",
   "execution_count": 36,
   "id": "b32a67f7",
   "metadata": {},
   "outputs": [],
   "source": [
    "mylist1=['kumar' , 'raaza' , 'john'] "
   ]
  },
  {
   "cell_type": "code",
   "execution_count": 37,
   "id": "769eff53",
   "metadata": {},
   "outputs": [
    {
     "data": {
      "text/plain": [
       "['anuraag', 'abdul', 'ganesh', 'Thomas', 'kumar', 'raaza', 'john']"
      ]
     },
     "execution_count": 37,
     "metadata": {},
     "output_type": "execute_result"
    }
   ],
   "source": [
    "mylist+mylist1"
   ]
  },
  {
   "cell_type": "code",
   "execution_count": 38,
   "id": "3544bbb9",
   "metadata": {},
   "outputs": [
    {
     "data": {
      "text/plain": [
       "['anuraag',\n",
       " 'abdul',\n",
       " 'ganesh',\n",
       " 'Thomas',\n",
       " 'anuraag',\n",
       " 'abdul',\n",
       " 'ganesh',\n",
       " 'Thomas',\n",
       " 'anuraag',\n",
       " 'abdul',\n",
       " 'ganesh',\n",
       " 'Thomas',\n",
       " 'anuraag',\n",
       " 'abdul',\n",
       " 'ganesh',\n",
       " 'Thomas']"
      ]
     },
     "execution_count": 38,
     "metadata": {},
     "output_type": "execute_result"
    }
   ],
   "source": [
    "mylist*4"
   ]
  },
  {
   "cell_type": "code",
   "execution_count": 39,
   "id": "f37cc08b",
   "metadata": {},
   "outputs": [
    {
     "data": {
      "text/plain": [
       "True"
      ]
     },
     "execution_count": 39,
     "metadata": {},
     "output_type": "execute_result"
    }
   ],
   "source": [
    "'anuraag' in mylist"
   ]
  },
  {
   "cell_type": "code",
   "execution_count": 40,
   "id": "9796f230",
   "metadata": {},
   "outputs": [
    {
     "data": {
      "text/plain": [
       "False"
      ]
     },
     "execution_count": 40,
     "metadata": {},
     "output_type": "execute_result"
    }
   ],
   "source": [
    "'ganesh' not in mylist"
   ]
  },
  {
   "cell_type": "code",
   "execution_count": 44,
   "id": "de071349",
   "metadata": {},
   "outputs": [
    {
     "data": {
      "text/plain": [
       "'ganesh'"
      ]
     },
     "execution_count": 44,
     "metadata": {},
     "output_type": "execute_result"
    }
   ],
   "source": [
    "mylist[2]"
   ]
  },
  {
   "cell_type": "code",
   "execution_count": 45,
   "id": "3f2ee7d0",
   "metadata": {},
   "outputs": [
    {
     "data": {
      "text/plain": [
       "'Thomas'"
      ]
     },
     "execution_count": 45,
     "metadata": {},
     "output_type": "execute_result"
    }
   ],
   "source": [
    "mylist[-1]"
   ]
  },
  {
   "cell_type": "code",
   "execution_count": 46,
   "id": "c1973e71",
   "metadata": {},
   "outputs": [
    {
     "data": {
      "text/plain": [
       "['anuraag', 'ganesh']"
      ]
     },
     "execution_count": 46,
     "metadata": {},
     "output_type": "execute_result"
    }
   ],
   "source": [
    "mylist[::2]"
   ]
  },
  {
   "cell_type": "code",
   "execution_count": 47,
   "id": "d817da36",
   "metadata": {},
   "outputs": [
    {
     "data": {
      "text/plain": [
       "['anuraag', 'abdul', 'ganesh', 'Thomas']"
      ]
     },
     "execution_count": 47,
     "metadata": {},
     "output_type": "execute_result"
    }
   ],
   "source": [
    "mylist[::]"
   ]
  },
  {
   "cell_type": "markdown",
   "id": "c8ce692d",
   "metadata": {},
   "source": [
    "### List Function"
   ]
  },
  {
   "cell_type": "code",
   "execution_count": 48,
   "id": "582b7a5e",
   "metadata": {},
   "outputs": [
    {
     "data": {
      "text/plain": [
       "['anuraag', 'abdul', 'ganesh', 'Thomas']"
      ]
     },
     "execution_count": 48,
     "metadata": {},
     "output_type": "execute_result"
    }
   ],
   "source": [
    "mylist"
   ]
  },
  {
   "cell_type": "code",
   "execution_count": 49,
   "id": "764b2ec1",
   "metadata": {},
   "outputs": [],
   "source": [
    "mylist.append(\"rahul\")"
   ]
  },
  {
   "cell_type": "code",
   "execution_count": 50,
   "id": "364ba6d8",
   "metadata": {},
   "outputs": [
    {
     "data": {
      "text/plain": [
       "['anuraag', 'abdul', 'ganesh', 'Thomas', 'rahul']"
      ]
     },
     "execution_count": 50,
     "metadata": {},
     "output_type": "execute_result"
    }
   ],
   "source": [
    "mylist"
   ]
  },
  {
   "cell_type": "code",
   "execution_count": 51,
   "id": "9bd7ca68",
   "metadata": {},
   "outputs": [],
   "source": [
    "mylist.extend([\"sharma\" , \"harish\" , \"arun\"])"
   ]
  },
  {
   "cell_type": "code",
   "execution_count": 52,
   "id": "fcf511b9",
   "metadata": {},
   "outputs": [
    {
     "data": {
      "text/plain": [
       "['anuraag', 'abdul', 'ganesh', 'Thomas', 'rahul', 'sharma', 'harish', 'arun']"
      ]
     },
     "execution_count": 52,
     "metadata": {},
     "output_type": "execute_result"
    }
   ],
   "source": [
    "mylist"
   ]
  },
  {
   "cell_type": "code",
   "execution_count": 53,
   "id": "c8b8986e",
   "metadata": {},
   "outputs": [],
   "source": [
    "mylist.append(\"anuraag\")"
   ]
  },
  {
   "cell_type": "code",
   "execution_count": 54,
   "id": "9bc974d7",
   "metadata": {},
   "outputs": [
    {
     "data": {
      "text/plain": [
       "['anuraag',\n",
       " 'abdul',\n",
       " 'ganesh',\n",
       " 'Thomas',\n",
       " 'rahul',\n",
       " 'sharma',\n",
       " 'harish',\n",
       " 'arun',\n",
       " 'anuraag']"
      ]
     },
     "execution_count": 54,
     "metadata": {},
     "output_type": "execute_result"
    }
   ],
   "source": [
    "mylist"
   ]
  },
  {
   "cell_type": "code",
   "execution_count": 55,
   "id": "25181a36",
   "metadata": {},
   "outputs": [],
   "source": [
    "mylist.extend(mylist1)"
   ]
  },
  {
   "cell_type": "code",
   "execution_count": 56,
   "id": "199bca47",
   "metadata": {},
   "outputs": [
    {
     "data": {
      "text/plain": [
       "['anuraag',\n",
       " 'abdul',\n",
       " 'ganesh',\n",
       " 'Thomas',\n",
       " 'rahul',\n",
       " 'sharma',\n",
       " 'harish',\n",
       " 'arun',\n",
       " 'anuraag',\n",
       " 'kumar',\n",
       " 'raaza',\n",
       " 'john']"
      ]
     },
     "execution_count": 56,
     "metadata": {},
     "output_type": "execute_result"
    }
   ],
   "source": [
    "mylist"
   ]
  },
  {
   "cell_type": "code",
   "execution_count": 57,
   "id": "55c10df7",
   "metadata": {},
   "outputs": [],
   "source": [
    "mylist[1] = 'ayush'"
   ]
  },
  {
   "cell_type": "code",
   "execution_count": 58,
   "id": "f78593de",
   "metadata": {},
   "outputs": [
    {
     "data": {
      "text/plain": [
       "['anuraag',\n",
       " 'ayush',\n",
       " 'ganesh',\n",
       " 'Thomas',\n",
       " 'rahul',\n",
       " 'sharma',\n",
       " 'harish',\n",
       " 'arun',\n",
       " 'anuraag',\n",
       " 'kumar',\n",
       " 'raaza',\n",
       " 'john']"
      ]
     },
     "execution_count": 58,
     "metadata": {},
     "output_type": "execute_result"
    }
   ],
   "source": [
    "mylist"
   ]
  },
  {
   "cell_type": "code",
   "execution_count": 59,
   "id": "b52615e9",
   "metadata": {},
   "outputs": [
    {
     "data": {
      "text/plain": [
       "2"
      ]
     },
     "execution_count": 59,
     "metadata": {},
     "output_type": "execute_result"
    }
   ],
   "source": [
    "mylist.count(\"anuraag\")"
   ]
  },
  {
   "cell_type": "code",
   "execution_count": 60,
   "id": "ea739ef3",
   "metadata": {},
   "outputs": [],
   "source": [
    "mylist.insert(2,\"manoj\")"
   ]
  },
  {
   "cell_type": "code",
   "execution_count": 61,
   "id": "0abdea7a",
   "metadata": {},
   "outputs": [
    {
     "data": {
      "text/plain": [
       "['anuraag',\n",
       " 'ayush',\n",
       " 'manoj',\n",
       " 'ganesh',\n",
       " 'Thomas',\n",
       " 'rahul',\n",
       " 'sharma',\n",
       " 'harish',\n",
       " 'arun',\n",
       " 'anuraag',\n",
       " 'kumar',\n",
       " 'raaza',\n",
       " 'john']"
      ]
     },
     "execution_count": 61,
     "metadata": {},
     "output_type": "execute_result"
    }
   ],
   "source": [
    "mylist"
   ]
  },
  {
   "cell_type": "code",
   "execution_count": 62,
   "id": "f25f2068",
   "metadata": {},
   "outputs": [],
   "source": [
    "new_list=mylist.copy()"
   ]
  },
  {
   "cell_type": "code",
   "execution_count": 63,
   "id": "230599f9",
   "metadata": {},
   "outputs": [
    {
     "data": {
      "text/plain": [
       "['anuraag',\n",
       " 'ayush',\n",
       " 'manoj',\n",
       " 'ganesh',\n",
       " 'Thomas',\n",
       " 'rahul',\n",
       " 'sharma',\n",
       " 'harish',\n",
       " 'arun',\n",
       " 'anuraag',\n",
       " 'kumar',\n",
       " 'raaza',\n",
       " 'john']"
      ]
     },
     "execution_count": 63,
     "metadata": {},
     "output_type": "execute_result"
    }
   ],
   "source": [
    "new_list"
   ]
  },
  {
   "cell_type": "code",
   "execution_count": 64,
   "id": "8e34b792",
   "metadata": {},
   "outputs": [
    {
     "data": {
      "text/plain": [
       "['kumar', 'raaza', 'john']"
      ]
     },
     "execution_count": 64,
     "metadata": {},
     "output_type": "execute_result"
    }
   ],
   "source": [
    "mylist1"
   ]
  },
  {
   "cell_type": "code",
   "execution_count": 65,
   "id": "9526a780",
   "metadata": {},
   "outputs": [],
   "source": [
    "mylist1.reverse()\n"
   ]
  },
  {
   "cell_type": "code",
   "execution_count": 66,
   "id": "9136ba9a",
   "metadata": {},
   "outputs": [
    {
     "data": {
      "text/plain": [
       "['john', 'raaza', 'kumar']"
      ]
     },
     "execution_count": 66,
     "metadata": {},
     "output_type": "execute_result"
    }
   ],
   "source": [
    "mylist1"
   ]
  },
  {
   "cell_type": "code",
   "execution_count": 67,
   "id": "127200f5",
   "metadata": {},
   "outputs": [],
   "source": [
    "mylist1.sort()"
   ]
  },
  {
   "cell_type": "code",
   "execution_count": 68,
   "id": "3562c941",
   "metadata": {},
   "outputs": [
    {
     "data": {
      "text/plain": [
       "['john', 'kumar', 'raaza']"
      ]
     },
     "execution_count": 68,
     "metadata": {},
     "output_type": "execute_result"
    }
   ],
   "source": [
    "mylist1"
   ]
  },
  {
   "cell_type": "code",
   "execution_count": 69,
   "id": "f16074eb",
   "metadata": {},
   "outputs": [],
   "source": [
    "mylist1.sort(reverse=True)  # sort z-a"
   ]
  },
  {
   "cell_type": "code",
   "execution_count": 70,
   "id": "890acb86",
   "metadata": {},
   "outputs": [
    {
     "data": {
      "text/plain": [
       "['raaza', 'kumar', 'john']"
      ]
     },
     "execution_count": 70,
     "metadata": {},
     "output_type": "execute_result"
    }
   ],
   "source": [
    "mylist1"
   ]
  },
  {
   "cell_type": "code",
   "execution_count": 73,
   "id": "457adab6",
   "metadata": {},
   "outputs": [],
   "source": [
    "mylist1.sort(reverse=False)"
   ]
  },
  {
   "cell_type": "code",
   "execution_count": 74,
   "id": "92837b16",
   "metadata": {},
   "outputs": [
    {
     "data": {
      "text/plain": [
       "['john', 'kumar', 'raaza']"
      ]
     },
     "execution_count": 74,
     "metadata": {},
     "output_type": "execute_result"
    }
   ],
   "source": [
    "mylist1"
   ]
  },
  {
   "cell_type": "code",
   "execution_count": 75,
   "id": "344fa29d",
   "metadata": {},
   "outputs": [],
   "source": [
    "k=['z','y','c']\n",
    "k.sort(reverse=False)"
   ]
  },
  {
   "cell_type": "code",
   "execution_count": 76,
   "id": "502009b1",
   "metadata": {},
   "outputs": [
    {
     "data": {
      "text/plain": [
       "['c', 'y', 'z']"
      ]
     },
     "execution_count": 76,
     "metadata": {},
     "output_type": "execute_result"
    }
   ],
   "source": [
    "k"
   ]
  },
  {
   "cell_type": "code",
   "execution_count": 77,
   "id": "00c1c7ce",
   "metadata": {},
   "outputs": [
    {
     "data": {
      "text/plain": [
       "'john'"
      ]
     },
     "execution_count": 77,
     "metadata": {},
     "output_type": "execute_result"
    }
   ],
   "source": [
    "mylist.pop()"
   ]
  },
  {
   "cell_type": "code",
   "execution_count": 78,
   "id": "94fbd071",
   "metadata": {},
   "outputs": [],
   "source": [
    "mylist.clear()"
   ]
  },
  {
   "cell_type": "code",
   "execution_count": 79,
   "id": "e2ad14e1",
   "metadata": {},
   "outputs": [
    {
     "data": {
      "text/plain": [
       "[]"
      ]
     },
     "execution_count": 79,
     "metadata": {},
     "output_type": "execute_result"
    }
   ],
   "source": [
    "mylist"
   ]
  },
  {
   "cell_type": "code",
   "execution_count": 84,
   "id": "e3d1310f",
   "metadata": {},
   "outputs": [],
   "source": [
    "mylist1 = ['x' , 'y' , 'z']"
   ]
  },
  {
   "cell_type": "code",
   "execution_count": 85,
   "id": "efb33aa0",
   "metadata": {},
   "outputs": [],
   "source": [
    "del mylist1 #Deletes the variable"
   ]
  },
  {
   "cell_type": "code",
   "execution_count": 87,
   "id": "e542ddde",
   "metadata": {},
   "outputs": [],
   "source": [
    "list1=[\"a\" , \"b\" , [\"c\" , \"d\" , \"e\"],\"f\",1.5]"
   ]
  },
  {
   "cell_type": "code",
   "execution_count": 90,
   "id": "2c4ac25c",
   "metadata": {},
   "outputs": [
    {
     "data": {
      "text/plain": [
       "'b'"
      ]
     },
     "execution_count": 90,
     "metadata": {},
     "output_type": "execute_result"
    }
   ],
   "source": [
    "list1[1]"
   ]
  },
  {
   "cell_type": "code",
   "execution_count": 92,
   "id": "b0d64677",
   "metadata": {},
   "outputs": [
    {
     "data": {
      "text/plain": [
       "['c', 'd', 'e']"
      ]
     },
     "execution_count": 92,
     "metadata": {},
     "output_type": "execute_result"
    }
   ],
   "source": [
    "list1[2]"
   ]
  },
  {
   "cell_type": "code",
   "execution_count": 94,
   "id": "be5603ea",
   "metadata": {},
   "outputs": [
    {
     "data": {
      "text/plain": [
       "'d'"
      ]
     },
     "execution_count": 94,
     "metadata": {},
     "output_type": "execute_result"
    }
   ],
   "source": [
    "list1[2][1]  #Accessing the nested list elements"
   ]
  },
  {
   "cell_type": "code",
   "execution_count": 97,
   "id": "493857db",
   "metadata": {},
   "outputs": [
    {
     "data": {
      "text/plain": [
       "1.5"
      ]
     },
     "execution_count": 97,
     "metadata": {},
     "output_type": "execute_result"
    }
   ],
   "source": [
    "list1[4]"
   ]
  },
  {
   "cell_type": "code",
   "execution_count": 99,
   "id": "e662a5ea",
   "metadata": {},
   "outputs": [],
   "source": [
    "data1=[1,2,3,True,\"sun\"]"
   ]
  },
  {
   "cell_type": "code",
   "execution_count": 100,
   "id": "c625820b",
   "metadata": {},
   "outputs": [],
   "source": [
    "data2=[1,2,3,True,\"sun\",False]"
   ]
  },
  {
   "cell_type": "code",
   "execution_count": 101,
   "id": "60e29c86",
   "metadata": {},
   "outputs": [],
   "source": [
    "data3=[1,2,3,True,\"sun\",0]"
   ]
  },
  {
   "cell_type": "code",
   "execution_count": 102,
   "id": "950ab893",
   "metadata": {},
   "outputs": [
    {
     "data": {
      "text/plain": [
       "True"
      ]
     },
     "execution_count": 102,
     "metadata": {},
     "output_type": "execute_result"
    }
   ],
   "source": [
    "all(data1)"
   ]
  },
  {
   "cell_type": "code",
   "execution_count": 103,
   "id": "15d32946",
   "metadata": {},
   "outputs": [
    {
     "data": {
      "text/plain": [
       "False"
      ]
     },
     "execution_count": 103,
     "metadata": {},
     "output_type": "execute_result"
    }
   ],
   "source": [
    "all(data2)  #If any one member of the list is False or 0 then the output is False"
   ]
  },
  {
   "cell_type": "code",
   "execution_count": 104,
   "id": "0bd89313",
   "metadata": {},
   "outputs": [
    {
     "data": {
      "text/plain": [
       "False"
      ]
     },
     "execution_count": 104,
     "metadata": {},
     "output_type": "execute_result"
    }
   ],
   "source": [
    "all(data3)"
   ]
  },
  {
   "cell_type": "code",
   "execution_count": 112,
   "id": "c4e701a0",
   "metadata": {},
   "outputs": [],
   "source": [
    "data4=[\"\",False,1] #For any function if any one member is True or 1 then the output is True"
   ]
  },
  {
   "cell_type": "code",
   "execution_count": 113,
   "id": "0d60998e",
   "metadata": {},
   "outputs": [
    {
     "data": {
      "text/plain": [
       "True"
      ]
     },
     "execution_count": 113,
     "metadata": {},
     "output_type": "execute_result"
    }
   ],
   "source": [
    "any(data4)"
   ]
  },
  {
   "cell_type": "code",
   "execution_count": 3,
   "id": "e0332f99",
   "metadata": {},
   "outputs": [
    {
     "name": "stdout",
     "output_type": "stream",
     "text": [
      "Enter marks in subject 1: 99\n",
      "Enter marks in subject 2: 98\n",
      "Enter marks in subject 3: 90\n",
      "Enter marks in subject 4: 80\n",
      "Enter marks in subject 5: 89\n",
      "Total marks obtained by the student:  456\n",
      "Percentage obtained by the student:  91.2\n",
      "Congratulations! You got distinction.\n"
     ]
    }
   ],
   "source": [
    "#1. Write a program to display the result of the student\n",
    "#Collect five subjects data, calculate total,percentage, if the percentage is >85 - congratulate him stating that he got distinction\n",
    "#If its >60 and <85 = FC , if >35 and <60 = SC or else Fail\n",
    "\n",
    "#2. Write a program to verify the input is alpha,alphanumeric or digit.\n",
    "a=int(input(\"Enter marks in subject 1: \"))\n",
    "b=int(input(\"Enter marks in subject 2: \"))\n",
    "c=int(input(\"Enter marks in subject 3: \"))\n",
    "d=int(input(\"Enter marks in subject 4: \"))\n",
    "e=int(input(\"Enter marks in subject 5: \"))\n",
    "total_marks=a+b+c+d+e\n",
    "percentage=(a+b+c+d+e)*0.2\n",
    "print(\"Total marks obtained by the student: \",total_marks)\n",
    "print(\"Percentage obtained by the student: \",percentage)\n",
    "if(percentage>85):\n",
    "    print(\"Congratulations! You got distinction.\")\n",
    "elif(percentage>60 and percentage<85):\n",
    "    print(\"First Class\")\n",
    "elif(percentage>35 and percetnage<60):\n",
    "    print(\"Second Class\")\n",
    "else:\n",
    "    print(\"Fail\")"
   ]
  },
  {
   "cell_type": "code",
   "execution_count": 8,
   "id": "16c3c420",
   "metadata": {},
   "outputs": [
    {
     "name": "stdout",
     "output_type": "stream",
     "text": [
      "Enter :3456\n",
      "Both alphabets and characters\n"
     ]
    }
   ],
   "source": [
    "#2\n",
    "a=input(\"Enter :\")\n",
    "if(a.isalpha()):\n",
    "    print(\"Alphabets\")\n",
    "elif(a.isalnum()):\n",
    "    print(\"Both alphabets and characters\")\n",
    "elif(a.isdigit()):\n",
    "    print(\"Digits\")\n",
    "else:\n",
    "    print(\"None\")"
   ]
  },
  {
   "cell_type": "code",
   "execution_count": null,
   "id": "5d90bc78",
   "metadata": {},
   "outputs": [],
   "source": []
  }
 ],
 "metadata": {
  "kernelspec": {
   "display_name": "Python 3 (ipykernel)",
   "language": "python",
   "name": "python3"
  },
  "language_info": {
   "codemirror_mode": {
    "name": "ipython",
    "version": 3
   },
   "file_extension": ".py",
   "mimetype": "text/x-python",
   "name": "python",
   "nbconvert_exporter": "python",
   "pygments_lexer": "ipython3",
   "version": "3.11.4"
  }
 },
 "nbformat": 4,
 "nbformat_minor": 5
}
