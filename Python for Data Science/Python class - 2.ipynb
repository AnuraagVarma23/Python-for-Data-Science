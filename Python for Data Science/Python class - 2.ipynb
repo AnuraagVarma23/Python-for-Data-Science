{
 "cells": [
  {
   "cell_type": "markdown",
   "id": "f357017c",
   "metadata": {},
   "source": [
    "### VARIABLE ASSIGNMENT\n"
   ]
  },
  {
   "cell_type": "code",
   "execution_count": 1,
   "id": "193a9ace",
   "metadata": {},
   "outputs": [],
   "source": [
    "a=10\n",
    "b=20\n",
    "name=\"anuraag\""
   ]
  },
  {
   "cell_type": "code",
   "execution_count": 2,
   "id": "c4cd2158",
   "metadata": {},
   "outputs": [
    {
     "name": "stdout",
     "output_type": "stream",
     "text": [
      "10 20 anuraag\n"
     ]
    }
   ],
   "source": [
    "print(a,b,name)"
   ]
  },
  {
   "cell_type": "code",
   "execution_count": 4,
   "id": "c5be085a",
   "metadata": {},
   "outputs": [],
   "source": [
    "# Q1 - Create an Id card"
   ]
  },
  {
   "cell_type": "code",
   "execution_count": 6,
   "id": "6e2596c1",
   "metadata": {},
   "outputs": [
    {
     "name": "stdout",
     "output_type": "stream",
     "text": [
      "____________________________________\n",
      "|           DATA MITES              \n",
      "|__  __  __  __  __  __  __  __  __ \n"
     ]
    }
   ],
   "source": [
    "print(\"____________________________________\")\n",
    "print(\"|           DATA MITES              \")\n",
    "print(\"|__  __  __  __  __  __  __  __  __ \")"
   ]
  },
  {
   "cell_type": "markdown",
   "id": "9b973c00",
   "metadata": {},
   "source": [
    "### Multiple assignment"
   ]
  },
  {
   "cell_type": "code",
   "execution_count": 7,
   "id": "ebc560b9",
   "metadata": {},
   "outputs": [
    {
     "name": "stdout",
     "output_type": "stream",
     "text": [
      "12 34 anuraag\n"
     ]
    }
   ],
   "source": [
    "a,b,name=12,34,\"anuraag\"\n",
    "print(a,b,name)"
   ]
  },
  {
   "cell_type": "code",
   "execution_count": 8,
   "id": "b61bedfa",
   "metadata": {},
   "outputs": [
    {
     "name": "stdout",
     "output_type": "stream",
     "text": [
      "10 10 10\n"
     ]
    }
   ],
   "source": [
    "x=10\n",
    "y=10\n",
    "z=10\n",
    "print(x,y,z)"
   ]
  },
  {
   "cell_type": "code",
   "execution_count": 9,
   "id": "397f0e7e",
   "metadata": {},
   "outputs": [
    {
     "name": "stdout",
     "output_type": "stream",
     "text": [
      "11 11 11\n"
     ]
    }
   ],
   "source": [
    "x=y=z=11\n",
    "print(x,y,z)"
   ]
  },
  {
   "cell_type": "markdown",
   "id": "971ae9b2",
   "metadata": {},
   "source": [
    "### Data types"
   ]
  },
  {
   "cell_type": "code",
   "execution_count": 10,
   "id": "5c3f32b2",
   "metadata": {},
   "outputs": [
    {
     "name": "stdout",
     "output_type": "stream",
     "text": [
      "<class 'int'>\n"
     ]
    }
   ],
   "source": [
    "a=24\n",
    "print(type(a))"
   ]
  },
  {
   "cell_type": "code",
   "execution_count": 11,
   "id": "acd97a2a",
   "metadata": {},
   "outputs": [
    {
     "name": "stdout",
     "output_type": "stream",
     "text": [
      "<class 'float'>\n"
     ]
    }
   ],
   "source": [
    "b=12.34\n",
    "print(type(b))"
   ]
  },
  {
   "cell_type": "code",
   "execution_count": 14,
   "id": "69c8de18",
   "metadata": {},
   "outputs": [
    {
     "name": "stdout",
     "output_type": "stream",
     "text": [
      "<class 'complex'>\n"
     ]
    }
   ],
   "source": [
    "c=5+6j\n",
    "print(type(c))"
   ]
  },
  {
   "cell_type": "code",
   "execution_count": 15,
   "id": "ef9a1338",
   "metadata": {},
   "outputs": [
    {
     "name": "stdout",
     "output_type": "stream",
     "text": [
      "<class 'str'>\n"
     ]
    }
   ],
   "source": [
    "d=\"anuraag\"\n",
    "print(type(d))"
   ]
  },
  {
   "cell_type": "code",
   "execution_count": 16,
   "id": "a2f390ff",
   "metadata": {},
   "outputs": [
    {
     "name": "stdout",
     "output_type": "stream",
     "text": [
      "<class 'int'>\n"
     ]
    }
   ],
   "source": [
    "e=-24\n",
    "print(type(e))"
   ]
  },
  {
   "cell_type": "code",
   "execution_count": 17,
   "id": "c46e4a3d",
   "metadata": {},
   "outputs": [
    {
     "name": "stdout",
     "output_type": "stream",
     "text": [
      "<class 'float'>\n"
     ]
    }
   ],
   "source": [
    "f=-1.24\n",
    "print(type(f))"
   ]
  },
  {
   "cell_type": "code",
   "execution_count": 18,
   "id": "62ff2cfa",
   "metadata": {},
   "outputs": [
    {
     "name": "stdout",
     "output_type": "stream",
     "text": [
      "<class 'bool'>\n"
     ]
    }
   ],
   "source": [
    "g=True\n",
    "print(type(g))"
   ]
  },
  {
   "cell_type": "code",
   "execution_count": 20,
   "id": "4f08c3fc",
   "metadata": {},
   "outputs": [
    {
     "data": {
      "text/plain": [
       "True"
      ]
     },
     "execution_count": 20,
     "metadata": {},
     "output_type": "execute_result"
    }
   ],
   "source": [
    "5>2"
   ]
  },
  {
   "cell_type": "code",
   "execution_count": 21,
   "id": "b4abcaf8",
   "metadata": {},
   "outputs": [
    {
     "data": {
      "text/plain": [
       "True"
      ]
     },
     "execution_count": 21,
     "metadata": {},
     "output_type": "execute_result"
    }
   ],
   "source": [
    "12==12"
   ]
  },
  {
   "cell_type": "code",
   "execution_count": 22,
   "id": "724ef535",
   "metadata": {},
   "outputs": [
    {
     "data": {
      "text/plain": [
       "True"
      ]
     },
     "execution_count": 22,
     "metadata": {},
     "output_type": "execute_result"
    }
   ],
   "source": [
    "True==1"
   ]
  },
  {
   "cell_type": "code",
   "execution_count": 23,
   "id": "7257195d",
   "metadata": {},
   "outputs": [
    {
     "data": {
      "text/plain": [
       "True"
      ]
     },
     "execution_count": 23,
     "metadata": {},
     "output_type": "execute_result"
    }
   ],
   "source": [
    "False==0"
   ]
  },
  {
   "cell_type": "code",
   "execution_count": 25,
   "id": "df49c3af",
   "metadata": {},
   "outputs": [
    {
     "name": "stdout",
     "output_type": "stream",
     "text": [
      "\n",
      "Here is a list of the Python keywords.  Enter any keyword to get more help.\n",
      "\n",
      "False               class               from                or\n",
      "None                continue            global              pass\n",
      "True                def                 if                  raise\n",
      "and                 del                 import              return\n",
      "as                  elif                in                  try\n",
      "assert              else                is                  while\n",
      "async               except              lambda              with\n",
      "await               finally             nonlocal            yield\n",
      "break               for                 not                 \n",
      "\n"
     ]
    }
   ],
   "source": [
    "help(\"keywords\")"
   ]
  },
  {
   "cell_type": "code",
   "execution_count": 28,
   "id": "08f0c395",
   "metadata": {},
   "outputs": [
    {
     "name": "stdout",
     "output_type": "stream",
     "text": [
      "Help on class int in module builtins:\n",
      "\n",
      "class int(object)\n",
      " |  int([x]) -> integer\n",
      " |  int(x, base=10) -> integer\n",
      " |  \n",
      " |  Convert a number or string to an integer, or return 0 if no arguments\n",
      " |  are given.  If x is a number, return x.__int__().  For floating point\n",
      " |  numbers, this truncates towards zero.\n",
      " |  \n",
      " |  If x is not a number or if base is given, then x must be a string,\n",
      " |  bytes, or bytearray instance representing an integer literal in the\n",
      " |  given base.  The literal can be preceded by '+' or '-' and be surrounded\n",
      " |  by whitespace.  The base defaults to 10.  Valid bases are 0 and 2-36.\n",
      " |  Base 0 means to interpret the base from the string as an integer literal.\n",
      " |  >>> int('0b100', base=0)\n",
      " |  4\n",
      " |  \n",
      " |  Built-in subclasses:\n",
      " |      bool\n",
      " |  \n",
      " |  Methods defined here:\n",
      " |  \n",
      " |  __abs__(self, /)\n",
      " |      abs(self)\n",
      " |  \n",
      " |  __add__(self, value, /)\n",
      " |      Return self+value.\n",
      " |  \n",
      " |  __and__(self, value, /)\n",
      " |      Return self&value.\n",
      " |  \n",
      " |  __bool__(self, /)\n",
      " |      True if self else False\n",
      " |  \n",
      " |  __ceil__(...)\n",
      " |      Ceiling of an Integral returns itself.\n",
      " |  \n",
      " |  __divmod__(self, value, /)\n",
      " |      Return divmod(self, value).\n",
      " |  \n",
      " |  __eq__(self, value, /)\n",
      " |      Return self==value.\n",
      " |  \n",
      " |  __float__(self, /)\n",
      " |      float(self)\n",
      " |  \n",
      " |  __floor__(...)\n",
      " |      Flooring an Integral returns itself.\n",
      " |  \n",
      " |  __floordiv__(self, value, /)\n",
      " |      Return self//value.\n",
      " |  \n",
      " |  __format__(self, format_spec, /)\n",
      " |      Default object formatter.\n",
      " |  \n",
      " |  __ge__(self, value, /)\n",
      " |      Return self>=value.\n",
      " |  \n",
      " |  __getattribute__(self, name, /)\n",
      " |      Return getattr(self, name).\n",
      " |  \n",
      " |  __getnewargs__(self, /)\n",
      " |  \n",
      " |  __gt__(self, value, /)\n",
      " |      Return self>value.\n",
      " |  \n",
      " |  __hash__(self, /)\n",
      " |      Return hash(self).\n",
      " |  \n",
      " |  __index__(self, /)\n",
      " |      Return self converted to an integer, if self is suitable for use as an index into a list.\n",
      " |  \n",
      " |  __int__(self, /)\n",
      " |      int(self)\n",
      " |  \n",
      " |  __invert__(self, /)\n",
      " |      ~self\n",
      " |  \n",
      " |  __le__(self, value, /)\n",
      " |      Return self<=value.\n",
      " |  \n",
      " |  __lshift__(self, value, /)\n",
      " |      Return self<<value.\n",
      " |  \n",
      " |  __lt__(self, value, /)\n",
      " |      Return self<value.\n",
      " |  \n",
      " |  __mod__(self, value, /)\n",
      " |      Return self%value.\n",
      " |  \n",
      " |  __mul__(self, value, /)\n",
      " |      Return self*value.\n",
      " |  \n",
      " |  __ne__(self, value, /)\n",
      " |      Return self!=value.\n",
      " |  \n",
      " |  __neg__(self, /)\n",
      " |      -self\n",
      " |  \n",
      " |  __or__(self, value, /)\n",
      " |      Return self|value.\n",
      " |  \n",
      " |  __pos__(self, /)\n",
      " |      +self\n",
      " |  \n",
      " |  __pow__(self, value, mod=None, /)\n",
      " |      Return pow(self, value, mod).\n",
      " |  \n",
      " |  __radd__(self, value, /)\n",
      " |      Return value+self.\n",
      " |  \n",
      " |  __rand__(self, value, /)\n",
      " |      Return value&self.\n",
      " |  \n",
      " |  __rdivmod__(self, value, /)\n",
      " |      Return divmod(value, self).\n",
      " |  \n",
      " |  __repr__(self, /)\n",
      " |      Return repr(self).\n",
      " |  \n",
      " |  __rfloordiv__(self, value, /)\n",
      " |      Return value//self.\n",
      " |  \n",
      " |  __rlshift__(self, value, /)\n",
      " |      Return value<<self.\n",
      " |  \n",
      " |  __rmod__(self, value, /)\n",
      " |      Return value%self.\n",
      " |  \n",
      " |  __rmul__(self, value, /)\n",
      " |      Return value*self.\n",
      " |  \n",
      " |  __ror__(self, value, /)\n",
      " |      Return value|self.\n",
      " |  \n",
      " |  __round__(...)\n",
      " |      Rounding an Integral returns itself.\n",
      " |      \n",
      " |      Rounding with an ndigits argument also returns an integer.\n",
      " |  \n",
      " |  __rpow__(self, value, mod=None, /)\n",
      " |      Return pow(value, self, mod).\n",
      " |  \n",
      " |  __rrshift__(self, value, /)\n",
      " |      Return value>>self.\n",
      " |  \n",
      " |  __rshift__(self, value, /)\n",
      " |      Return self>>value.\n",
      " |  \n",
      " |  __rsub__(self, value, /)\n",
      " |      Return value-self.\n",
      " |  \n",
      " |  __rtruediv__(self, value, /)\n",
      " |      Return value/self.\n",
      " |  \n",
      " |  __rxor__(self, value, /)\n",
      " |      Return value^self.\n",
      " |  \n",
      " |  __sizeof__(self, /)\n",
      " |      Returns size in memory, in bytes.\n",
      " |  \n",
      " |  __sub__(self, value, /)\n",
      " |      Return self-value.\n",
      " |  \n",
      " |  __truediv__(self, value, /)\n",
      " |      Return self/value.\n",
      " |  \n",
      " |  __trunc__(...)\n",
      " |      Truncating an Integral returns itself.\n",
      " |  \n",
      " |  __xor__(self, value, /)\n",
      " |      Return self^value.\n",
      " |  \n",
      " |  as_integer_ratio(self, /)\n",
      " |      Return integer ratio.\n",
      " |      \n",
      " |      Return a pair of integers, whose ratio is exactly equal to the original int\n",
      " |      and with a positive denominator.\n",
      " |      \n",
      " |      >>> (10).as_integer_ratio()\n",
      " |      (10, 1)\n",
      " |      >>> (-10).as_integer_ratio()\n",
      " |      (-10, 1)\n",
      " |      >>> (0).as_integer_ratio()\n",
      " |      (0, 1)\n",
      " |  \n",
      " |  bit_count(self, /)\n",
      " |      Number of ones in the binary representation of the absolute value of self.\n",
      " |      \n",
      " |      Also known as the population count.\n",
      " |      \n",
      " |      >>> bin(13)\n",
      " |      '0b1101'\n",
      " |      >>> (13).bit_count()\n",
      " |      3\n",
      " |  \n",
      " |  bit_length(self, /)\n",
      " |      Number of bits necessary to represent self in binary.\n",
      " |      \n",
      " |      >>> bin(37)\n",
      " |      '0b100101'\n",
      " |      >>> (37).bit_length()\n",
      " |      6\n",
      " |  \n",
      " |  conjugate(...)\n",
      " |      Returns self, the complex conjugate of any int.\n",
      " |  \n",
      " |  to_bytes(self, /, length=1, byteorder='big', *, signed=False)\n",
      " |      Return an array of bytes representing an integer.\n",
      " |      \n",
      " |      length\n",
      " |        Length of bytes object to use.  An OverflowError is raised if the\n",
      " |        integer is not representable with the given number of bytes.  Default\n",
      " |        is length 1.\n",
      " |      byteorder\n",
      " |        The byte order used to represent the integer.  If byteorder is 'big',\n",
      " |        the most significant byte is at the beginning of the byte array.  If\n",
      " |        byteorder is 'little', the most significant byte is at the end of the\n",
      " |        byte array.  To request the native byte order of the host system, use\n",
      " |        `sys.byteorder' as the byte order value.  Default is to use 'big'.\n",
      " |      signed\n",
      " |        Determines whether two's complement is used to represent the integer.\n",
      " |        If signed is False and a negative integer is given, an OverflowError\n",
      " |        is raised.\n",
      " |  \n",
      " |  ----------------------------------------------------------------------\n",
      " |  Class methods defined here:\n",
      " |  \n",
      " |  from_bytes(bytes, byteorder='big', *, signed=False) from builtins.type\n",
      " |      Return the integer represented by the given array of bytes.\n",
      " |      \n",
      " |      bytes\n",
      " |        Holds the array of bytes to convert.  The argument must either\n",
      " |        support the buffer protocol or be an iterable object producing bytes.\n",
      " |        Bytes and bytearray are examples of built-in objects that support the\n",
      " |        buffer protocol.\n",
      " |      byteorder\n",
      " |        The byte order used to represent the integer.  If byteorder is 'big',\n",
      " |        the most significant byte is at the beginning of the byte array.  If\n",
      " |        byteorder is 'little', the most significant byte is at the end of the\n",
      " |        byte array.  To request the native byte order of the host system, use\n",
      " |        `sys.byteorder' as the byte order value.  Default is to use 'big'.\n",
      " |      signed\n",
      " |        Indicates whether two's complement is used to represent the integer.\n",
      " |  \n",
      " |  ----------------------------------------------------------------------\n",
      " |  Static methods defined here:\n",
      " |  \n",
      " |  __new__(*args, **kwargs) from builtins.type\n",
      " |      Create and return a new object.  See help(type) for accurate signature.\n",
      " |  \n",
      " |  ----------------------------------------------------------------------\n",
      " |  Data descriptors defined here:\n",
      " |  \n",
      " |  denominator\n",
      " |      the denominator of a rational number in lowest terms\n",
      " |  \n",
      " |  imag\n",
      " |      the imaginary part of a complex number\n",
      " |  \n",
      " |  numerator\n",
      " |      the numerator of a rational number in lowest terms\n",
      " |  \n",
      " |  real\n",
      " |      the real part of a complex number\n",
      "\n"
     ]
    }
   ],
   "source": [
    "help(int)"
   ]
  },
  {
   "cell_type": "markdown",
   "id": "941a3205",
   "metadata": {},
   "source": [
    "### Indentation"
   ]
  },
  {
   "cell_type": "code",
   "execution_count": 29,
   "id": "dfc2b7b9",
   "metadata": {},
   "outputs": [
    {
     "ename": "IndentationError",
     "evalue": "unexpected indent (1919674935.py, line 3)",
     "output_type": "error",
     "traceback": [
      "\u001b[1;36m  Cell \u001b[1;32mIn[29], line 3\u001b[1;36m\u001b[0m\n\u001b[1;33m    print(x)\u001b[0m\n\u001b[1;37m    ^\u001b[0m\n\u001b[1;31mIndentationError\u001b[0m\u001b[1;31m:\u001b[0m unexpected indent\n"
     ]
    }
   ],
   "source": [
    "# Cannot Use unnecessary spaces\n",
    "x=100\n",
    "    print(x)"
   ]
  },
  {
   "cell_type": "markdown",
   "id": "1b6478c1",
   "metadata": {},
   "source": [
    "### Boolean function"
   ]
  },
  {
   "cell_type": "code",
   "execution_count": 30,
   "id": "f4654423",
   "metadata": {},
   "outputs": [
    {
     "data": {
      "text/plain": [
       "True"
      ]
     },
     "execution_count": 30,
     "metadata": {},
     "output_type": "execute_result"
    }
   ],
   "source": [
    "c=10\n",
    "bool(c)"
   ]
  },
  {
   "cell_type": "code",
   "execution_count": 31,
   "id": "6eefb98d",
   "metadata": {},
   "outputs": [
    {
     "data": {
      "text/plain": [
       "True"
      ]
     },
     "execution_count": 31,
     "metadata": {},
     "output_type": "execute_result"
    }
   ],
   "source": [
    "bool(100)"
   ]
  },
  {
   "cell_type": "code",
   "execution_count": 32,
   "id": "0ea3adec",
   "metadata": {},
   "outputs": [
    {
     "data": {
      "text/plain": [
       "True"
      ]
     },
     "execution_count": 32,
     "metadata": {},
     "output_type": "execute_result"
    }
   ],
   "source": [
    "bool(-1.24)"
   ]
  },
  {
   "cell_type": "code",
   "execution_count": 33,
   "id": "5cb7d258",
   "metadata": {},
   "outputs": [
    {
     "data": {
      "text/plain": [
       "False"
      ]
     },
     "execution_count": 33,
     "metadata": {},
     "output_type": "execute_result"
    }
   ],
   "source": [
    "bool()"
   ]
  },
  {
   "cell_type": "code",
   "execution_count": 34,
   "id": "43a4b6c9",
   "metadata": {},
   "outputs": [
    {
     "data": {
      "text/plain": [
       "False"
      ]
     },
     "execution_count": 34,
     "metadata": {},
     "output_type": "execute_result"
    }
   ],
   "source": [
    "bool(0)"
   ]
  },
  {
   "cell_type": "code",
   "execution_count": 35,
   "id": "ae375302",
   "metadata": {},
   "outputs": [
    {
     "data": {
      "text/plain": [
       "True"
      ]
     },
     "execution_count": 35,
     "metadata": {},
     "output_type": "execute_result"
    }
   ],
   "source": [
    "bool(0.02)"
   ]
  },
  {
   "cell_type": "code",
   "execution_count": 36,
   "id": "d1f93d8f",
   "metadata": {},
   "outputs": [
    {
     "data": {
      "text/plain": [
       "False"
      ]
     },
     "execution_count": 36,
     "metadata": {},
     "output_type": "execute_result"
    }
   ],
   "source": [
    "bool(\"\")"
   ]
  },
  {
   "cell_type": "code",
   "execution_count": 37,
   "id": "867f1947",
   "metadata": {},
   "outputs": [
    {
     "data": {
      "text/plain": [
       "True"
      ]
     },
     "execution_count": 37,
     "metadata": {},
     "output_type": "execute_result"
    }
   ],
   "source": [
    "bool(True)"
   ]
  },
  {
   "cell_type": "code",
   "execution_count": 38,
   "id": "a938bfd1",
   "metadata": {},
   "outputs": [
    {
     "data": {
      "text/plain": [
       "True"
      ]
     },
     "execution_count": 38,
     "metadata": {},
     "output_type": "execute_result"
    }
   ],
   "source": [
    "bool(5+6j)"
   ]
  },
  {
   "cell_type": "code",
   "execution_count": 39,
   "id": "71e58d54",
   "metadata": {},
   "outputs": [
    {
     "data": {
      "text/plain": [
       "False"
      ]
     },
     "execution_count": 39,
     "metadata": {},
     "output_type": "execute_result"
    }
   ],
   "source": [
    "bool(False)"
   ]
  },
  {
   "cell_type": "code",
   "execution_count": 43,
   "id": "04244ae4",
   "metadata": {},
   "outputs": [
    {
     "name": "stdout",
     "output_type": "stream",
     "text": [
      "<class 'str'>\n"
     ]
    }
   ],
   "source": [
    "s=\"1285768\"\n",
    "print(type(s))"
   ]
  },
  {
   "cell_type": "code",
   "execution_count": 49,
   "id": "e818f15a",
   "metadata": {},
   "outputs": [
    {
     "data": {
      "text/plain": [
       "5.0"
      ]
     },
     "execution_count": 49,
     "metadata": {},
     "output_type": "execute_result"
    }
   ],
   "source": [
    "from math import sqrt\n",
    "sqrt(25)"
   ]
  },
  {
   "cell_type": "code",
   "execution_count": 53,
   "id": "891f627a",
   "metadata": {},
   "outputs": [
    {
     "name": "stdout",
     "output_type": "stream",
     "text": [
      "\n",
      "Please wait a moment while I gather a list of all available modules...\n",
      "\n"
     ]
    },
    {
     "name": "stderr",
     "output_type": "stream",
     "text": [
      "WARNING: AstropyDeprecationWarning: The private astropy._erfa module has been made into its own package, pyerfa, which is a dependency of astropy and can be imported directly using \"import erfa\" [astropy._erfa]\n",
      "C:\\Users\\anura\\anaconda3\\Lib\\site-packages\\paramiko\\transport.py:219: CryptographyDeprecationWarning: Blowfish has been deprecated\n",
      "  \"class\": algorithms.Blowfish,\n",
      "C:\\Users\\anura\\anaconda3\\Lib\\site-packages\\nltk\\twitter\\__init__.py:20: UserWarning: The twython library has not been installed. Some functionality from the twitter package will not be available.\n",
      "  warnings.warn(\n",
      "C:\\Users\\anura\\anaconda3\\Lib\\pkgutil.py:92: NumbaPendingDeprecationWarning: \u001b[1mThe 'pycc' module is pending deprecation. Replacement technology is being developed.\n",
      "\n",
      "Pending Deprecation in Numba 0.57.0. For more information please see: https://numba.readthedocs.io/en/stable/reference/deprecation.html#deprecation-of-the-numba-pycc-module\u001b[0m\n",
      "  __import__(info.name)\n",
      "C:\\Users\\anura\\anaconda3\\Lib\\pkgutil.py:92: UserWarning: The numpy.array_api submodule is still experimental. See NEP 47.\n",
      "  __import__(info.name)\n",
      "C:\\Users\\anura\\anaconda3\\Lib\\site-packages\\_distutils_hack\\__init__.py:33: UserWarning: Setuptools is replacing distutils.\n",
      "  warnings.warn(\"Setuptools is replacing distutils.\")\n",
      "No QCoreApplication instance found. Application patches not applied. You have to call load_stylesheet function after instantiation of QApplication to take effect. \n",
      "Neither PyTorch nor TensorFlow >= 2.0 have been found.Models won't be available and only tokenizers, configurationand file/data utilities can be used.\n",
      "C:\\Users\\anura\\anaconda3\\Lib\\pkgutil.py:107: VisibleDeprecationWarning:\n",
      "\n",
      "zmq.eventloop.minitornado is deprecated in pyzmq 14.0 and will be removed.\n",
      "    Install tornado itself to use zmq with the tornado IOLoop.\n",
      "    \n",
      "\n"
     ]
    },
    {
     "name": "stdout",
     "output_type": "stream",
     "text": [
      "IPython             compileall          mdurl               smart_open\n",
      "OpenSSL             concurrent          menuinst            smtpd\n",
      "PIL                 conda               mimetypes           smtplib\n",
      "PyQt5               conda_build         mistune             snappy\n",
      "TBB                 conda_content_trust mkl                 sndhdr\n",
      "__future__          conda_env           mkl_fft             sniffio\n",
      "__hello__           conda_index         mkl_random          snowballstemmer\n",
      "__phello__          conda_libmamba_solver mmap                socket\n",
      "_abc                conda_pack          mmapfile            socketserver\n",
      "_aix_support        conda_package_handling mmsystem            socks\n",
      "_argon2_cffi_bindings conda_package_streaming modulefinder        sockshandler\n",
      "_ast                conda_token         more_itertools      sortedcontainers\n",
      "_asyncio            conda_verify        mpmath              soupsieve\n",
      "_bisect             configparser        msgpack             sphinx\n",
      "_black_version      constantly          msilib              spyder\n",
      "_blake2             contextlib          msvcrt              spyder_kernels\n",
      "_bootsubprocess     contextvars         multidict           sqlalchemy\n",
      "_bz2                contourpy           multipledispatch    sqlite3\n",
      "_cffi_backend       cookiecutter        multiprocessing     sre_compile\n",
      "_codecs             copy                munkres             sre_constants\n",
      "_codecs_cn          copyreg             mypy_extensions     sre_parse\n",
      "_codecs_hk          cpuinfo             nacl                ssl\n",
      "_codecs_iso2022     crypt               navigator_updater   sspi\n",
      "_codecs_jp          cryptography        nbclassic           sspicon\n",
      "_codecs_kr          cssselect           nbclient            stack_data\n",
      "_codecs_tw          csv                 nbconvert           stat\n",
      "_collections        ctypes              nbformat            statistics\n",
      "_collections_abc    curl                nest_asyncio        statsmodels\n",
      "_compat_pickle      curses              netbios             string\n",
      "_compression        cwp                 netrc               stringprep\n",
      "_contextvars        cycler              networkx            struct\n",
      "_csv                cytoolz             nltk                subprocess\n",
      "_ctypes             daal4py             nntplib             sunau\n",
      "_ctypes_test        dask                notebook            sympy\n",
      "_datetime           dataclasses         notebook_shim       symtable\n",
      "_decimal            datashader          nt                  sys\n",
      "_distutils_hack     datashape           ntpath              sysconfig\n",
      "_elementtree        datetime            ntsecuritycon       tables\n",
      "_functools          dateutil            nturl2path          tabnanny\n",
      "_hashlib            dbi                 numba               tabulate\n",
      "_heapq              dbm                 numbergen           tarfile\n",
      "_imp                dde                 numbers             tbb\n",
      "_io                 debugpy             numexpr             tblib\n",
      "_json               decimal             numpy               telnetlib\n",
      "_locale             decorator           numpydoc            tempfile\n",
      "_lsprof             defusedxml          odbc                tenacity\n",
      "_lzma               diff_match_patch    onedal              terminado\n",
      "_markupbase         difflib             opcode              test\n",
      "_md5                dill                openpyxl            test_pycosat\n",
      "_msi                dis                 operator            text_unidecode\n",
      "_multibytecodec     distributed         optparse            textdistance\n",
      "_multiprocessing    distutils           os                  textwrap\n",
      "_nsis               docstring_to_markdown packaging           this\n",
      "_opcode             doctest             pandas              threading\n",
      "_operator           docutils            pandocfilters       threadpoolctl\n",
      "_osx_support        email               panel               three_merge\n",
      "_overlapped         encodings           param               tifffile\n",
      "_pickle             ensurepip           paramiko            time\n",
      "_plotly_future_     entrypoints         parsel              timeit\n",
      "_plotly_utils       enum                parso               timer\n",
      "_py_abc             erfa                partd               tinycss2\n",
      "_pydecimal          errno               past                tkinter\n",
      "_pyio               et_xmlfile          pathlib             tldextract\n",
      "_pyrsistent_version executing           pathspec            tlz\n",
      "_pytest             fastjsonschema      patsy               token\n",
      "_queue              faulthandler        pdb                 tokenize\n",
      "_random             filecmp             pep8                toml\n",
      "_sha1               fileinput           perfmon             tomlkit\n",
      "_sha256             filelock            pexpect             tomllib\n",
      "_sha3               flake8              pickle              toolz\n",
      "_sha512             flask               pickleshare         tornado\n",
      "_signal             fnmatch             pickletools         tqdm\n",
      "_sitebuiltins       fontTools           pip                 trace\n",
      "_socket             fractions           pipes               traceback\n",
      "_sqlite3            frozenlist          pkg_resources       tracemalloc\n",
      "_sre                fsspec              pkginfo             traitlets\n",
      "_ssl                ftplib              pkgutil             transformers\n",
      "_stat               functools           platform            tty\n",
      "_statistics         future              platformdirs        turtle\n",
      "_string             gc                  plistlib            turtledemo\n",
      "_strptime           genericpath         plotly              twisted\n",
      "_struct             gensim              pluggy              types\n",
      "_symtable           getopt              ply                 typing\n",
      "_system_path        getpass             pooch               typing_extensions\n",
      "_testbuffer         gettext             poplib              uc_micro\n",
      "_testcapi           glob                posixpath           ujson\n",
      "_testconsole        glob2               poyo                unicodedata\n",
      "_testimportmultiple graphlib            pprint              unidecode\n",
      "_testinternalcapi   greenlet            profile             unittest\n",
      "_testmultiphase     gzip                prometheus_client   urllib\n",
      "_thread             h5py                prompt_toolkit      urllib3\n",
      "_threading_local    hashlib             protego             uu\n",
      "_tkinter            heapdict            pstats              uuid\n",
      "_tokenize           heapq               psutil              venv\n",
      "_tracemalloc        hmac                pty                 w3lib\n",
      "_typing             holoviews           ptyprocess          warnings\n",
      "_uuid               html                pure_eval           watchdog\n",
      "_warnings           http                pvectorc            wave\n",
      "_weakref            hvplot              py                  wcwidth\n",
      "_weakrefset         hyperlink           py_compile          weakref\n",
      "_win32sysloader     idlelib             pyarrow             webbrowser\n",
      "_winapi             idna                pyasn1              webencodings\n",
      "_winxptheme         imagecodecs         pyasn1_modules      websocket\n",
      "_xxsubinterpreters  imageio             pyclbr              werkzeug\n",
      "_yaml               imagesize           pycodestyle         whatthepatch\n",
      "_zoneinfo           imaplib             pycosat             wheel\n",
      "abc                 imblearn            pycparser           widgetsnbextension\n",
      "adodbapi            imghdr              pyct                win2kras\n",
      "afxres              imp                 pycurl              win32api\n",
      "aifc                importlib           pydispatch          win32clipboard\n",
      "aiobotocore         importlib_metadata  pydoc               win32com\n",
      "aiofiles            incremental         pydoc_data          win32con\n",
      "aiohttp             inflection          pydocstyle          win32console\n",
      "aioitertools        iniconfig           pyexpat             win32cred\n",
      "aiosignal           inspect             pyflakes            win32crypt\n",
      "aiosqlite           intake              pygments            win32cryptcon\n",
      "alabaster           intervaltree        pylab               win32ctypes\n",
      "anaconda_catalogs   io                  pylint              win32event\n",
      "anaconda_navigator  ipaddress           pylint_venv         win32evtlog\n",
      "anaconda_project    ipykernel           pyls_spyder         win32evtlogutil\n",
      "antigravity         ipykernel_launcher  pylsp               win32file\n",
      "anyio               ipython_genutils    pylsp_black         win32gui\n",
      "appdirs             ipywidgets          pylsp_jsonrpc       win32gui_struct\n",
      "argon2              isapi               pyodbc              win32help\n",
      "argparse            isort               pyparsing           win32inet\n",
      "array               isympy              pyrsistent          win32inetcon\n",
      "arrow               itemadapter         pytest              win32job\n",
      "ast                 itemloaders         pythoncom           win32lz\n",
      "astroid             itertools           pythonjsonlogger    win32net\n",
      "astropy             itsdangerous        pytoolconfig        win32netcon\n",
      "asttokens           jedi                pytz                win32pdh\n",
      "async_timeout       jellyfish           pyviz_comms         win32pdhquery\n",
      "asynchat            jinja2              pywin               win32pdhutil\n",
      "asyncio             jinja2_time         pywin32_bootstrap   win32pipe\n",
      "asyncore            jmespath            pywin32_testutil    win32print\n",
      "atexit              joblib              pywintypes          win32process\n",
      "atomicwrites        json                pywt                win32profile\n",
      "attr                json5               qdarkstyle          win32ras\n",
      "attrs               jsonpatch           qstylizer           win32rcparser\n",
      "audioop             jsonpointer         qtawesome           win32security\n",
      "automat             jsonschema          qtconsole           win32service\n",
      "autopep8            jupyter             qtpy                win32serviceutil\n",
      "babel               jupyter_client      queue               win32timezone\n",
      "backcall            jupyter_console     queuelib            win32trace\n",
      "backports           jupyter_core        quopri              win32traceutil\n",
      "base64              jupyter_events      random              win32transaction\n",
      "bcrypt              jupyter_server      rasutil             win32ts\n",
      "bdb                 jupyter_server_fileid re                  win32ui\n",
      "binaryornot         jupyter_server_ydoc regcheck            win32uiole\n",
      "binascii            jupyter_ydoc        regex               win32verstamp\n",
      "binstar_client      jupyterlab          regutil             win32wnet\n",
      "bisect              jupyterlab_plotly   repo_cli            win_inet_pton\n",
      "black               jupyterlab_pygments reprlib             winerror\n",
      "blackd              jupyterlab_server   requests            winioctlcon\n",
      "bleach              jupyterlab_widgets  requests_file       winnt\n",
      "blib2to3            jwt                 requests_toolbelt   winperf\n",
      "bokeh               keyring             rfc3339_validator   winpty\n",
      "boltons             keyword             rfc3986_validator   winreg\n",
      "boto3               kiwisolver          rlcompleter         winsound\n",
      "botocore            lazy_loader         rope                winxpgui\n",
      "bottleneck          lazy_object_proxy   rtree               winxptheme\n",
      "brotli              lib2to3             ruamel_yaml         wrapt\n",
      "bs4                 libarchive          runpy               wsgiref\n",
      "builtins            libfuturize         s3fs                xarray\n",
      "bz2                 libmambapy          s3transfer          xdrlib\n",
      "cProfile            libpasteurize       sacremoses          xlwings\n",
      "calendar            lief                sched               xml\n",
      "certifi             linecache           scipy               xmlrpc\n",
      "cffi                linkify_it          scrapy              xxlimited\n",
      "cgi                 llvmlite            seaborn             xxlimited_35\n",
      "cgitb               lmdb                secrets             xxsubtype\n",
      "chardet             locale              select              xyzservices\n",
      "charset_normalizer  locket              selectors           y_py\n",
      "chunk               logging             send2trash          yaml\n",
      "click               lxml                service_identity    yapf\n",
      "cloudpickle         lz4                 servicemanager      yapftests\n",
      "clyent              lzma                setuptools          yarl\n",
      "cmath               mailbox             shelve              ypy_websocket\n",
      "cmd                 mailcap             shlex               zict\n",
      "code                markdown            shutil              zipapp\n",
      "codecs              markdown_it         signal              zipfile\n",
      "codeop              markupsafe          sipbuild            zipimport\n",
      "collections         marshal             site                zipp\n",
      "colorama            math                six                 zlib\n",
      "colorcet            matplotlib          skimage             zmq\n",
      "colorsys            matplotlib_inline   sklearn             zoneinfo\n",
      "comm                mccabe              sklearnex           zope\n",
      "commctrl            mdit_py_plugins     slugify             zstandard\n",
      "\n",
      "Enter any module name to get more help.  Or, type \"modules spam\" to search\n",
      "for modules whose name or summary contain the string \"spam\".\n",
      "\n"
     ]
    }
   ],
   "source": [
    "help(\"modules\")"
   ]
  },
  {
   "cell_type": "code",
   "execution_count": 54,
   "id": "ba2c243a",
   "metadata": {},
   "outputs": [
    {
     "data": {
      "text/plain": [
       "5.0"
      ]
     },
     "execution_count": 54,
     "metadata": {},
     "output_type": "execute_result"
    }
   ],
   "source": [
    "import math\n",
    "math.sqrt(25)"
   ]
  },
  {
   "cell_type": "code",
   "execution_count": 59,
   "id": "f742bbc7",
   "metadata": {},
   "outputs": [
    {
     "data": {
      "text/plain": [
       "0.0"
      ]
     },
     "execution_count": 59,
     "metadata": {},
     "output_type": "execute_result"
    }
   ],
   "source": [
    "import math  \n",
    "math.acos(1)         #Press tab after math. to see all functions"
   ]
  },
  {
   "cell_type": "markdown",
   "id": "d06de6bd",
   "metadata": {},
   "source": [
    "### Print Function\n"
   ]
  },
  {
   "cell_type": "code",
   "execution_count": 62,
   "id": "0247a8bc",
   "metadata": {},
   "outputs": [
    {
     "name": "stdout",
     "output_type": "stream",
     "text": [
      "my fname is ANURAAG and last name is VARMA\n"
     ]
    }
   ],
   "source": [
    "fname=\"ANURAAG\"\n",
    "lname=\"VARMA\"\n",
    "print(\"my fname is {} and last name is {}\".format(fname,lname))"
   ]
  },
  {
   "cell_type": "code",
   "execution_count": 65,
   "id": "f6d8e98b",
   "metadata": {
    "scrolled": true
   },
   "outputs": [
    {
     "name": "stdout",
     "output_type": "stream",
     "text": [
      "my first name is ANURAAG and last name is VARMA\n"
     ]
    }
   ],
   "source": [
    "#OR\n",
    "fname=\"ANURAAG\"\n",
    "lname=\"VARMA\"\n",
    "print(f\"my first name is {fname} and last name is {lname}\")"
   ]
  },
  {
   "cell_type": "code",
   "execution_count": 69,
   "id": "1942c792",
   "metadata": {},
   "outputs": [
    {
     "name": "stdout",
     "output_type": "stream",
     "text": [
      "my first name is ANURAAG and last name is VARMA\n"
     ]
    }
   ],
   "source": [
    "#OR\n",
    "fname=\"ANURAAG\"\n",
    "lname=\"VARMA\"\n",
    "print(\"my first name is\",fname, \"and last name is\",lname)"
   ]
  },
  {
   "cell_type": "code",
   "execution_count": 75,
   "id": "1e31644d",
   "metadata": {},
   "outputs": [],
   "source": [
    "import sys"
   ]
  },
  {
   "cell_type": "code",
   "execution_count": 78,
   "id": "b10944c8",
   "metadata": {},
   "outputs": [
    {
     "name": "stdout",
     "output_type": "stream",
     "text": [
      "<class 'int'>\n",
      "28\n",
      "11 the value is val1 * 45 is 495\n",
      "11 is float? True\n"
     ]
    }
   ],
   "source": [
    "val1 = 11\n",
    "print(type(val1))\n",
    "\n",
    "print(sys.getsizeof(val1))\n",
    "\n",
    "print(val1,\"the value is val1 * 45 is\",val1*45)\n",
    "print(val1,\"is float?\",isinstance(val1,int))  #as val1 is integer"
   ]
  },
  {
   "cell_type": "markdown",
   "id": "937139fd",
   "metadata": {},
   "source": [
    "### Strings"
   ]
  },
  {
   "cell_type": "code",
   "execution_count": 104,
   "id": "d4f2a19b",
   "metadata": {},
   "outputs": [
    {
     "data": {
      "text/plain": [
       "str"
      ]
     },
     "execution_count": 104,
     "metadata": {},
     "output_type": "execute_result"
    }
   ],
   "source": [
    "s=\"\"\n",
    "type(s)"
   ]
  },
  {
   "cell_type": "code",
   "execution_count": 105,
   "id": "03af1f63",
   "metadata": {},
   "outputs": [
    {
     "name": "stdout",
     "output_type": "stream",
     "text": [
      "anuraag  varma \n"
     ]
    }
   ],
   "source": [
    "fname=\"anuraag \"\n",
    "lname=\"varma \"\n",
    "print(fname +\" \"+ lname)"
   ]
  },
  {
   "cell_type": "code",
   "execution_count": 106,
   "id": "a6ca00db",
   "metadata": {},
   "outputs": [
    {
     "name": "stdout",
     "output_type": "stream",
     "text": [
      "anuraag anuraag anuraag anuraag anuraag \n",
      "varma varma varma varma varma \n",
      "hi hi hi \n"
     ]
    }
   ],
   "source": [
    "print(fname*5)\n",
    "print(5*lname)\n",
    "print(3*\"hi \")"
   ]
  },
  {
   "cell_type": "code",
   "execution_count": 107,
   "id": "b84fefd2",
   "metadata": {},
   "outputs": [
    {
     "data": {
      "text/plain": [
       "'45'"
      ]
     },
     "execution_count": 107,
     "metadata": {},
     "output_type": "execute_result"
    }
   ],
   "source": [
    "'4' + '5'"
   ]
  },
  {
   "cell_type": "markdown",
   "id": "cd8ab557",
   "metadata": {},
   "source": [
    "### Indexing"
   ]
  },
  {
   "cell_type": "code",
   "execution_count": 111,
   "id": "d01978a9",
   "metadata": {},
   "outputs": [
    {
     "data": {
      "text/plain": [
       "12"
      ]
     },
     "execution_count": 111,
     "metadata": {},
     "output_type": "execute_result"
    }
   ],
   "source": [
    "mystr=\"HELLO PYTHON\"\n",
    "len(mystr)"
   ]
  },
  {
   "cell_type": "code",
   "execution_count": 112,
   "id": "721ad046",
   "metadata": {},
   "outputs": [
    {
     "data": {
      "text/plain": [
       "'P'"
      ]
     },
     "execution_count": 112,
     "metadata": {},
     "output_type": "execute_result"
    }
   ],
   "source": [
    "mystr[6]"
   ]
  },
  {
   "cell_type": "code",
   "execution_count": 113,
   "id": "94c2274a",
   "metadata": {},
   "outputs": [
    {
     "data": {
      "text/plain": [
       "'P'"
      ]
     },
     "execution_count": 113,
     "metadata": {},
     "output_type": "execute_result"
    }
   ],
   "source": [
    "mystr[-6]"
   ]
  },
  {
   "cell_type": "code",
   "execution_count": 114,
   "id": "f291d527",
   "metadata": {},
   "outputs": [
    {
     "data": {
      "text/plain": [
       "'N'"
      ]
     },
     "execution_count": 114,
     "metadata": {},
     "output_type": "execute_result"
    }
   ],
   "source": [
    "mystr[-1]"
   ]
  },
  {
   "cell_type": "code",
   "execution_count": 115,
   "id": "4a04a432",
   "metadata": {},
   "outputs": [
    {
     "data": {
      "text/plain": [
       "'N'"
      ]
     },
     "execution_count": 115,
     "metadata": {},
     "output_type": "execute_result"
    }
   ],
   "source": [
    "mystr[11]"
   ]
  },
  {
   "cell_type": "markdown",
   "id": "e2a767dd",
   "metadata": {},
   "source": [
    "### Slicing "
   ]
  },
  {
   "cell_type": "code",
   "execution_count": 117,
   "id": "1ab43521",
   "metadata": {},
   "outputs": [
    {
     "data": {
      "text/plain": [
       "'LLO PY'"
      ]
     },
     "execution_count": 117,
     "metadata": {},
     "output_type": "execute_result"
    }
   ],
   "source": [
    "mystr[2:8]"
   ]
  },
  {
   "cell_type": "code",
   "execution_count": 118,
   "id": "2fdd3577",
   "metadata": {},
   "outputs": [
    {
     "data": {
      "text/plain": [
       "'ELLO PYTHO'"
      ]
     },
     "execution_count": 118,
     "metadata": {},
     "output_type": "execute_result"
    }
   ],
   "source": [
    "mystr[1:11]"
   ]
  },
  {
   "cell_type": "code",
   "execution_count": 119,
   "id": "216fbb42",
   "metadata": {},
   "outputs": [
    {
     "data": {
      "text/plain": [
       "'HELLO PYTHON'"
      ]
     },
     "execution_count": 119,
     "metadata": {},
     "output_type": "execute_result"
    }
   ],
   "source": [
    "mystr[:]"
   ]
  },
  {
   "cell_type": "code",
   "execution_count": 120,
   "id": "b69d6e4c",
   "metadata": {},
   "outputs": [
    {
     "data": {
      "text/plain": [
       "'HELLO P'"
      ]
     },
     "execution_count": 120,
     "metadata": {},
     "output_type": "execute_result"
    }
   ],
   "source": [
    "mystr[:7]"
   ]
  },
  {
   "cell_type": "code",
   "execution_count": 121,
   "id": "fe32c31f",
   "metadata": {},
   "outputs": [
    {
     "data": {
      "text/plain": [
       "'LLO PYTHON'"
      ]
     },
     "execution_count": 121,
     "metadata": {},
     "output_type": "execute_result"
    }
   ],
   "source": [
    "mystr[2:]"
   ]
  },
  {
   "cell_type": "code",
   "execution_count": 122,
   "id": "32833487",
   "metadata": {},
   "outputs": [
    {
     "data": {
      "text/plain": [
       "'NOHTYP OLLEH'"
      ]
     },
     "execution_count": 122,
     "metadata": {},
     "output_type": "execute_result"
    }
   ],
   "source": [
    "mystr[::-1]"
   ]
  },
  {
   "cell_type": "code",
   "execution_count": 123,
   "id": "e95e4f36",
   "metadata": {},
   "outputs": [
    {
     "data": {
      "text/plain": [
       "'HELLO PYTHON'"
      ]
     },
     "execution_count": 123,
     "metadata": {},
     "output_type": "execute_result"
    }
   ],
   "source": [
    "mystr[::1]"
   ]
  },
  {
   "cell_type": "code",
   "execution_count": 124,
   "id": "86d652fa",
   "metadata": {},
   "outputs": [
    {
     "data": {
      "text/plain": [
       "'HLOPTO'"
      ]
     },
     "execution_count": 124,
     "metadata": {},
     "output_type": "execute_result"
    }
   ],
   "source": [
    "mystr[::2]"
   ]
  },
  {
   "cell_type": "code",
   "execution_count": 125,
   "id": "081887bd",
   "metadata": {},
   "outputs": [
    {
     "data": {
      "text/plain": [
       "'EL YH'"
      ]
     },
     "execution_count": 125,
     "metadata": {},
     "output_type": "execute_result"
    }
   ],
   "source": [
    "mystr[1:10:2]"
   ]
  },
  {
   "cell_type": "code",
   "execution_count": 126,
   "id": "cdcaee41",
   "metadata": {},
   "outputs": [
    {
     "data": {
      "text/plain": [
       "'EOY'"
      ]
     },
     "execution_count": 126,
     "metadata": {},
     "output_type": "execute_result"
    }
   ],
   "source": [
    "mystr[1:10:3]"
   ]
  },
  {
   "cell_type": "markdown",
   "id": "9ea5466a",
   "metadata": {},
   "source": [
    "### Membership Operator"
   ]
  },
  {
   "cell_type": "code",
   "execution_count": 128,
   "id": "1da08652",
   "metadata": {},
   "outputs": [
    {
     "name": "stdout",
     "output_type": "stream",
     "text": [
      "True\n"
     ]
    }
   ],
   "source": [
    "print('H'in mystr)"
   ]
  },
  {
   "cell_type": "code",
   "execution_count": 129,
   "id": "8bad95ad",
   "metadata": {},
   "outputs": [
    {
     "data": {
      "text/plain": [
       "False"
      ]
     },
     "execution_count": 129,
     "metadata": {},
     "output_type": "execute_result"
    }
   ],
   "source": [
    "'h' in mystr"
   ]
  },
  {
   "cell_type": "code",
   "execution_count": 130,
   "id": "b93bfb2b",
   "metadata": {},
   "outputs": [
    {
     "data": {
      "text/plain": [
       "True"
      ]
     },
     "execution_count": 130,
     "metadata": {},
     "output_type": "execute_result"
    }
   ],
   "source": [
    "'HELL' in mystr"
   ]
  },
  {
   "cell_type": "code",
   "execution_count": 131,
   "id": "09c50dfe",
   "metadata": {},
   "outputs": [
    {
     "data": {
      "text/plain": [
       "True"
      ]
     },
     "execution_count": 131,
     "metadata": {},
     "output_type": "execute_result"
    }
   ],
   "source": [
    "'m' not in mystr"
   ]
  },
  {
   "cell_type": "code",
   "execution_count": 132,
   "id": "4c172430",
   "metadata": {},
   "outputs": [
    {
     "data": {
      "text/plain": [
       "False"
      ]
     },
     "execution_count": 132,
     "metadata": {},
     "output_type": "execute_result"
    }
   ],
   "source": [
    "'HELL' not in mystr"
   ]
  },
  {
   "cell_type": "markdown",
   "id": "05c7cae9",
   "metadata": {},
   "source": [
    "### String Functions"
   ]
  },
  {
   "cell_type": "code",
   "execution_count": 143,
   "id": "36525074",
   "metadata": {},
   "outputs": [],
   "source": [
    "fname=\"AnuraaG\""
   ]
  },
  {
   "cell_type": "code",
   "execution_count": 144,
   "id": "4990bfde",
   "metadata": {},
   "outputs": [
    {
     "data": {
      "text/plain": [
       "'anuraag'"
      ]
     },
     "execution_count": 144,
     "metadata": {},
     "output_type": "execute_result"
    }
   ],
   "source": [
    "fname.lower()"
   ]
  },
  {
   "cell_type": "code",
   "execution_count": 145,
   "id": "d077eb2e",
   "metadata": {},
   "outputs": [
    {
     "data": {
      "text/plain": [
       "'ANURAAG'"
      ]
     },
     "execution_count": 145,
     "metadata": {},
     "output_type": "execute_result"
    }
   ],
   "source": [
    "fname.upper()"
   ]
  },
  {
   "cell_type": "code",
   "execution_count": 146,
   "id": "863158cc",
   "metadata": {},
   "outputs": [
    {
     "data": {
      "text/plain": [
       "'aNURAAg'"
      ]
     },
     "execution_count": 146,
     "metadata": {},
     "output_type": "execute_result"
    }
   ],
   "source": [
    "fname.swapcase()"
   ]
  },
  {
   "cell_type": "code",
   "execution_count": 147,
   "id": "ffd3bf50",
   "metadata": {},
   "outputs": [
    {
     "data": {
      "text/plain": [
       "'Anuraag'"
      ]
     },
     "execution_count": 147,
     "metadata": {},
     "output_type": "execute_result"
    }
   ],
   "source": [
    "fname.capitalize()"
   ]
  },
  {
   "cell_type": "code",
   "execution_count": 148,
   "id": "24646cc1",
   "metadata": {},
   "outputs": [],
   "source": [
    "mystr1=\"********Hello*****Python******\""
   ]
  },
  {
   "cell_type": "code",
   "execution_count": 152,
   "id": "7d84eed6",
   "metadata": {},
   "outputs": [
    {
     "data": {
      "text/plain": [
       "'Hello*****Python'"
      ]
     },
     "execution_count": 152,
     "metadata": {},
     "output_type": "execute_result"
    }
   ],
   "source": [
    "mystr1.strip(\"*\")"
   ]
  },
  {
   "cell_type": "code",
   "execution_count": 153,
   "id": "d0e6a6ac",
   "metadata": {},
   "outputs": [
    {
     "data": {
      "text/plain": [
       "'Hello*****Python******'"
      ]
     },
     "execution_count": 153,
     "metadata": {},
     "output_type": "execute_result"
    }
   ],
   "source": [
    "mystr1.lstrip('*')"
   ]
  },
  {
   "cell_type": "code",
   "execution_count": 154,
   "id": "2310625f",
   "metadata": {},
   "outputs": [
    {
     "data": {
      "text/plain": [
       "'********Hello*****Python'"
      ]
     },
     "execution_count": 154,
     "metadata": {},
     "output_type": "execute_result"
    }
   ],
   "source": [
    "mystr1.rstrip('*')"
   ]
  },
  {
   "cell_type": "code",
   "execution_count": 155,
   "id": "6ce88d39",
   "metadata": {},
   "outputs": [
    {
     "data": {
      "text/plain": [
       "'********Hello*****Python******'"
      ]
     },
     "execution_count": 155,
     "metadata": {},
     "output_type": "execute_result"
    }
   ],
   "source": [
    "mystr1.strip()"
   ]
  },
  {
   "cell_type": "code",
   "execution_count": 156,
   "id": "1a8646b0",
   "metadata": {},
   "outputs": [],
   "source": [
    "mystr2=\"     Good Morning         \""
   ]
  },
  {
   "cell_type": "code",
   "execution_count": 157,
   "id": "8efdeb31",
   "metadata": {},
   "outputs": [
    {
     "data": {
      "text/plain": [
       "'Good Morning'"
      ]
     },
     "execution_count": 157,
     "metadata": {},
     "output_type": "execute_result"
    }
   ],
   "source": [
    "mystr2.strip()"
   ]
  },
  {
   "cell_type": "code",
   "execution_count": 158,
   "id": "0e06bdde",
   "metadata": {},
   "outputs": [
    {
     "data": {
      "text/plain": [
       "'AnuraaG'"
      ]
     },
     "execution_count": 158,
     "metadata": {},
     "output_type": "execute_result"
    }
   ],
   "source": [
    "fname.format()"
   ]
  },
  {
   "cell_type": "code",
   "execution_count": 160,
   "id": "42f7d6e5",
   "metadata": {},
   "outputs": [
    {
     "data": {
      "text/plain": [
       "2"
      ]
     },
     "execution_count": 160,
     "metadata": {},
     "output_type": "execute_result"
    }
   ],
   "source": [
    "fname.index(\"u\")"
   ]
  },
  {
   "cell_type": "code",
   "execution_count": 161,
   "id": "6f07bfeb",
   "metadata": {},
   "outputs": [
    {
     "data": {
      "text/plain": [
       "4"
      ]
     },
     "execution_count": 161,
     "metadata": {},
     "output_type": "execute_result"
    }
   ],
   "source": [
    "fname.find(\"a\")"
   ]
  },
  {
   "cell_type": "code",
   "execution_count": 162,
   "id": "e0e276de",
   "metadata": {},
   "outputs": [
    {
     "ename": "ValueError",
     "evalue": "substring not found",
     "output_type": "error",
     "traceback": [
      "\u001b[1;31m---------------------------------------------------------------------------\u001b[0m",
      "\u001b[1;31mValueError\u001b[0m                                Traceback (most recent call last)",
      "Cell \u001b[1;32mIn[162], line 1\u001b[0m\n\u001b[1;32m----> 1\u001b[0m fname\u001b[38;5;241m.\u001b[39mindex(\u001b[38;5;124m'\u001b[39m\u001b[38;5;124mz\u001b[39m\u001b[38;5;124m'\u001b[39m)\n",
      "\u001b[1;31mValueError\u001b[0m: substring not found"
     ]
    }
   ],
   "source": [
    "fname.index('z') #For index function of the string isnt present in the main string then it will throw an error"
   ]
  },
  {
   "cell_type": "code",
   "execution_count": 163,
   "id": "e0500847",
   "metadata": {},
   "outputs": [
    {
     "data": {
      "text/plain": [
       "-1"
      ]
     },
     "execution_count": 163,
     "metadata": {},
     "output_type": "execute_result"
    }
   ],
   "source": [
    "fname.find('z') #For find function if the string isnt present in the main string then it will give output as -1"
   ]
  },
  {
   "cell_type": "code",
   "execution_count": 2,
   "id": "38e7e37d",
   "metadata": {},
   "outputs": [
    {
     "data": {
      "text/plain": [
       "('my name is ', 'anuraag', ' from bangalore')"
      ]
     },
     "execution_count": 2,
     "metadata": {},
     "output_type": "execute_result"
    }
   ],
   "source": [
    "mystr3=\"my name is anuraag from bangalore\"\n",
    "mystr3.partition(\"anuraag\") #We get only three parts in partion function"
   ]
  },
  {
   "cell_type": "code",
   "execution_count": 3,
   "id": "5d344a3f",
   "metadata": {},
   "outputs": [
    {
     "data": {
      "text/plain": [
       "('my name is anuraag ', 'from', ' bangalore')"
      ]
     },
     "execution_count": 3,
     "metadata": {},
     "output_type": "execute_result"
    }
   ],
   "source": [
    "mystr3.partition(\"from\") #Whatever argument we are passing will be the second part"
   ]
  },
  {
   "cell_type": "code",
   "execution_count": 5,
   "id": "98319658",
   "metadata": {},
   "outputs": [],
   "source": [
    "g=mystr3.split()"
   ]
  },
  {
   "cell_type": "code",
   "execution_count": 6,
   "id": "d7cbc2b9",
   "metadata": {},
   "outputs": [
    {
     "data": {
      "text/plain": [
       "['my', 'name', 'is', 'anuraag', 'from', 'bangalore']"
      ]
     },
     "execution_count": 6,
     "metadata": {},
     "output_type": "execute_result"
    }
   ],
   "source": [
    "g"
   ]
  },
  {
   "cell_type": "code",
   "execution_count": 7,
   "id": "f942753b",
   "metadata": {},
   "outputs": [
    {
     "data": {
      "text/plain": [
       "list"
      ]
     },
     "execution_count": 7,
     "metadata": {},
     "output_type": "execute_result"
    }
   ],
   "source": [
    "type(g)"
   ]
  },
  {
   "cell_type": "code",
   "execution_count": 8,
   "id": "92b03a24",
   "metadata": {},
   "outputs": [],
   "source": [
    "mystr4=\"good evening everyone!.......hi!how are you\""
   ]
  },
  {
   "cell_type": "code",
   "execution_count": 9,
   "id": "07d51fa9",
   "metadata": {},
   "outputs": [
    {
     "data": {
      "text/plain": [
       "['good evening everyone', '.......hi', 'how are you']"
      ]
     },
     "execution_count": 9,
     "metadata": {},
     "output_type": "execute_result"
    }
   ],
   "source": [
    "mystr4.split('!') # It splits until ! and doesnt print !"
   ]
  },
  {
   "cell_type": "code",
   "execution_count": 10,
   "id": "fa8bc9ba",
   "metadata": {},
   "outputs": [
    {
     "data": {
      "text/plain": [
       "['g', '', 'd evening every', 'ne!.......hi!h', 'w are y', 'u']"
      ]
     },
     "execution_count": 10,
     "metadata": {},
     "output_type": "execute_result"
    }
   ],
   "source": [
    "mystr4.split('o') # It splits and prints without 'o'"
   ]
  },
  {
   "cell_type": "code",
   "execution_count": 11,
   "id": "9398ebc4",
   "metadata": {},
   "outputs": [
    {
     "data": {
      "text/plain": [
       "True"
      ]
     },
     "execution_count": 11,
     "metadata": {},
     "output_type": "execute_result"
    }
   ],
   "source": [
    "mystr3.startswith(\"my\") #matches only with the beginning of the characters"
   ]
  },
  {
   "cell_type": "code",
   "execution_count": 12,
   "id": "5b67a1ef",
   "metadata": {},
   "outputs": [
    {
     "data": {
      "text/plain": [
       "True"
      ]
     },
     "execution_count": 12,
     "metadata": {},
     "output_type": "execute_result"
    }
   ],
   "source": [
    "mystr3.startswith(\"my n\")"
   ]
  },
  {
   "cell_type": "code",
   "execution_count": 13,
   "id": "bea715f9",
   "metadata": {},
   "outputs": [
    {
     "data": {
      "text/plain": [
       "True"
      ]
     },
     "execution_count": 13,
     "metadata": {},
     "output_type": "execute_result"
    }
   ],
   "source": [
    "mystr3.endswith(\"e\") #As the senetence ends with 'e'"
   ]
  },
  {
   "cell_type": "code",
   "execution_count": 14,
   "id": "e2d8c1e9",
   "metadata": {},
   "outputs": [
    {
     "data": {
      "text/plain": [
       "False"
      ]
     },
     "execution_count": 14,
     "metadata": {},
     "output_type": "execute_result"
    }
   ],
   "source": [
    "mystr3.endswith(\"Bangalore\")"
   ]
  },
  {
   "cell_type": "code",
   "execution_count": 15,
   "id": "b639b298",
   "metadata": {},
   "outputs": [
    {
     "data": {
      "text/plain": [
       "True"
      ]
     },
     "execution_count": 15,
     "metadata": {},
     "output_type": "execute_result"
    }
   ],
   "source": [
    "mystr5=\"99000343343\"\n",
    "mystr5.startswith(\"9\")"
   ]
  },
  {
   "cell_type": "code",
   "execution_count": 17,
   "id": "2f552a65",
   "metadata": {},
   "outputs": [
    {
     "ename": "AttributeError",
     "evalue": "'int' object has no attribute 'endswith'",
     "output_type": "error",
     "traceback": [
      "\u001b[1;31m---------------------------------------------------------------------------\u001b[0m",
      "\u001b[1;31mAttributeError\u001b[0m                            Traceback (most recent call last)",
      "Cell \u001b[1;32mIn[17], line 2\u001b[0m\n\u001b[0;32m      1\u001b[0m int_var\u001b[38;5;241m=\u001b[39m\u001b[38;5;241m99000343343\u001b[39m\n\u001b[1;32m----> 2\u001b[0m int_var\u001b[38;5;241m.\u001b[39mendswith(\u001b[38;5;241m6\u001b[39m)\n",
      "\u001b[1;31mAttributeError\u001b[0m: 'int' object has no attribute 'endswith'"
     ]
    }
   ],
   "source": [
    "int_var=99000343343\n",
    "int_var.endswith(6) #Only strings can access these functions"
   ]
  },
  {
   "cell_type": "markdown",
   "id": "480b39b3",
   "metadata": {},
   "source": [
    "### Typecasting"
   ]
  },
  {
   "cell_type": "code",
   "execution_count": 18,
   "id": "b7c1d0b9",
   "metadata": {},
   "outputs": [
    {
     "data": {
      "text/plain": [
       "9.67"
      ]
     },
     "execution_count": 18,
     "metadata": {},
     "output_type": "execute_result"
    }
   ],
   "source": [
    "4+5.67+False"
   ]
  },
  {
   "cell_type": "code",
   "execution_count": 19,
   "id": "4cb2c9b3",
   "metadata": {},
   "outputs": [
    {
     "data": {
      "text/plain": [
       "10.67"
      ]
     },
     "execution_count": 19,
     "metadata": {},
     "output_type": "execute_result"
    }
   ],
   "source": [
    "4+5.67+False+True"
   ]
  },
  {
   "cell_type": "code",
   "execution_count": 20,
   "id": "9f86ea7a",
   "metadata": {},
   "outputs": [
    {
     "ename": "TypeError",
     "evalue": "unsupported operand type(s) for +: 'int' and 'str'",
     "output_type": "error",
     "traceback": [
      "\u001b[1;31m---------------------------------------------------------------------------\u001b[0m",
      "\u001b[1;31mTypeError\u001b[0m                                 Traceback (most recent call last)",
      "Cell \u001b[1;32mIn[20], line 1\u001b[0m\n\u001b[1;32m----> 1\u001b[0m \u001b[38;5;241m4\u001b[39m\u001b[38;5;241m+\u001b[39m\u001b[38;5;241m3\u001b[39m\u001b[38;5;241m+\u001b[39m\u001b[38;5;124m'\u001b[39m\u001b[38;5;124mdata\u001b[39m\u001b[38;5;124m'\u001b[39m\u001b[38;5;241m+\u001b[39m\u001b[38;5;241m6.7\u001b[39m\n",
      "\u001b[1;31mTypeError\u001b[0m: unsupported operand type(s) for +: 'int' and 'str'"
     ]
    }
   ],
   "source": [
    "4+3+'data'+6.7"
   ]
  },
  {
   "cell_type": "markdown",
   "id": "56f0aed2",
   "metadata": {},
   "source": [
    "### Forced Typecasting "
   ]
  },
  {
   "cell_type": "code",
   "execution_count": 24,
   "id": "31b7b40c",
   "metadata": {},
   "outputs": [
    {
     "data": {
      "text/plain": [
       "float"
      ]
     },
     "execution_count": 24,
     "metadata": {},
     "output_type": "execute_result"
    }
   ],
   "source": [
    "a=15\n",
    "f=float(a)\n",
    "type(f)"
   ]
  },
  {
   "cell_type": "code",
   "execution_count": 25,
   "id": "9ef70f64",
   "metadata": {},
   "outputs": [
    {
     "name": "stdout",
     "output_type": "stream",
     "text": [
      "15.0\n"
     ]
    }
   ],
   "source": [
    "print(f)"
   ]
  },
  {
   "cell_type": "code",
   "execution_count": 26,
   "id": "75f8a063",
   "metadata": {},
   "outputs": [
    {
     "name": "stdout",
     "output_type": "stream",
     "text": [
      "15\n"
     ]
    },
    {
     "data": {
      "text/plain": [
       "str"
      ]
     },
     "execution_count": 26,
     "metadata": {},
     "output_type": "execute_result"
    }
   ],
   "source": [
    "s=str(a)\n",
    "print(s)\n",
    "type(s)"
   ]
  },
  {
   "cell_type": "code",
   "execution_count": 27,
   "id": "a0b58a9a",
   "metadata": {},
   "outputs": [
    {
     "name": "stdout",
     "output_type": "stream",
     "text": [
      "True\n",
      "<class 'bool'>\n"
     ]
    }
   ],
   "source": [
    "b=bool(a)\n",
    "print(b)\n",
    "print(type(b))"
   ]
  },
  {
   "cell_type": "code",
   "execution_count": 28,
   "id": "bc02613d",
   "metadata": {},
   "outputs": [
    {
     "name": "stdout",
     "output_type": "stream",
     "text": [
      "(15+0j)\n",
      "<class 'complex'>\n"
     ]
    }
   ],
   "source": [
    "c=complex(a)\n",
    "print(c)\n",
    "print(type(c))"
   ]
  },
  {
   "cell_type": "code",
   "execution_count": 36,
   "id": "4e278cdb",
   "metadata": {},
   "outputs": [],
   "source": [
    "s=\"apple\"\n",
    "# String converted into int,float,complex gives error"
   ]
  },
  {
   "cell_type": "code",
   "execution_count": 37,
   "id": "894a1325",
   "metadata": {},
   "outputs": [
    {
     "name": "stdout",
     "output_type": "stream",
     "text": [
      "True\n"
     ]
    }
   ],
   "source": [
    "b=bool(s)\n",
    "print(b)"
   ]
  },
  {
   "cell_type": "code",
   "execution_count": 38,
   "id": "46deb493",
   "metadata": {},
   "outputs": [
    {
     "data": {
      "text/plain": [
       "5"
      ]
     },
     "execution_count": 38,
     "metadata": {},
     "output_type": "execute_result"
    }
   ],
   "source": [
    "int(1.5)+4+bool(0)"
   ]
  },
  {
   "cell_type": "code",
   "execution_count": 39,
   "id": "d06ab710",
   "metadata": {},
   "outputs": [
    {
     "name": "stdout",
     "output_type": "stream",
     "text": [
      "The addition of a and b = 7\n"
     ]
    }
   ],
   "source": [
    "a=5\n",
    "b=2\n",
    "print(\"The addition of a and b =\",a+b)"
   ]
  },
  {
   "cell_type": "code",
   "execution_count": 40,
   "id": "b547ea38",
   "metadata": {},
   "outputs": [
    {
     "name": "stdout",
     "output_type": "stream",
     "text": [
      "The subtraction of a and b = 3\n"
     ]
    }
   ],
   "source": [
    "print(\"The subtraction of a and b =\",a-b)"
   ]
  },
  {
   "cell_type": "code",
   "execution_count": 41,
   "id": "d14a203d",
   "metadata": {},
   "outputs": [
    {
     "name": "stdout",
     "output_type": "stream",
     "text": [
      "The division of a and b = 2.5\n"
     ]
    }
   ],
   "source": [
    "print(\"The division of a and b =\",a/b)"
   ]
  },
  {
   "cell_type": "code",
   "execution_count": 42,
   "id": "e550afb8",
   "metadata": {},
   "outputs": [
    {
     "name": "stdout",
     "output_type": "stream",
     "text": [
      "The floor division of a and b = 2\n"
     ]
    }
   ],
   "source": [
    "print(\"The floor division of a and b =\",a//b)"
   ]
  },
  {
   "cell_type": "code",
   "execution_count": 43,
   "id": "0e433241",
   "metadata": {},
   "outputs": [
    {
     "name": "stdout",
     "output_type": "stream",
     "text": [
      "The exponent of a and b = 25\n"
     ]
    }
   ],
   "source": [
    "print(\"The exponent of a and b =\",a**b)"
   ]
  },
  {
   "cell_type": "code",
   "execution_count": 46,
   "id": "74e293f5",
   "metadata": {},
   "outputs": [
    {
     "name": "stdout",
     "output_type": "stream",
     "text": [
      "The modulus of a and b = 1\n"
     ]
    }
   ],
   "source": [
    "print(\"The modulus of a and b =\",a%b)"
   ]
  },
  {
   "cell_type": "code",
   "execution_count": 47,
   "id": "1427fa07",
   "metadata": {},
   "outputs": [
    {
     "name": "stdout",
     "output_type": "stream",
     "text": [
      "True\n",
      "False\n",
      "False\n",
      "False\n",
      "True\n"
     ]
    }
   ],
   "source": [
    "print(a>b)\n",
    "print(a<b)\n",
    "print(a==b)\n",
    "print(a<=b)\n",
    "print(a>=b)"
   ]
  },
  {
   "cell_type": "code",
   "execution_count": 49,
   "id": "33f6485e",
   "metadata": {},
   "outputs": [
    {
     "name": "stdout",
     "output_type": "stream",
     "text": [
      "False\n",
      "True\n",
      "False\n",
      "False\n"
     ]
    }
   ],
   "source": [
    "print(True and False)\n",
    "print(True and True)\n",
    "print(False and True)\n",
    "print(False and False)"
   ]
  },
  {
   "cell_type": "code",
   "execution_count": 50,
   "id": "7049f60b",
   "metadata": {},
   "outputs": [
    {
     "name": "stdout",
     "output_type": "stream",
     "text": [
      "True\n",
      "True\n",
      "True\n",
      "False\n"
     ]
    }
   ],
   "source": [
    "print(True or False)\n",
    "print(True or True)\n",
    "print(False or True)\n",
    "print(False or False)"
   ]
  },
  {
   "cell_type": "code",
   "execution_count": 58,
   "id": "c034a42b",
   "metadata": {},
   "outputs": [
    {
     "data": {
      "text/plain": [
       "False"
      ]
     },
     "execution_count": 58,
     "metadata": {},
     "output_type": "execute_result"
    }
   ],
   "source": [
    "not True"
   ]
  },
  {
   "cell_type": "code",
   "execution_count": null,
   "id": "e056edbc",
   "metadata": {},
   "outputs": [],
   "source": []
  },
  {
   "cell_type": "code",
   "execution_count": null,
   "id": "c249745d",
   "metadata": {},
   "outputs": [],
   "source": []
  }
 ],
 "metadata": {
  "kernelspec": {
   "display_name": "Python 3 (ipykernel)",
   "language": "python",
   "name": "python3"
  },
  "language_info": {
   "codemirror_mode": {
    "name": "ipython",
    "version": 3
   },
   "file_extension": ".py",
   "mimetype": "text/x-python",
   "name": "python",
   "nbconvert_exporter": "python",
   "pygments_lexer": "ipython3",
   "version": "3.11.4"
  }
 },
 "nbformat": 4,
 "nbformat_minor": 5
}
