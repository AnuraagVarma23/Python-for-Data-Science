{
 "cells": [
  {
   "cell_type": "markdown",
   "id": "1c6af235",
   "metadata": {},
   "source": [
    "### Nested for loop"
   ]
  },
  {
   "cell_type": "code",
   "execution_count": 1,
   "id": "c07bf68b",
   "metadata": {},
   "outputs": [
    {
     "name": "stdout",
     "output_type": "stream",
     "text": [
      "************in outer loop***********\n",
      "Im in inner loop\n",
      "Im in inner loop\n",
      "Im in inner loop\n",
      "************in outer loop***********\n",
      "Im in inner loop\n",
      "Im in inner loop\n",
      "Im in inner loop\n",
      "************in outer loop***********\n",
      "Im in inner loop\n",
      "Im in inner loop\n",
      "Im in inner loop\n",
      "************in outer loop***********\n",
      "Im in inner loop\n",
      "Im in inner loop\n",
      "Im in inner loop\n",
      "************in outer loop***********\n",
      "Im in inner loop\n",
      "Im in inner loop\n",
      "Im in inner loop\n"
     ]
    }
   ],
   "source": [
    "for i in range(5):\n",
    "    print(\"************in outer loop***********\")\n",
    "    for j in range(3):\n",
    "        print(\"Im in inner loop\")"
   ]
  },
  {
   "cell_type": "code",
   "execution_count": 2,
   "id": "88ffa17d",
   "metadata": {},
   "outputs": [
    {
     "name": "stdout",
     "output_type": "stream",
     "text": [
      "The value of i is Maths and the value of k is78\n",
      "The value of i is Maths and the value of k is90\n",
      "The value of i is Maths and the value of k is70\n",
      "The value of i is Maths and the value of k is56\n",
      "The value of i is Maths and the value of k is90\n",
      "========================================\n",
      "The value of i is Science and the value of k is78\n",
      "The value of i is Science and the value of k is90\n",
      "The value of i is Science and the value of k is70\n",
      "The value of i is Science and the value of k is56\n",
      "The value of i is Science and the value of k is90\n",
      "========================================\n",
      "The value of i is Geo and the value of k is78\n",
      "The value of i is Geo and the value of k is90\n",
      "The value of i is Geo and the value of k is70\n",
      "The value of i is Geo and the value of k is56\n",
      "The value of i is Geo and the value of k is90\n",
      "========================================\n",
      "The value of i is Eco and the value of k is78\n",
      "The value of i is Eco and the value of k is90\n",
      "The value of i is Eco and the value of k is70\n",
      "The value of i is Eco and the value of k is56\n",
      "The value of i is Eco and the value of k is90\n",
      "========================================\n",
      "The value of i is Social and the value of k is78\n",
      "The value of i is Social and the value of k is90\n",
      "The value of i is Social and the value of k is70\n",
      "The value of i is Social and the value of k is56\n",
      "The value of i is Social and the value of k is90\n",
      "========================================\n"
     ]
    }
   ],
   "source": [
    "list1=['Maths','Science','Geo','Eco','Social']\n",
    "list2=[78,90,70,56,90]\n",
    "\n",
    "for i in list1:\n",
    "    for k in list2:\n",
    "        print(\"The value of i is {} and the value of k is{}\".format(i,k))\n",
    "    print(\"==\"*20)"
   ]
  },
  {
   "cell_type": "code",
   "execution_count": 6,
   "id": "3b2cc9e5",
   "metadata": {},
   "outputs": [
    {
     "name": "stdout",
     "output_type": "stream",
     "text": [
      "[4, 9, 16, 25, 36, 49, 64]\n"
     ]
    }
   ],
   "source": [
    "#input : mylist=[2,3,4,5,6,7,8]\n",
    "#output : square of these numbers\n",
    "\n",
    "mylist=[2,3,4,5,6,7,8]\n",
    "for i in range(len(mylist)):\n",
    "    mylist[i]=mylist[i]*mylist[i]\n",
    "print(mylist)"
   ]
  },
  {
   "cell_type": "code",
   "execution_count": 7,
   "id": "beed16b2",
   "metadata": {},
   "outputs": [
    {
     "name": "stdout",
     "output_type": "stream",
     "text": [
      "[4, 9, 16, 25, 36, 49, 64]\n"
     ]
    }
   ],
   "source": [
    "#OR\n",
    "mylist=[2,3,4,5,6,7,8]\n",
    "output=[]\n",
    "for num in mylist:\n",
    "    output.append(num**2)\n",
    "print(output)"
   ]
  },
  {
   "cell_type": "code",
   "execution_count": 8,
   "id": "07e6dd8a",
   "metadata": {},
   "outputs": [],
   "source": [
    "a=['red','blue','green']\n",
    "b=['apple','orange']"
   ]
  },
  {
   "cell_type": "code",
   "execution_count": 9,
   "id": "ec39b2f0",
   "metadata": {},
   "outputs": [
    {
     "name": "stdout",
     "output_type": "stream",
     "text": [
      "1 is odd\n",
      "2 is even\n",
      "3 is odd\n",
      "4 is even\n",
      "5 is odd\n",
      "6 is even\n",
      "7 is odd\n",
      "8 is even\n",
      "9 is odd\n",
      "0 is even\n",
      "12 is even\n",
      "34 is even\n",
      "55 is odd\n"
     ]
    }
   ],
   "source": [
    "l=[1,2,3,4,5,6,7,8,9,0,12,34,55]\n",
    "for i in l:\n",
    "    if(i%2==0):\n",
    "        print(i,'is even')\n",
    "    else:\n",
    "        print(i,'is odd')"
   ]
  },
  {
   "cell_type": "markdown",
   "id": "2699e84e",
   "metadata": {},
   "source": [
    "## Functions"
   ]
  },
  {
   "cell_type": "code",
   "execution_count": 10,
   "id": "6083ee77",
   "metadata": {},
   "outputs": [
    {
     "name": "stdout",
     "output_type": "stream",
     "text": [
      "hi hello\n",
      "hi hello\n"
     ]
    }
   ],
   "source": [
    "def hello_function():      #User defined function\n",
    "    print(\"hi hello\")\n",
    "hello_function()\n",
    "hello_function()"
   ]
  },
  {
   "cell_type": "code",
   "execution_count": 11,
   "id": "1728ba06",
   "metadata": {
    "scrolled": true
   },
   "outputs": [
    {
     "name": "stdout",
     "output_type": "stream",
     "text": [
      "line 1\n",
      "line 2\n",
      "line 11\n",
      "hi.....print line 5.....\n",
      "line 13\n",
      "hi.....print line 5.....\n",
      "hi.....print line 5.....\n",
      "display function\n"
     ]
    }
   ],
   "source": [
    "print(\"line 1\")\n",
    "print(\"line 2\")\n",
    "\n",
    "def sayhello():\n",
    "    print(\"hi.....print line 5.....\")\n",
    "\n",
    "def display():\n",
    "    print(\"display function\")\n",
    "    \n",
    "print(\"line 11\")\n",
    "sayhello()\n",
    "print(\"line 13\")\n",
    "sayhello()\n",
    "sayhello()\n",
    "\n",
    "display()"
   ]
  },
  {
   "cell_type": "code",
   "execution_count": 16,
   "id": "7e07cb11",
   "metadata": {},
   "outputs": [
    {
     "name": "stdout",
     "output_type": "stream",
     "text": [
      "Value of a is 2\n",
      "Value of b is 3\n",
      "5\n",
      "5\n",
      "500\n"
     ]
    }
   ],
   "source": [
    "def addfunction(a,b):\n",
    "    print(\"Value of a is\",a)\n",
    "    print(\"Value of b is\",b)\n",
    "    c=a+b\n",
    "    print(c)\n",
    "    return c      # return var/value/str\n",
    "    \n",
    "res=addfunction(2,3)\n",
    "print(res)\n",
    "print(res*100)"
   ]
  },
  {
   "cell_type": "code",
   "execution_count": 22,
   "id": "25d797f9",
   "metadata": {},
   "outputs": [
    {
     "name": "stdout",
     "output_type": "stream",
     "text": [
      "Name is:  Mevin\n",
      "ID is:  21\n",
      "Country is:  pakistan\n",
      "--\n",
      "Name is:  Ashifa\n",
      "ID is:  10\n",
      "Country is:  india\n",
      "--\n",
      "Name is:  Vina\n",
      "ID is:  21\n",
      "Country is:  pakistan\n",
      "--\n"
     ]
    }
   ],
   "source": [
    "def employee_details(name,id_num,country):\n",
    "    print(\"Name is: \",name)\n",
    "    print(\"ID is: \",id_num)\n",
    "    print(\"Country is: \",country)\n",
    "    return name,id_num,country\n",
    "    \n",
    "\n",
    "employee_details('Mevin',21,'pakistan')\n",
    "print(\"--\")\n",
    "employee_details('Ashifa',10,'india')\n",
    "print(\"--\")\n",
    "employee_details('Vina',21,'bangladesh')\n",
    "print(\"--\")"
   ]
  },
  {
   "cell_type": "code",
   "execution_count": 23,
   "id": "8d71a0aa",
   "metadata": {},
   "outputs": [
    {
     "name": "stdout",
     "output_type": "stream",
     "text": [
      "Name is:  Mevin\n",
      "ID is:  21\n",
      "Country is:  pakistan\n",
      "--\n",
      "Name is:  Ashifa\n",
      "ID is:  10\n",
      "Country is:  india\n",
      "--\n",
      "Name is:  Vina\n",
      "ID is:  21\n",
      "Country is:  australia\n",
      "--\n"
     ]
    }
   ],
   "source": [
    "def employee_details(name,id_num,country=\"australia\"):\n",
    "    print(\"Name is: \",name)\n",
    "    print(\"ID is: \",id_num)\n",
    "    print(\"Country is: \",country)\n",
    "    return name,id_num,country\n",
    "    \n",
    "\n",
    "employee_details('Mevin',21,'pakistan')\n",
    "print(\"--\")\n",
    "employee_details('Ashifa',10,'india')\n",
    "print(\"--\")\n",
    "employee_details('Vina',21)\n",
    "print(\"--\")"
   ]
  },
  {
   "cell_type": "code",
   "execution_count": 24,
   "id": "7c57877d",
   "metadata": {},
   "outputs": [
    {
     "ename": "NameError",
     "evalue": "name 'area' is not defined",
     "output_type": "error",
     "traceback": [
      "\u001b[1;31m---------------------------------------------------------------------------\u001b[0m",
      "\u001b[1;31mNameError\u001b[0m                                 Traceback (most recent call last)",
      "Cell \u001b[1;32mIn[24], line 5\u001b[0m\n\u001b[0;32m      2\u001b[0m     area\u001b[38;5;241m=\u001b[39m\u001b[38;5;241m3.14\u001b[39m\u001b[38;5;241m*\u001b[39mr\u001b[38;5;241m*\u001b[39mr\n\u001b[0;32m      3\u001b[0m     \u001b[38;5;28;01mreturn\u001b[39;00m area\n\u001b[1;32m----> 5\u001b[0m s\u001b[38;5;241m=\u001b[39m\u001b[38;5;28mint\u001b[39m(\u001b[38;5;28minput\u001b[39m(\u001b[38;5;124m\"\u001b[39m\u001b[38;5;124mArea of circle is\u001b[39m\u001b[38;5;124m\"\u001b[39m,area))\n\u001b[0;32m      6\u001b[0m area_of_circle(s)\n",
      "\u001b[1;31mNameError\u001b[0m: name 'area' is not defined"
     ]
    }
   ],
   "source": [
    "def area_of_circle(r):\n",
    "    r=print(\"Enter the value of radius\")\n",
    "    area=3.14*r*r\n",
    "    return area\n",
    "\n",
    "s=int(input(\"Area of circle is\",area))\n",
    "area_of_circle(s)"
   ]
  },
  {
   "cell_type": "code",
   "execution_count": 30,
   "id": "2c3de2ce",
   "metadata": {
    "scrolled": true
   },
   "outputs": [
    {
     "name": "stdout",
     "output_type": "stream",
     "text": [
      "Enter your number23\n"
     ]
    },
    {
     "data": {
      "text/plain": [
       "'The number is odd'"
      ]
     },
     "execution_count": 30,
     "metadata": {},
     "output_type": "execute_result"
    }
   ],
   "source": [
    "def evenorodd():\n",
    "    '''this function block return even or odd number as per user input'''\n",
    "    a=int(input(\"Enter your number\"))\n",
    "    if a%2==0:\n",
    "        return 'The number is even'\n",
    "    else:\n",
    "        return 'The number is odd'\n",
    "evenorodd()"
   ]
  },
  {
   "cell_type": "code",
   "execution_count": 31,
   "id": "2a520a12",
   "metadata": {},
   "outputs": [
    {
     "name": "stdout",
     "output_type": "stream",
     "text": [
      "this function block return even or odd number as per user input\n",
      "Return the number of items in a container.\n"
     ]
    }
   ],
   "source": [
    "print(evenorodd.__doc__)\n",
    "print(len.__doc__)"
   ]
  },
  {
   "cell_type": "code",
   "execution_count": 34,
   "id": "ca71758e",
   "metadata": {},
   "outputs": [
    {
     "name": "stdout",
     "output_type": "stream",
     "text": [
      "the value of a and b is 3 2\n"
     ]
    },
    {
     "data": {
      "text/plain": [
       "(3, 2)"
      ]
     },
     "execution_count": 34,
     "metadata": {},
     "output_type": "execute_result"
    }
   ],
   "source": [
    "def swap(a,b):\n",
    "    a,b=b,a\n",
    "    print(\"the value of a and b is\",a,b)\n",
    "    return a,b\n",
    "\n",
    "swap(2,3)"
   ]
  },
  {
   "cell_type": "code",
   "execution_count": 36,
   "id": "8f65a495",
   "metadata": {},
   "outputs": [
    {
     "name": "stdout",
     "output_type": "stream",
     "text": [
      "the value of x  4\n",
      "the value of y  5\n",
      "9\n"
     ]
    }
   ],
   "source": [
    "def squareofnum(n):\n",
    "    return n**2\n",
    "\n",
    "def add(a,b):\n",
    "    return a+b\n",
    "\n",
    "x=squareofnum(2)\n",
    "print(\"the value of x \",x)\n",
    "\n",
    "y=add(2,3)\n",
    "print(\"the value of y \",y)\n",
    "\n",
    "result = squareofnum(2)+add(2,3)\n",
    "print(result)"
   ]
  },
  {
   "cell_type": "code",
   "execution_count": 38,
   "id": "facd7d59",
   "metadata": {},
   "outputs": [
    {
     "name": "stdout",
     "output_type": "stream",
     "text": [
      "500\n"
     ]
    }
   ],
   "source": [
    "#lambda function\n",
    "\n",
    "add_num = lambda a,b:a+b\n",
    "c=add_num(2,3)\n",
    "print(c*100)"
   ]
  },
  {
   "cell_type": "code",
   "execution_count": 40,
   "id": "c96e7d59",
   "metadata": {},
   "outputs": [
    {
     "name": "stdout",
     "output_type": "stream",
     "text": [
      "42\n"
     ]
    }
   ],
   "source": [
    "product = lambda a,b:a*b\n",
    "c=product(6,7)\n",
    "print(c)"
   ]
  },
  {
   "cell_type": "code",
   "execution_count": 41,
   "id": "d7f74dcc",
   "metadata": {},
   "outputs": [
    {
     "name": "stdout",
     "output_type": "stream",
     "text": [
      "surajv\n"
     ]
    }
   ],
   "source": [
    "name=\"suraj\"\n",
    "lastname='v'\n",
    "full_name=lambda name,lastname:name+lastname\n",
    "\n",
    "print(full_name(name,lastname))"
   ]
  },
  {
   "cell_type": "code",
   "execution_count": 42,
   "id": "d4068804",
   "metadata": {},
   "outputs": [
    {
     "name": "stdout",
     "output_type": "stream",
     "text": [
      "6\n"
     ]
    }
   ],
   "source": [
    "comp=lambda a,b:a if a>b else b\n",
    "print(comp(5,6))"
   ]
  },
  {
   "cell_type": "code",
   "execution_count": 45,
   "id": "f6f3af84",
   "metadata": {},
   "outputs": [
    {
     "name": "stdout",
     "output_type": "stream",
     "text": [
      "[4, 16, 36]\n"
     ]
    }
   ],
   "source": [
    "#LIST COMPREHENSION\n",
    "\n",
    "mylist=[2,4,6]\n",
    "output=[x**2 for x in mylist]\n",
    "print(output)"
   ]
  },
  {
   "cell_type": "code",
   "execution_count": 47,
   "id": "e01368eb",
   "metadata": {},
   "outputs": [
    {
     "data": {
      "text/plain": [
       "[[1, 2, 3, 4, 5], [1, 2, 3, 4, 5], [1, 2, 3, 4, 5], [1, 2, 3, 4, 5]]"
      ]
     },
     "execution_count": 47,
     "metadata": {},
     "output_type": "execute_result"
    }
   ],
   "source": [
    "list_var=[[j for j in range(1,6)] for i in range(4)]\n",
    "list_var"
   ]
  },
  {
   "cell_type": "code",
   "execution_count": 48,
   "id": "d03e225d",
   "metadata": {},
   "outputs": [
    {
     "name": "stdout",
     "output_type": "stream",
     "text": [
      "[1, 3, 5, 7, 9, 11, 13, 15, 17, 19, 21, 23, 25, 27, 29]\n"
     ]
    }
   ],
   "source": [
    "number_list=[num for num in range(30) if num%2!=0]\n",
    "print(number_list)"
   ]
  },
  {
   "cell_type": "code",
   "execution_count": 50,
   "id": "aa7a2e45",
   "metadata": {},
   "outputs": [
    {
     "name": "stdout",
     "output_type": "stream",
     "text": [
      "[[0, 1, 2, 3, 4], [1, 2, 3, 4, 5], [2, 3, 4, 5, 6]]\n"
     ]
    }
   ],
   "source": [
    "nested_list=[[x+y for y in range(5)]for x in range(3)]\n",
    "print(nested_list)"
   ]
  },
  {
   "cell_type": "code",
   "execution_count": 51,
   "id": "bfd46ec0",
   "metadata": {},
   "outputs": [
    {
     "name": "stdout",
     "output_type": "stream",
     "text": [
      "==========\n",
      "[1, 2, 3, 4, 5, 6, 7, 8]\n",
      "the seq value before of is  1\n",
      "seq in if block 1\n",
      "the seq value before of is  2\n",
      "the seq value before of is  3\n",
      "seq in if block 3\n",
      "the seq value before of is  4\n",
      "the seq value before of is  5\n",
      "seq in if block 5\n",
      "the seq value before of is  6\n",
      "the seq value before of is  7\n",
      "seq in if block 7\n",
      "the seq value before of is  8\n"
     ]
    },
    {
     "data": {
      "text/plain": [
       "[1, 3, 5, 7]"
      ]
     },
     "execution_count": 51,
     "metadata": {},
     "output_type": "execute_result"
    }
   ],
   "source": [
    "#filter function : It always returns true\n",
    "\n",
    "def odd_num(seq):\n",
    "    print(\"the seq value before of is \",seq)\n",
    "    if (seq%2!=0):\n",
    "        print(\"seq in if block\",seq)\n",
    "        return True\n",
    "    \n",
    "print(\"==========\")\n",
    "lst=[1,2,3,4,5,6,7,8]\n",
    "print(lst)\n",
    "result=filter(odd_num,lst)\n",
    "list(result)"
   ]
  },
  {
   "cell_type": "code",
   "execution_count": 52,
   "id": "0bbc6e32",
   "metadata": {},
   "outputs": [],
   "source": [
    "def fun(variable):\n",
    "    vowels=['a','e','i','o','u']\n",
    "    if (variable in vowels):\n",
    "        return True\n",
    "    else:\n",
    "        return False\n",
    "    \n",
    "sequence = ['g' , 'e' , 'e' , 'i' , 'i',] #to be completed"
   ]
  },
  {
   "cell_type": "markdown",
   "id": "6313ea60",
   "metadata": {},
   "source": [
    "### Map Function"
   ]
  },
  {
   "cell_type": "code",
   "execution_count": 53,
   "id": "c1bc2b03",
   "metadata": {},
   "outputs": [
    {
     "name": "stdout",
     "output_type": "stream",
     "text": [
      "[1, 4, 9, 16]\n"
     ]
    }
   ],
   "source": [
    "def addition(n):\n",
    "    return n*n\n",
    "\n",
    "numbers=(1,2,3,4)\n",
    "result = map(addition,numbers)\n",
    "\n",
    "print(list(result))"
   ]
  },
  {
   "cell_type": "code",
   "execution_count": 59,
   "id": "e06b2051",
   "metadata": {},
   "outputs": [
    {
     "data": {
      "text/plain": [
       "15"
      ]
     },
     "execution_count": 59,
     "metadata": {},
     "output_type": "execute_result"
    }
   ],
   "source": [
    "import functools as f\n",
    "def function(a,b):\n",
    "    return a+b\n",
    "\n",
    "list_var=[1,2,3,4,5]\n",
    "var=f.reduce(function,list_var)\n",
    "var"
   ]
  },
  {
   "cell_type": "code",
   "execution_count": 60,
   "id": "7a27eeb7",
   "metadata": {},
   "outputs": [
    {
     "data": {
      "text/plain": [
       "7"
      ]
     },
     "execution_count": 60,
     "metadata": {},
     "output_type": "execute_result"
    }
   ],
   "source": [
    "list_var1=[2,5,6,7]\n",
    "res=f.reduce(lambda x,y:x if x>y else y,list_var1)\n",
    "res"
   ]
  },
  {
   "cell_type": "code",
   "execution_count": null,
   "id": "12a9c989",
   "metadata": {},
   "outputs": [],
   "source": []
  }
 ],
 "metadata": {
  "kernelspec": {
   "display_name": "Python 3 (ipykernel)",
   "language": "python",
   "name": "python3"
  },
  "language_info": {
   "codemirror_mode": {
    "name": "ipython",
    "version": 3
   },
   "file_extension": ".py",
   "mimetype": "text/x-python",
   "name": "python",
   "nbconvert_exporter": "python",
   "pygments_lexer": "ipython3",
   "version": "3.11.4"
  }
 },
 "nbformat": 4,
 "nbformat_minor": 5
}
