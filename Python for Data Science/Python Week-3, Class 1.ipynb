{
 "cells": [
  {
   "cell_type": "markdown",
   "id": "b0ea0c43",
   "metadata": {},
   "source": [
    "### Tuple (IMMUTABLE)"
   ]
  },
  {
   "cell_type": "code",
   "execution_count": 26,
   "id": "a04121e0",
   "metadata": {},
   "outputs": [],
   "source": [
    "tup1=() #Empty tuple"
   ]
  },
  {
   "cell_type": "code",
   "execution_count": 27,
   "id": "148d9429",
   "metadata": {},
   "outputs": [],
   "source": [
    "tup2 = (10,30,60)"
   ]
  },
  {
   "cell_type": "code",
   "execution_count": 28,
   "id": "0aabf278",
   "metadata": {},
   "outputs": [],
   "source": [
    "tup3 = (10,'string',(1,2,3))"
   ]
  },
  {
   "cell_type": "code",
   "execution_count": 29,
   "id": "438ec743",
   "metadata": {},
   "outputs": [],
   "source": [
    "tup4 = ('string' ,2 ,(1,2,3),{1,2,3},[1,2,3])"
   ]
  },
  {
   "cell_type": "code",
   "execution_count": 30,
   "id": "c88dec21",
   "metadata": {},
   "outputs": [
    {
     "data": {
      "text/plain": [
       "5"
      ]
     },
     "execution_count": 30,
     "metadata": {},
     "output_type": "execute_result"
    }
   ],
   "source": [
    "len(tup4)"
   ]
  },
  {
   "cell_type": "code",
   "execution_count": 31,
   "id": "b503af37",
   "metadata": {},
   "outputs": [
    {
     "data": {
      "text/plain": [
       "10"
      ]
     },
     "execution_count": 31,
     "metadata": {},
     "output_type": "execute_result"
    }
   ],
   "source": [
    "tup2[0]"
   ]
  },
  {
   "cell_type": "code",
   "execution_count": 32,
   "id": "61d74b1e",
   "metadata": {},
   "outputs": [
    {
     "data": {
      "text/plain": [
       "{1, 2, 3}"
      ]
     },
     "execution_count": 32,
     "metadata": {},
     "output_type": "execute_result"
    }
   ],
   "source": [
    "tup4[3] #INDEXING"
   ]
  },
  {
   "cell_type": "code",
   "execution_count": 34,
   "id": "b0ebd0d3",
   "metadata": {},
   "outputs": [
    {
     "data": {
      "text/plain": [
       "(30, 60)"
      ]
     },
     "execution_count": 34,
     "metadata": {},
     "output_type": "execute_result"
    }
   ],
   "source": [
    "tup2[1:3] #SLICING"
   ]
  },
  {
   "cell_type": "code",
   "execution_count": 36,
   "id": "138a243d",
   "metadata": {},
   "outputs": [
    {
     "ename": "TypeError",
     "evalue": "'tuple' object does not support item assignment",
     "output_type": "error",
     "traceback": [
      "\u001b[1;31m---------------------------------------------------------------------------\u001b[0m",
      "\u001b[1;31mTypeError\u001b[0m                                 Traceback (most recent call last)",
      "Cell \u001b[1;32mIn[36], line 1\u001b[0m\n\u001b[1;32m----> 1\u001b[0m tup2[\u001b[38;5;241m0\u001b[39m]\u001b[38;5;241m=\u001b[39m\u001b[38;5;241m10\u001b[39m\n",
      "\u001b[1;31mTypeError\u001b[0m: 'tuple' object does not support item assignment"
     ]
    }
   ],
   "source": [
    "tup2[0]=10 #IMMUTABLE"
   ]
  },
  {
   "cell_type": "code",
   "execution_count": 37,
   "id": "9b13ce79",
   "metadata": {},
   "outputs": [
    {
     "ename": "TypeError",
     "evalue": "'tuple' object doesn't support item deletion",
     "output_type": "error",
     "traceback": [
      "\u001b[1;31m---------------------------------------------------------------------------\u001b[0m",
      "\u001b[1;31mTypeError\u001b[0m                                 Traceback (most recent call last)",
      "Cell \u001b[1;32mIn[37], line 1\u001b[0m\n\u001b[1;32m----> 1\u001b[0m \u001b[38;5;28;01mdel\u001b[39;00m tup2[\u001b[38;5;241m0\u001b[39m]\n",
      "\u001b[1;31mTypeError\u001b[0m: 'tuple' object doesn't support item deletion"
     ]
    }
   ],
   "source": [
    "del tup2[0] #cannot delete particular elements within a tuple"
   ]
  },
  {
   "cell_type": "code",
   "execution_count": 39,
   "id": "d69739ff",
   "metadata": {},
   "outputs": [
    {
     "data": {
      "text/plain": [
       "1"
      ]
     },
     "execution_count": 39,
     "metadata": {},
     "output_type": "execute_result"
    }
   ],
   "source": [
    "tup2.count(10)"
   ]
  },
  {
   "cell_type": "code",
   "execution_count": 41,
   "id": "0b25678c",
   "metadata": {},
   "outputs": [
    {
     "data": {
      "text/plain": [
       "1"
      ]
     },
     "execution_count": 41,
     "metadata": {},
     "output_type": "execute_result"
    }
   ],
   "source": [
    "tup2.index(30)"
   ]
  },
  {
   "cell_type": "code",
   "execution_count": 47,
   "id": "cf82625d",
   "metadata": {},
   "outputs": [],
   "source": [
    "mytuple=(10,34,89,45,23)\n",
    "t=sorted(mytuple)"
   ]
  },
  {
   "cell_type": "code",
   "execution_count": 48,
   "id": "f96ab218",
   "metadata": {},
   "outputs": [
    {
     "data": {
      "text/plain": [
       "[89, 45, 34, 23, 10]"
      ]
     },
     "execution_count": 48,
     "metadata": {},
     "output_type": "execute_result"
    }
   ],
   "source": [
    "sorted(mytuple,reverse=True)"
   ]
  },
  {
   "cell_type": "code",
   "execution_count": 49,
   "id": "e1e69372",
   "metadata": {},
   "outputs": [
    {
     "data": {
      "text/plain": [
       "list"
      ]
     },
     "execution_count": 49,
     "metadata": {},
     "output_type": "execute_result"
    }
   ],
   "source": [
    "type(t)"
   ]
  },
  {
   "cell_type": "code",
   "execution_count": 50,
   "id": "c3136867",
   "metadata": {},
   "outputs": [
    {
     "data": {
      "text/plain": [
       "(10, 23, 34, 45, 89)"
      ]
     },
     "execution_count": 50,
     "metadata": {},
     "output_type": "execute_result"
    }
   ],
   "source": [
    "tuple(t)"
   ]
  },
  {
   "cell_type": "code",
   "execution_count": 51,
   "id": "f372df60",
   "metadata": {},
   "outputs": [
    {
     "data": {
      "text/plain": [
       "{10, 23, 34, 45, 89}"
      ]
     },
     "execution_count": 51,
     "metadata": {},
     "output_type": "execute_result"
    }
   ],
   "source": [
    "set(t)"
   ]
  },
  {
   "cell_type": "markdown",
   "id": "d46c84ea",
   "metadata": {},
   "source": [
    "### Set "
   ]
  },
  {
   "cell_type": "code",
   "execution_count": 52,
   "id": "44f7ddd2",
   "metadata": {},
   "outputs": [],
   "source": [
    "myset={1,2,3,4,4,5,5,5,6}"
   ]
  },
  {
   "cell_type": "code",
   "execution_count": 53,
   "id": "45eda516",
   "metadata": {},
   "outputs": [
    {
     "data": {
      "text/plain": [
       "{1, 2, 3, 4, 5, 6}"
      ]
     },
     "execution_count": 53,
     "metadata": {},
     "output_type": "execute_result"
    }
   ],
   "source": [
    "myset"
   ]
  },
  {
   "cell_type": "code",
   "execution_count": 55,
   "id": "897ab259",
   "metadata": {},
   "outputs": [
    {
     "data": {
      "text/plain": [
       "dict"
      ]
     },
     "execution_count": 55,
     "metadata": {},
     "output_type": "execute_result"
    }
   ],
   "source": [
    "myset2={}\n",
    "type(myset2)"
   ]
  },
  {
   "cell_type": "code",
   "execution_count": 57,
   "id": "d4dbcfd3",
   "metadata": {},
   "outputs": [
    {
     "data": {
      "text/plain": [
       "{9, 11, 12, 20, 23, 43, 45, 56}"
      ]
     },
     "execution_count": 57,
     "metadata": {},
     "output_type": "execute_result"
    }
   ],
   "source": [
    "myset2={12,23,43,43,11,20,56,56,45,45,9}\n",
    "myset2"
   ]
  },
  {
   "cell_type": "code",
   "execution_count": 58,
   "id": "4ce7cab1",
   "metadata": {},
   "outputs": [
    {
     "data": {
      "text/plain": [
       "8"
      ]
     },
     "execution_count": 58,
     "metadata": {},
     "output_type": "execute_result"
    }
   ],
   "source": [
    "len(myset2)"
   ]
  },
  {
   "cell_type": "code",
   "execution_count": 59,
   "id": "6867a98a",
   "metadata": {},
   "outputs": [
    {
     "ename": "TypeError",
     "evalue": "'set' object is not subscriptable",
     "output_type": "error",
     "traceback": [
      "\u001b[1;31m---------------------------------------------------------------------------\u001b[0m",
      "\u001b[1;31mTypeError\u001b[0m                                 Traceback (most recent call last)",
      "Cell \u001b[1;32mIn[59], line 1\u001b[0m\n\u001b[1;32m----> 1\u001b[0m myset2[\u001b[38;5;241m3\u001b[39m]\n",
      "\u001b[1;31mTypeError\u001b[0m: 'set' object is not subscriptable"
     ]
    }
   ],
   "source": [
    "myset2[3] #Indexing not possible"
   ]
  },
  {
   "cell_type": "code",
   "execution_count": 60,
   "id": "18d628f9",
   "metadata": {},
   "outputs": [
    {
     "ename": "TypeError",
     "evalue": "'set' object is not subscriptable",
     "output_type": "error",
     "traceback": [
      "\u001b[1;31m---------------------------------------------------------------------------\u001b[0m",
      "\u001b[1;31mTypeError\u001b[0m                                 Traceback (most recent call last)",
      "Cell \u001b[1;32mIn[60], line 1\u001b[0m\n\u001b[1;32m----> 1\u001b[0m myset2[\u001b[38;5;241m1\u001b[39m:]\n",
      "\u001b[1;31mTypeError\u001b[0m: 'set' object is not subscriptable"
     ]
    }
   ],
   "source": [
    "myset2[1:] #Slicing not possible"
   ]
  },
  {
   "cell_type": "code",
   "execution_count": 61,
   "id": "20396aad",
   "metadata": {},
   "outputs": [
    {
     "ename": "TypeError",
     "evalue": "unsupported operand type(s) for +: 'set' and 'set'",
     "output_type": "error",
     "traceback": [
      "\u001b[1;31m---------------------------------------------------------------------------\u001b[0m",
      "\u001b[1;31mTypeError\u001b[0m                                 Traceback (most recent call last)",
      "Cell \u001b[1;32mIn[61], line 1\u001b[0m\n\u001b[1;32m----> 1\u001b[0m myset\u001b[38;5;241m+\u001b[39mmyset2\n",
      "\u001b[1;31mTypeError\u001b[0m: unsupported operand type(s) for +: 'set' and 'set'"
     ]
    }
   ],
   "source": [
    "myset+myset2 #Concatenation not possible"
   ]
  },
  {
   "cell_type": "code",
   "execution_count": 62,
   "id": "0712bdea",
   "metadata": {},
   "outputs": [
    {
     "data": {
      "text/plain": [
       "True"
      ]
     },
     "execution_count": 62,
     "metadata": {},
     "output_type": "execute_result"
    }
   ],
   "source": [
    "3 in myset"
   ]
  },
  {
   "cell_type": "code",
   "execution_count": 63,
   "id": "82d07e5d",
   "metadata": {},
   "outputs": [
    {
     "data": {
      "text/plain": [
       "True"
      ]
     },
     "execution_count": 63,
     "metadata": {},
     "output_type": "execute_result"
    }
   ],
   "source": [
    "10 not in myset"
   ]
  },
  {
   "cell_type": "code",
   "execution_count": 64,
   "id": "e49bb9d9",
   "metadata": {},
   "outputs": [
    {
     "data": {
      "text/plain": [
       "set"
      ]
     },
     "execution_count": 64,
     "metadata": {},
     "output_type": "execute_result"
    }
   ],
   "source": [
    "s=set()\n",
    "type(s)"
   ]
  },
  {
   "cell_type": "code",
   "execution_count": 67,
   "id": "f0729008",
   "metadata": {},
   "outputs": [
    {
     "name": "stdout",
     "output_type": "stream",
     "text": [
      "{1, 2, 3, 4, 5, 6, 7, 8}\n",
      "{1, 2, 3, 4, 5, 6, 7, 8}\n",
      "{4, 5}\n",
      "{4, 5}\n",
      "{1, 2, 3}\n",
      "{1, 2, 3}\n",
      "{8, 6, 7}\n",
      "{8, 6, 7}\n",
      "{1, 2, 3, 4, 5, 6, 7, 8, 9, 10}\n",
      "set()\n"
     ]
    }
   ],
   "source": [
    "A = {1,2,3,4,5}\n",
    "B = {4,5,6,7,8}\n",
    "C = {8,9,10}\n",
    "\n",
    "print(A|B)\n",
    "print(A.union(B))\n",
    "print(A&B)\n",
    "print(A.intersection(B))\n",
    "print(A-B)\n",
    "print(A.difference(B))\n",
    "print(B-A)\n",
    "print(B.difference(A))\n",
    "print(A|B|C)\n",
    "print(A&B&C)"
   ]
  },
  {
   "cell_type": "code",
   "execution_count": 71,
   "id": "59ba02ce",
   "metadata": {},
   "outputs": [
    {
     "data": {
      "text/plain": [
       "{'five', 'four', 'one', 'three', 'two'}"
      ]
     },
     "execution_count": 71,
     "metadata": {},
     "output_type": "execute_result"
    }
   ],
   "source": [
    "myset = {'one' , 'two','three' , 'four' , 'five'}\n",
    "myset"
   ]
  },
  {
   "cell_type": "code",
   "execution_count": null,
   "id": "42a90220",
   "metadata": {},
   "outputs": [],
   "source": []
  },
  {
   "cell_type": "code",
   "execution_count": 73,
   "id": "32c4b45d",
   "metadata": {},
   "outputs": [
    {
     "data": {
      "text/plain": [
       "{'five', 'four', 'one', 'three', 'twenty', 'two'}"
      ]
     },
     "execution_count": 73,
     "metadata": {},
     "output_type": "execute_result"
    }
   ],
   "source": [
    "myset.add('twenty')\n",
    "myset"
   ]
  },
  {
   "cell_type": "code",
   "execution_count": 74,
   "id": "39d9c3e1",
   "metadata": {},
   "outputs": [],
   "source": [
    "myset.update(['Ten' , 'Eleven','Twelve'])"
   ]
  },
  {
   "cell_type": "code",
   "execution_count": 75,
   "id": "10fe1bb7",
   "metadata": {},
   "outputs": [
    {
     "data": {
      "text/plain": [
       "{'Eleven', 'Ten', 'Twelve', 'five', 'four', 'one', 'three', 'twenty', 'two'}"
      ]
     },
     "execution_count": 75,
     "metadata": {},
     "output_type": "execute_result"
    }
   ],
   "source": [
    "myset"
   ]
  },
  {
   "cell_type": "code",
   "execution_count": 76,
   "id": "c3e875ef",
   "metadata": {},
   "outputs": [],
   "source": [
    "myset.remove('one')  #OR myset.discard"
   ]
  },
  {
   "cell_type": "code",
   "execution_count": 77,
   "id": "98f8bdcd",
   "metadata": {},
   "outputs": [
    {
     "data": {
      "text/plain": [
       "{'Eleven', 'Ten', 'Twelve', 'five', 'four', 'three', 'twenty', 'two'}"
      ]
     },
     "execution_count": 77,
     "metadata": {},
     "output_type": "execute_result"
    }
   ],
   "source": [
    "myset"
   ]
  },
  {
   "cell_type": "code",
   "execution_count": 78,
   "id": "e20cf97d",
   "metadata": {},
   "outputs": [
    {
     "data": {
      "text/plain": [
       "set()"
      ]
     },
     "execution_count": 78,
     "metadata": {},
     "output_type": "execute_result"
    }
   ],
   "source": [
    "myset.clear()  #Deletes all items in a set\n",
    "myset"
   ]
  },
  {
   "cell_type": "code",
   "execution_count": 79,
   "id": "bbe32ed2",
   "metadata": {},
   "outputs": [],
   "source": [
    "del myset   #Deletes set object(variable)"
   ]
  },
  {
   "cell_type": "markdown",
   "id": "ab7633f0",
   "metadata": {},
   "source": [
    "### Dictionary"
   ]
  },
  {
   "cell_type": "code",
   "execution_count": 80,
   "id": "5fc5238f",
   "metadata": {},
   "outputs": [
    {
     "data": {
      "text/plain": [
       "dict"
      ]
     },
     "execution_count": 80,
     "metadata": {},
     "output_type": "execute_result"
    }
   ],
   "source": [
    "d={}\n",
    "type(d)"
   ]
  },
  {
   "cell_type": "code",
   "execution_count": 81,
   "id": "e5525603",
   "metadata": {},
   "outputs": [
    {
     "data": {
      "text/plain": [
       "dict"
      ]
     },
     "execution_count": 81,
     "metadata": {},
     "output_type": "execute_result"
    }
   ],
   "source": [
    "dict_var={\"key1\":\"value\",\"key2\":\"value2\",\"key3\":\"value3\"}\n",
    "type(dict_var)"
   ]
  },
  {
   "cell_type": "code",
   "execution_count": 82,
   "id": "14967e0f",
   "metadata": {},
   "outputs": [
    {
     "data": {
      "text/plain": [
       "dict"
      ]
     },
     "execution_count": 82,
     "metadata": {},
     "output_type": "execute_result"
    }
   ],
   "source": [
    "dict1={1:\"anuraag\",2:\"abdul\",3:\"supritha\",4:\"ganesh\",\"a\":12000}\n",
    "type(dict1)"
   ]
  },
  {
   "cell_type": "code",
   "execution_count": 83,
   "id": "b9b009aa",
   "metadata": {},
   "outputs": [
    {
     "data": {
      "text/plain": [
       "5"
      ]
     },
     "execution_count": 83,
     "metadata": {},
     "output_type": "execute_result"
    }
   ],
   "source": [
    "len(dict1)"
   ]
  },
  {
   "cell_type": "code",
   "execution_count": 84,
   "id": "041548cc",
   "metadata": {},
   "outputs": [
    {
     "data": {
      "text/plain": [
       "'supritha'"
      ]
     },
     "execution_count": 84,
     "metadata": {},
     "output_type": "execute_result"
    }
   ],
   "source": [
    "dict1[3]"
   ]
  },
  {
   "cell_type": "code",
   "execution_count": 85,
   "id": "9e931d6a",
   "metadata": {},
   "outputs": [
    {
     "data": {
      "text/plain": [
       "12000"
      ]
     },
     "execution_count": 85,
     "metadata": {},
     "output_type": "execute_result"
    }
   ],
   "source": [
    "dict1['a']"
   ]
  },
  {
   "cell_type": "code",
   "execution_count": 87,
   "id": "c9375e55",
   "metadata": {},
   "outputs": [],
   "source": [
    "dict2={1:\"anuraag\",2:\"abdul\",3:\"supritha\",4:\"ganesh\",\"a\":12000,3:\"supritha\",4:\"ganesh\"}"
   ]
  },
  {
   "cell_type": "code",
   "execution_count": 88,
   "id": "618e04d0",
   "metadata": {},
   "outputs": [
    {
     "data": {
      "text/plain": [
       "{1: 'anuraag', 2: 'abdul', 3: 'supritha', 4: 'ganesh', 'a': 12000}"
      ]
     },
     "execution_count": 88,
     "metadata": {},
     "output_type": "execute_result"
    }
   ],
   "source": [
    "dict2"
   ]
  },
  {
   "cell_type": "code",
   "execution_count": 89,
   "id": "c8b12c75",
   "metadata": {},
   "outputs": [
    {
     "data": {
      "text/plain": [
       "{1: 'anuraag', 2: 'abdul', 3: 'manish', 4: 'binne', 'a': 12000}"
      ]
     },
     "execution_count": 89,
     "metadata": {},
     "output_type": "execute_result"
    }
   ],
   "source": [
    "dict1={1:\"anuraag\",2:\"abdul\",3:\"supritha\",4:\"ganesh\",\"a\":12000,3:\"manish\",4:\"binne\"}\n",
    "dict1  #Prints the updated value or the latest value"
   ]
  },
  {
   "cell_type": "code",
   "execution_count": 90,
   "id": "b4164ae7",
   "metadata": {},
   "outputs": [
    {
     "data": {
      "text/plain": [
       "{1: 'anuraag', 2: 'abdul', 3: 'supritha', 4: 'ganesh', 'a': 'amit'}"
      ]
     },
     "execution_count": 90,
     "metadata": {},
     "output_type": "execute_result"
    }
   ],
   "source": [
    "dict2[\"a\"]=\"amit\" #We can modify value but not the key\n",
    "dict2"
   ]
  },
  {
   "cell_type": "code",
   "execution_count": 91,
   "id": "ea2efe4a",
   "metadata": {},
   "outputs": [],
   "source": [
    "#Concatenation of two dictionaries isn't supported"
   ]
  },
  {
   "cell_type": "code",
   "execution_count": 95,
   "id": "92605c77",
   "metadata": {},
   "outputs": [
    {
     "data": {
      "text/plain": [
       "True"
      ]
     },
     "execution_count": 95,
     "metadata": {},
     "output_type": "execute_result"
    }
   ],
   "source": [
    "1 in dict2  #Checks with Key and not with value"
   ]
  },
  {
   "cell_type": "markdown",
   "id": "456ce291",
   "metadata": {},
   "source": [
    "### Dictionary Functions"
   ]
  },
  {
   "cell_type": "code",
   "execution_count": 96,
   "id": "f1183ec9",
   "metadata": {},
   "outputs": [],
   "source": [
    "new_dict=dict2.copy()"
   ]
  },
  {
   "cell_type": "code",
   "execution_count": 97,
   "id": "987de1e4",
   "metadata": {},
   "outputs": [
    {
     "data": {
      "text/plain": [
       "{1: 'anuraag', 2: 'abdul', 3: 'supritha', 4: 'ganesh', 'a': 'amit'}"
      ]
     },
     "execution_count": 97,
     "metadata": {},
     "output_type": "execute_result"
    }
   ],
   "source": [
    "new_dict"
   ]
  },
  {
   "cell_type": "code",
   "execution_count": 100,
   "id": "2c53e5a7",
   "metadata": {},
   "outputs": [],
   "source": [
    "a=dict2.items()"
   ]
  },
  {
   "cell_type": "code",
   "execution_count": 101,
   "id": "7478fd3b",
   "metadata": {},
   "outputs": [
    {
     "data": {
      "text/plain": [
       "dict_items"
      ]
     },
     "execution_count": 101,
     "metadata": {},
     "output_type": "execute_result"
    }
   ],
   "source": [
    "type(a)"
   ]
  },
  {
   "cell_type": "code",
   "execution_count": 103,
   "id": "53979787",
   "metadata": {},
   "outputs": [
    {
     "data": {
      "text/plain": [
       "dict_keys([1, 2, 3, 4, 'a'])"
      ]
     },
     "execution_count": 103,
     "metadata": {},
     "output_type": "execute_result"
    }
   ],
   "source": [
    "dict2.keys()"
   ]
  },
  {
   "cell_type": "code",
   "execution_count": 105,
   "id": "5f7d8b41",
   "metadata": {},
   "outputs": [
    {
     "data": {
      "text/plain": [
       "dict_values(['anuraag', 'abdul', 'supritha', 'ganesh', 'amit'])"
      ]
     },
     "execution_count": 105,
     "metadata": {},
     "output_type": "execute_result"
    }
   ],
   "source": [
    "dict2.values()"
   ]
  },
  {
   "cell_type": "code",
   "execution_count": 107,
   "id": "925f067d",
   "metadata": {},
   "outputs": [
    {
     "data": {
      "text/plain": [
       "'abdul'"
      ]
     },
     "execution_count": 107,
     "metadata": {},
     "output_type": "execute_result"
    }
   ],
   "source": [
    "dict2.pop(2)"
   ]
  },
  {
   "cell_type": "code",
   "execution_count": 108,
   "id": "b7846f01",
   "metadata": {},
   "outputs": [
    {
     "data": {
      "text/plain": [
       "{3: 'supritha', 4: 'ganesh', 'a': 'amit'}"
      ]
     },
     "execution_count": 108,
     "metadata": {},
     "output_type": "execute_result"
    }
   ],
   "source": [
    "dict2"
   ]
  },
  {
   "cell_type": "code",
   "execution_count": 109,
   "id": "9d0df1b0",
   "metadata": {},
   "outputs": [
    {
     "data": {
      "text/plain": [
       "('a', 'amit')"
      ]
     },
     "execution_count": 109,
     "metadata": {},
     "output_type": "execute_result"
    }
   ],
   "source": [
    "dict2.popitem()"
   ]
  },
  {
   "cell_type": "code",
   "execution_count": 111,
   "id": "5cc9813c",
   "metadata": {},
   "outputs": [
    {
     "data": {
      "text/plain": [
       "{3: 'supritha', 4: 'ganesh'}"
      ]
     },
     "execution_count": 111,
     "metadata": {},
     "output_type": "execute_result"
    }
   ],
   "source": [
    "dict2"
   ]
  },
  {
   "cell_type": "code",
   "execution_count": 113,
   "id": "8eca0ca2",
   "metadata": {},
   "outputs": [],
   "source": [
    "dict2.update({\"5\":\"sun\"})"
   ]
  },
  {
   "cell_type": "code",
   "execution_count": 114,
   "id": "be1b1d96",
   "metadata": {},
   "outputs": [
    {
     "data": {
      "text/plain": [
       "{3: 'supritha', 4: 'ganesh', '5': 'sun'}"
      ]
     },
     "execution_count": 114,
     "metadata": {},
     "output_type": "execute_result"
    }
   ],
   "source": [
    "dict2"
   ]
  },
  {
   "cell_type": "code",
   "execution_count": 115,
   "id": "96b4b74c",
   "metadata": {},
   "outputs": [],
   "source": [
    "dict2.update({\"T\":\"TIGER\",\"F\":\"FISH\"})"
   ]
  },
  {
   "cell_type": "code",
   "execution_count": 116,
   "id": "9f5707ac",
   "metadata": {},
   "outputs": [
    {
     "data": {
      "text/plain": [
       "{3: 'supritha', 4: 'ganesh', '5': 'sun', 'T': 'TIGER', 'F': 'FISH'}"
      ]
     },
     "execution_count": 116,
     "metadata": {},
     "output_type": "execute_result"
    }
   ],
   "source": [
    "dict2"
   ]
  },
  {
   "cell_type": "code",
   "execution_count": 118,
   "id": "5cb74afb",
   "metadata": {},
   "outputs": [],
   "source": [
    "dict3={1:'one', 2:'two' , 3:'three','A':['Data' , 'John' , \"Maria\"]}"
   ]
  },
  {
   "cell_type": "code",
   "execution_count": 119,
   "id": "db7be279",
   "metadata": {},
   "outputs": [
    {
     "data": {
      "text/plain": [
       "['Data', 'John', 'Maria']"
      ]
     },
     "execution_count": 119,
     "metadata": {},
     "output_type": "execute_result"
    }
   ],
   "source": [
    "dict3['A']"
   ]
  },
  {
   "cell_type": "code",
   "execution_count": 120,
   "id": "9aab87bb",
   "metadata": {},
   "outputs": [
    {
     "data": {
      "text/plain": [
       "'John'"
      ]
     },
     "execution_count": 120,
     "metadata": {},
     "output_type": "execute_result"
    }
   ],
   "source": [
    "dict3['A'][1]"
   ]
  },
  {
   "cell_type": "code",
   "execution_count": 122,
   "id": "1494bd69",
   "metadata": {},
   "outputs": [],
   "source": [
    "d={0:{'one':1,'two':2,'three':3,'four':4},\n",
    "   1:{'city':'bangalore','area':'kudlu'},\n",
    "   'three':{'city':'mumbai','area':'Dharavi'}}"
   ]
  },
  {
   "cell_type": "code",
   "execution_count": 123,
   "id": "aa197a51",
   "metadata": {},
   "outputs": [
    {
     "data": {
      "text/plain": [
       "2"
      ]
     },
     "execution_count": 123,
     "metadata": {},
     "output_type": "execute_result"
    }
   ],
   "source": [
    "d[0]['two']"
   ]
  },
  {
   "cell_type": "code",
   "execution_count": 124,
   "id": "e4ff0bab",
   "metadata": {},
   "outputs": [
    {
     "data": {
      "text/plain": [
       "'mumbai'"
      ]
     },
     "execution_count": 124,
     "metadata": {},
     "output_type": "execute_result"
    }
   ],
   "source": [
    "d['three']['city']"
   ]
  },
  {
   "cell_type": "code",
   "execution_count": 126,
   "id": "e2b65d68",
   "metadata": {},
   "outputs": [],
   "source": [
    "v=[0,1,2,3,[8,{5:[67,89,90,{'area':'kBs','city':'bangalore'}]}]]"
   ]
  },
  {
   "cell_type": "code",
   "execution_count": 127,
   "id": "c0c0e27a",
   "metadata": {},
   "outputs": [
    {
     "data": {
      "text/plain": [
       "'bangalore'"
      ]
     },
     "execution_count": 127,
     "metadata": {},
     "output_type": "execute_result"
    }
   ],
   "source": [
    "v[4][1][5][3]['city']"
   ]
  },
  {
   "cell_type": "code",
   "execution_count": 128,
   "id": "eb71eb16",
   "metadata": {},
   "outputs": [],
   "source": [
    "#Dictionaries are mutable"
   ]
  },
  {
   "cell_type": "markdown",
   "id": "ebf645df",
   "metadata": {},
   "source": [
    "## Iterative Statements"
   ]
  },
  {
   "cell_type": "markdown",
   "id": "f42c1ddb",
   "metadata": {},
   "source": [
    "### While Loop"
   ]
  },
  {
   "cell_type": "code",
   "execution_count": 130,
   "id": "19262607",
   "metadata": {},
   "outputs": [
    {
     "name": "stdout",
     "output_type": "stream",
     "text": [
      "anuraag\n",
      "The value of i after increment:  1\n",
      "anuraag\n",
      "The value of i after increment:  2\n",
      "anuraag\n",
      "The value of i after increment:  3\n",
      "anuraag\n",
      "The value of i after increment:  4\n",
      "anuraag\n",
      "The value of i after increment:  5\n",
      "anuraag\n",
      "The value of i after increment:  6\n",
      "anuraag\n",
      "The value of i after increment:  7\n",
      "anuraag\n",
      "The value of i after increment:  8\n",
      "anuraag\n",
      "The value of i after increment:  9\n",
      "anuraag\n",
      "The value of i after increment:  10\n"
     ]
    }
   ],
   "source": [
    "i=0\n",
    "while(i<10):\n",
    "    print(\"anuraag\")\n",
    "    i=i+1\n",
    "    print(\"The value of i after increment: \",i)"
   ]
  },
  {
   "cell_type": "code",
   "execution_count": 132,
   "id": "8de4ae19",
   "metadata": {},
   "outputs": [
    {
     "name": "stdout",
     "output_type": "stream",
     "text": [
      "the value of i is 0\n",
      "['a', 'b', 'c']\n",
      "end of code\n",
      "the value of i is 1\n",
      "['a', 'b', 'c']\n",
      "end of code\n",
      "the value of i is 2\n",
      "['a', 'b', 'c']\n",
      "end of code\n"
     ]
    }
   ],
   "source": [
    "i=0\n",
    "mylist=['a','b','c']\n",
    "while i<len(mylist):\n",
    "    print(\"the value of i is\",i)\n",
    "    print(mylist)\n",
    "    i=i+1\n",
    "    print(\"end of code\")"
   ]
  },
  {
   "cell_type": "code",
   "execution_count": 134,
   "id": "a4d55aa9",
   "metadata": {},
   "outputs": [
    {
     "name": "stdout",
     "output_type": "stream",
     "text": [
      "the value of i is 1\n",
      "the value of i is 2\n",
      "the value of i is 3\n"
     ]
    }
   ],
   "source": [
    "i=1\n",
    "while i<6:\n",
    "    print('the value of i is' ,i)\n",
    "    if i==3:\n",
    "        break\n",
    "    i+=1\n",
    "print(\"rest of the code\")"
   ]
  },
  {
   "cell_type": "code",
   "execution_count": 138,
   "id": "e21164cf",
   "metadata": {},
   "outputs": [
    {
     "name": "stdout",
     "output_type": "stream",
     "text": [
      "a\n",
      "b\n",
      "c\n"
     ]
    }
   ],
   "source": [
    "#Task: [\"a\" , \"b\" , \"c\" ,\"d\" , \"e\"]\n",
    "n=[\"a\" , \"b\" , \"c\" ,\"d\" , \"e\"]\n",
    "i=0\n",
    "while(i<len(n)):\n",
    "    print(n[i])\n",
    "    if n[i]=='c':\n",
    "        break\n",
    "    i=i+1"
   ]
  },
  {
   "cell_type": "code",
   "execution_count": 139,
   "id": "0ad1b985",
   "metadata": {},
   "outputs": [
    {
     "name": "stdout",
     "output_type": "stream",
     "text": [
      "Im inside while loop and value of i 1\n",
      "1\n",
      "Im inside while loop and value of i 2\n",
      "2\n",
      "Im inside while loop and value of i 4\n",
      "4\n",
      "Im inside while loop and value of i 5\n",
      "5\n",
      "Im inside while loop and value of i 6\n",
      "6\n"
     ]
    }
   ],
   "source": [
    "i=0\n",
    "while i<6:\n",
    "    i+=1\n",
    "    if i==3:\n",
    "        continue #Skip the execution for the above condition\n",
    "    print(\"Im inside while loop and value of i\",i)\n",
    "    print(i)"
   ]
  },
  {
   "cell_type": "code",
   "execution_count": 141,
   "id": "19286651",
   "metadata": {},
   "outputs": [
    {
     "name": "stdout",
     "output_type": "stream",
     "text": [
      "1\n",
      "3\n",
      "5\n",
      "7\n",
      "9\n",
      "end\n"
     ]
    }
   ],
   "source": [
    "n=0\n",
    "while(n<10):\n",
    "    n=n+1\n",
    "    if (n%2==0):\n",
    "        continue\n",
    "    print(n)\n",
    "    \n",
    "print(\"end\")"
   ]
  },
  {
   "cell_type": "markdown",
   "id": "4896b05a",
   "metadata": {},
   "source": [
    "### For Loop "
   ]
  },
  {
   "cell_type": "code",
   "execution_count": 142,
   "id": "e4cee9be",
   "metadata": {},
   "outputs": [
    {
     "name": "stdout",
     "output_type": "stream",
     "text": [
      "the value of x is A\n",
      "the value of x is n\n",
      "the value of x is u\n",
      "the value of x is r\n",
      "the value of x is a\n",
      "the value of x is a\n",
      "the value of x is g\n"
     ]
    }
   ],
   "source": [
    "str_var=\"Anuraag\"\n",
    "for i in str_var:\n",
    "    print(\"the value of x is\",i)"
   ]
  },
  {
   "cell_type": "code",
   "execution_count": 145,
   "id": "e23c74c1",
   "metadata": {},
   "outputs": [
    {
     "name": "stdout",
     "output_type": "stream",
     "text": [
      "the value of i is 2\n",
      "the value of i is abc\n",
      "the value of i is 4\n",
      "the value of i is 3\n",
      "the value of i is xyz\n"
     ]
    }
   ],
   "source": [
    "listvar = [2,'abc' , 4 , 3 , 'xyz']\n",
    "for i in listvar:\n",
    "    print(\"the value of i is\",i)"
   ]
  },
  {
   "cell_type": "code",
   "execution_count": 146,
   "id": "c8a84a34",
   "metadata": {},
   "outputs": [],
   "source": [
    "#We can apply 'for' loop for list,tup,set,dict,str"
   ]
  },
  {
   "cell_type": "code",
   "execution_count": 148,
   "id": "2308ab91",
   "metadata": {},
   "outputs": [
    {
     "name": "stdout",
     "output_type": "stream",
     "text": [
      "b\n",
      "a\n",
      "c\n"
     ]
    }
   ],
   "source": [
    "for i in {'a',\"b\",\"c\"}:\n",
    "    print(i)"
   ]
  },
  {
   "cell_type": "code",
   "execution_count": 151,
   "id": "326c42ef",
   "metadata": {},
   "outputs": [
    {
     "name": "stdout",
     "output_type": "stream",
     "text": [
      "A\n",
      "n\n",
      "u\n"
     ]
    }
   ],
   "source": [
    "str_var = \"Anuraag\"\n",
    "for i in str_var:\n",
    "    if i=='r':\n",
    "            break\n",
    "    print(i)"
   ]
  },
  {
   "cell_type": "code",
   "execution_count": 152,
   "id": "08748772",
   "metadata": {},
   "outputs": [
    {
     "name": "stdout",
     "output_type": "stream",
     "text": [
      "A\n",
      "n\n",
      "u\n",
      "a\n",
      "a\n",
      "g\n"
     ]
    }
   ],
   "source": [
    "str_var = \"Anuraag\"\n",
    "for i in str_var:\n",
    "    if i=='r':\n",
    "        continue\n",
    "    print(i)"
   ]
  },
  {
   "cell_type": "code",
   "execution_count": 153,
   "id": "dcd43b53",
   "metadata": {},
   "outputs": [
    {
     "name": "stdout",
     "output_type": "stream",
     "text": [
      "0\n",
      "1\n",
      "2\n",
      "3\n",
      "4\n"
     ]
    }
   ],
   "source": [
    "for x in range(5):\n",
    "    print(x)"
   ]
  },
  {
   "cell_type": "code",
   "execution_count": 159,
   "id": "97e788d6",
   "metadata": {},
   "outputs": [
    {
     "name": "stdout",
     "output_type": "stream",
     "text": [
      "2\n",
      "3\n",
      "4\n",
      "5\n",
      "6\n",
      "7\n",
      "8\n",
      "9\n",
      "10\n",
      "11\n",
      "12\n",
      "13\n",
      "14\n",
      "15\n",
      "16\n",
      "17\n",
      "18\n",
      "19\n"
     ]
    }
   ],
   "source": [
    "for x in range(2,20):\n",
    "    print(x)"
   ]
  },
  {
   "cell_type": "code",
   "execution_count": 164,
   "id": "d46daae5",
   "metadata": {},
   "outputs": [
    {
     "name": "stdout",
     "output_type": "stream",
     "text": [
      "2\n",
      "4\n",
      "6\n",
      "8\n",
      "10\n",
      "12\n",
      "14\n",
      "16\n",
      "18\n"
     ]
    }
   ],
   "source": [
    "for x in range(2,20,2):\n",
    "    print(x)"
   ]
  },
  {
   "cell_type": "code",
   "execution_count": 165,
   "id": "7866795f",
   "metadata": {},
   "outputs": [
    {
     "name": "stdout",
     "output_type": "stream",
     "text": [
      "0\n",
      "1\n",
      "2\n",
      "3\n",
      "4\n"
     ]
    }
   ],
   "source": [
    "mylist=['ganesh','thomas','manish','anuraag','thomas']\n",
    "for x in range(len(mylist)):\n",
    "    print(x)"
   ]
  },
  {
   "cell_type": "code",
   "execution_count": 166,
   "id": "999f38fb",
   "metadata": {},
   "outputs": [
    {
     "name": "stdout",
     "output_type": "stream",
     "text": [
      "ganesh\n",
      "thomas\n",
      "manish\n",
      "anuraag\n",
      "thomas\n"
     ]
    }
   ],
   "source": [
    "mylist=['ganesh','thomas','manish','anuraag','thomas']\n",
    "for x in range(len(mylist)):\n",
    "    print(mylist[x])"
   ]
  },
  {
   "cell_type": "markdown",
   "id": "1c503e1d",
   "metadata": {},
   "source": [
    "## Modules\n"
   ]
  },
  {
   "cell_type": "code",
   "execution_count": 167,
   "id": "695ebcc1",
   "metadata": {},
   "outputs": [],
   "source": [
    "#Collection of functions\n",
    "#Collection of modules is a library\n",
    "#Collection of library - Packages"
   ]
  },
  {
   "cell_type": "code",
   "execution_count": 168,
   "id": "08326019",
   "metadata": {},
   "outputs": [
    {
     "name": "stdout",
     "output_type": "stream",
     "text": [
      "Today's date is 2023-08-26\n"
     ]
    }
   ],
   "source": [
    "from datetime import date\n",
    "#getting today's date\n",
    "today1=date.today()\n",
    "print(\"Today's date is\",today1)"
   ]
  },
  {
   "cell_type": "code",
   "execution_count": 171,
   "id": "955c8977",
   "metadata": {},
   "outputs": [
    {
     "name": "stdout",
     "output_type": "stream",
     "text": [
      "2023\n",
      "8\n",
      "26\n"
     ]
    }
   ],
   "source": [
    "print(today1.year)\n",
    "print(today1.month)\n",
    "print(today1.day)"
   ]
  },
  {
   "cell_type": "code",
   "execution_count": 172,
   "id": "b45f83d6",
   "metadata": {},
   "outputs": [],
   "source": [
    "from datetime import time"
   ]
  },
  {
   "cell_type": "code",
   "execution_count": 175,
   "id": "e8c6c02e",
   "metadata": {},
   "outputs": [
    {
     "data": {
      "text/plain": [
       "datetime.date(2023, 8, 26)"
      ]
     },
     "execution_count": 175,
     "metadata": {},
     "output_type": "execute_result"
    }
   ],
   "source": [
    "current_time=date.today()\n",
    "current_time"
   ]
  },
  {
   "cell_type": "code",
   "execution_count": null,
   "id": "5666a437",
   "metadata": {},
   "outputs": [],
   "source": []
  }
 ],
 "metadata": {
  "kernelspec": {
   "display_name": "Python 3 (ipykernel)",
   "language": "python",
   "name": "python3"
  },
  "language_info": {
   "codemirror_mode": {
    "name": "ipython",
    "version": 3
   },
   "file_extension": ".py",
   "mimetype": "text/x-python",
   "name": "python",
   "nbconvert_exporter": "python",
   "pygments_lexer": "ipython3",
   "version": "3.11.4"
  }
 },
 "nbformat": 4,
 "nbformat_minor": 5
}
