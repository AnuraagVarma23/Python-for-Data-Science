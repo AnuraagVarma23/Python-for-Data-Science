{
 "cells": [
  {
   "cell_type": "markdown",
   "id": "72490264",
   "metadata": {},
   "source": [
    "## Variable\n",
    "this is a plain text"
   ]
  },
  {
   "cell_type": "raw",
   "id": "5984c9ef",
   "metadata": {},
   "source": [
    "This is a demo class"
   ]
  },
  {
   "cell_type": "code",
   "execution_count": 3,
   "id": "70a77a3c",
   "metadata": {},
   "outputs": [
    {
     "name": "stdout",
     "output_type": "stream",
     "text": [
      "['False', 'None', 'True', 'and', 'as', 'assert', 'async', 'await', 'break', 'class', 'continue', 'def', 'del', 'elif', 'else', 'except', 'finally', 'for', 'from', 'global', 'if', 'import', 'in', 'is', 'lambda', 'nonlocal', 'not', 'or', 'pass', 'raise', 'return', 'try', 'while', 'with', 'yield']\n"
     ]
    }
   ],
   "source": [
    "import keyword\n",
    "print(keyword.kwlist)"
   ]
  },
  {
   "cell_type": "code",
   "execution_count": 4,
   "id": "1d3ccd90",
   "metadata": {},
   "outputs": [
    {
     "data": {
      "text/plain": [
       "35"
      ]
     },
     "execution_count": 4,
     "metadata": {},
     "output_type": "execute_result"
    }
   ],
   "source": [
    "len(keyword.kwlist)"
   ]
  },
  {
   "cell_type": "code",
   "execution_count": 5,
   "id": "89a29d4e",
   "metadata": {},
   "outputs": [
    {
     "data": {
      "text/plain": [
       "6"
      ]
     },
     "execution_count": 5,
     "metadata": {},
     "output_type": "execute_result"
    }
   ],
   "source": [
    "y = [4,5,6,7,3,2]\n",
    "len(y)"
   ]
  },
  {
   "cell_type": "code",
   "execution_count": 6,
   "id": "00d2fd2c",
   "metadata": {},
   "outputs": [],
   "source": [
    "a = 34\n",
    "b = 45"
   ]
  },
  {
   "cell_type": "code",
   "execution_count": 10,
   "id": "10fd43a6",
   "metadata": {},
   "outputs": [],
   "source": [
    "k=10    \n"
   ]
  },
  {
   "cell_type": "code",
   "execution_count": 11,
   "id": "8214c65d",
   "metadata": {},
   "outputs": [
    {
     "data": {
      "text/plain": [
       "10"
      ]
     },
     "execution_count": 11,
     "metadata": {},
     "output_type": "execute_result"
    }
   ],
   "source": [
    "k"
   ]
  },
  {
   "cell_type": "code",
   "execution_count": 13,
   "id": "26be7c95",
   "metadata": {},
   "outputs": [
    {
     "data": {
      "text/plain": [
       "140731913180232"
      ]
     },
     "execution_count": 13,
     "metadata": {},
     "output_type": "execute_result"
    }
   ],
   "source": [
    "id(k) # returns the 'identity' of the object"
   ]
  },
  {
   "cell_type": "code",
   "execution_count": 14,
   "id": "c1fd5efc",
   "metadata": {},
   "outputs": [],
   "source": [
    "p=20\n",
    "q=20\n",
    "r=q"
   ]
  },
  {
   "cell_type": "code",
   "execution_count": 15,
   "id": "05154dba",
   "metadata": {},
   "outputs": [
    {
     "name": "stdout",
     "output_type": "stream",
     "text": [
      "140731913180552\n",
      "140731913180552\n",
      "140731913180552\n"
     ]
    }
   ],
   "source": [
    "print(id(p))\n",
    "print(id(q))\n",
    "print(id(r))"
   ]
  },
  {
   "cell_type": "code",
   "execution_count": null,
   "id": "0650d688",
   "metadata": {},
   "outputs": [],
   "source": []
  }
 ],
 "metadata": {
  "kernelspec": {
   "display_name": "Python 3 (ipykernel)",
   "language": "python",
   "name": "python3"
  },
  "language_info": {
   "codemirror_mode": {
    "name": "ipython",
    "version": 3
   },
   "file_extension": ".py",
   "mimetype": "text/x-python",
   "name": "python",
   "nbconvert_exporter": "python",
   "pygments_lexer": "ipython3",
   "version": "3.11.4"
  }
 },
 "nbformat": 4,
 "nbformat_minor": 5
}
