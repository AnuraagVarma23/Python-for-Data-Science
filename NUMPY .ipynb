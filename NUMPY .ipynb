{
 "cells": [
  {
   "cell_type": "code",
   "execution_count": 8,
   "id": "220aa79a",
   "metadata": {},
   "outputs": [],
   "source": [
    "import numpy as np"
   ]
  },
  {
   "cell_type": "code",
   "execution_count": 9,
   "id": "355a4f5b",
   "metadata": {},
   "outputs": [
    {
     "data": {
      "text/plain": [
       "array([1, 1, 1])"
      ]
     },
     "execution_count": 9,
     "metadata": {},
     "output_type": "execute_result"
    }
   ],
   "source": [
    "np.ones(3,dtype=\"int\")  #Generates a matrix of ones's"
   ]
  },
  {
   "cell_type": "code",
   "execution_count": 10,
   "id": "d2b2e0ce",
   "metadata": {},
   "outputs": [],
   "source": [
    "k1=np.ones((3,2),dtype=\"int\") #2 Dimensional matrix"
   ]
  },
  {
   "cell_type": "code",
   "execution_count": 11,
   "id": "458b42fc",
   "metadata": {},
   "outputs": [
    {
     "data": {
      "text/plain": [
       "array([[1, 1],\n",
       "       [1, 1],\n",
       "       [1, 1]])"
      ]
     },
     "execution_count": 11,
     "metadata": {},
     "output_type": "execute_result"
    }
   ],
   "source": [
    "k1"
   ]
  },
  {
   "cell_type": "code",
   "execution_count": 12,
   "id": "a3113bb2",
   "metadata": {},
   "outputs": [],
   "source": [
    "c=np.ones((4,5,3),dtype=\"int\") #Generates array of 3 dimensions where all elements are 1"
   ]
  },
  {
   "cell_type": "code",
   "execution_count": 13,
   "id": "7afa095e",
   "metadata": {},
   "outputs": [
    {
     "data": {
      "text/plain": [
       "array([[[1, 1, 1],\n",
       "        [1, 1, 1],\n",
       "        [1, 1, 1],\n",
       "        [1, 1, 1],\n",
       "        [1, 1, 1]],\n",
       "\n",
       "       [[1, 1, 1],\n",
       "        [1, 1, 1],\n",
       "        [1, 1, 1],\n",
       "        [1, 1, 1],\n",
       "        [1, 1, 1]],\n",
       "\n",
       "       [[1, 1, 1],\n",
       "        [1, 1, 1],\n",
       "        [1, 1, 1],\n",
       "        [1, 1, 1],\n",
       "        [1, 1, 1]],\n",
       "\n",
       "       [[1, 1, 1],\n",
       "        [1, 1, 1],\n",
       "        [1, 1, 1],\n",
       "        [1, 1, 1],\n",
       "        [1, 1, 1]]])"
      ]
     },
     "execution_count": 13,
     "metadata": {},
     "output_type": "execute_result"
    }
   ],
   "source": [
    "c"
   ]
  },
  {
   "cell_type": "code",
   "execution_count": 15,
   "id": "0177581b",
   "metadata": {},
   "outputs": [
    {
     "data": {
      "text/plain": [
       "3"
      ]
     },
     "execution_count": 15,
     "metadata": {},
     "output_type": "execute_result"
    }
   ],
   "source": [
    "c.ndim  #Gives number of dimensions"
   ]
  },
  {
   "cell_type": "markdown",
   "id": "9b2decad",
   "metadata": {},
   "source": [
    "## Linspace"
   ]
  },
  {
   "cell_type": "markdown",
   "id": "cd5fd3b7",
   "metadata": {},
   "source": [
    "Return evenly spaced numbers ovevr a specified interval."
   ]
  },
  {
   "cell_type": "code",
   "execution_count": 16,
   "id": "6c4a460f",
   "metadata": {},
   "outputs": [],
   "source": [
    "import numpy as np"
   ]
  },
  {
   "cell_type": "code",
   "execution_count": 17,
   "id": "b67a93fb",
   "metadata": {},
   "outputs": [
    {
     "data": {
      "text/plain": [
       "array([2.        , 2.06122449, 2.12244898, 2.18367347, 2.24489796,\n",
       "       2.30612245, 2.36734694, 2.42857143, 2.48979592, 2.55102041,\n",
       "       2.6122449 , 2.67346939, 2.73469388, 2.79591837, 2.85714286,\n",
       "       2.91836735, 2.97959184, 3.04081633, 3.10204082, 3.16326531,\n",
       "       3.2244898 , 3.28571429, 3.34693878, 3.40816327, 3.46938776,\n",
       "       3.53061224, 3.59183673, 3.65306122, 3.71428571, 3.7755102 ,\n",
       "       3.83673469, 3.89795918, 3.95918367, 4.02040816, 4.08163265,\n",
       "       4.14285714, 4.20408163, 4.26530612, 4.32653061, 4.3877551 ,\n",
       "       4.44897959, 4.51020408, 4.57142857, 4.63265306, 4.69387755,\n",
       "       4.75510204, 4.81632653, 4.87755102, 4.93877551, 5.        ])"
      ]
     },
     "execution_count": 17,
     "metadata": {},
     "output_type": "execute_result"
    }
   ],
   "source": [
    "np.linspace(2,5) #default 50 observations\n",
    "#Both the start and end are included in the array"
   ]
  },
  {
   "cell_type": "code",
   "execution_count": 18,
   "id": "726f7bdb",
   "metadata": {},
   "outputs": [
    {
     "data": {
      "text/plain": [
       "array([ 5.        ,  7.22222222,  9.44444444, 11.66666667, 13.88888889,\n",
       "       16.11111111, 18.33333333, 20.55555556, 22.77777778, 25.        ])"
      ]
     },
     "execution_count": 18,
     "metadata": {},
     "output_type": "execute_result"
    }
   ],
   "source": [
    "np.linspace(5,25,10) # equally spaced 10 values"
   ]
  },
  {
   "cell_type": "code",
   "execution_count": 19,
   "id": "f0b1cc3f",
   "metadata": {},
   "outputs": [],
   "source": [
    "#retstep ~ return step computed by linspace (difference between two consecutive numbers)"
   ]
  },
  {
   "cell_type": "code",
   "execution_count": 21,
   "id": "560a03ac",
   "metadata": {},
   "outputs": [
    {
     "data": {
      "text/plain": [
       "(array([ 0.        ,  0.51020408,  1.02040816,  1.53061224,  2.04081633,\n",
       "         2.55102041,  3.06122449,  3.57142857,  4.08163265,  4.59183673,\n",
       "         5.10204082,  5.6122449 ,  6.12244898,  6.63265306,  7.14285714,\n",
       "         7.65306122,  8.16326531,  8.67346939,  9.18367347,  9.69387755,\n",
       "        10.20408163, 10.71428571, 11.2244898 , 11.73469388, 12.24489796,\n",
       "        12.75510204, 13.26530612, 13.7755102 , 14.28571429, 14.79591837,\n",
       "        15.30612245, 15.81632653, 16.32653061, 16.83673469, 17.34693878,\n",
       "        17.85714286, 18.36734694, 18.87755102, 19.3877551 , 19.89795918,\n",
       "        20.40816327, 20.91836735, 21.42857143, 21.93877551, 22.44897959,\n",
       "        22.95918367, 23.46938776, 23.97959184, 24.48979592, 25.        ]),\n",
       " 0.5102040816326531)"
      ]
     },
     "execution_count": 21,
     "metadata": {},
     "output_type": "execute_result"
    }
   ],
   "source": [
    "np.linspace(0,25, retstep=True)   #if retstep not included by default it is false"
   ]
  },
  {
   "cell_type": "code",
   "execution_count": 22,
   "id": "375863fe",
   "metadata": {},
   "outputs": [
    {
     "data": {
      "text/plain": [
       "array([  0.        ,  22.22222222,  44.44444444,  66.66666667,\n",
       "        88.88888889, 111.11111111, 133.33333333, 155.55555556,\n",
       "       177.77777778, 200.        ])"
      ]
     },
     "execution_count": 22,
     "metadata": {},
     "output_type": "execute_result"
    }
   ],
   "source": [
    "np.linspace(0,200,10) #default retstep=False"
   ]
  },
  {
   "cell_type": "code",
   "execution_count": 23,
   "id": "11c1350b",
   "metadata": {},
   "outputs": [
    {
     "data": {
      "text/plain": [
       "(array([  0.        ,  22.22222222,  44.44444444,  66.66666667,\n",
       "         88.88888889, 111.11111111, 133.33333333, 155.55555556,\n",
       "        177.77777778, 200.        ]),\n",
       " 22.22222222222222)"
      ]
     },
     "execution_count": 23,
     "metadata": {},
     "output_type": "execute_result"
    }
   ],
   "source": [
    "np.linspace(0,200,10,retstep=True)"
   ]
  },
  {
   "cell_type": "code",
   "execution_count": 24,
   "id": "a4f94ff3",
   "metadata": {},
   "outputs": [
    {
     "data": {
      "text/plain": [
       "(array([  0,  22,  44,  66,  88, 111, 133, 155, 177, 200]), 22.22222222222222)"
      ]
     },
     "execution_count": 24,
     "metadata": {},
     "output_type": "execute_result"
    }
   ],
   "source": [
    "np.linspace(0,200,10,retstep=True,dtype=\"int\")"
   ]
  },
  {
   "cell_type": "markdown",
   "id": "df821576",
   "metadata": {},
   "source": [
    "## Eye"
   ]
  },
  {
   "cell_type": "markdown",
   "id": "e1e94e8c",
   "metadata": {},
   "source": [
    "Creates an identity matrix"
   ]
  },
  {
   "cell_type": "code",
   "execution_count": 29,
   "id": "f6d2ff62",
   "metadata": {},
   "outputs": [
    {
     "data": {
      "text/plain": [
       "array([[1., 0., 0., 0., 0.],\n",
       "       [0., 1., 0., 0., 0.],\n",
       "       [0., 0., 1., 0., 0.],\n",
       "       [0., 0., 0., 1., 0.],\n",
       "       [0., 0., 0., 0., 1.]])"
      ]
     },
     "execution_count": 29,
     "metadata": {},
     "output_type": "execute_result"
    }
   ],
   "source": [
    "np.eye(5)  #generates 2d array(identity matrix) of(5,5)\n",
    "#it can only create a 2d array"
   ]
  },
  {
   "cell_type": "code",
   "execution_count": 30,
   "id": "8009acd4",
   "metadata": {},
   "outputs": [
    {
     "data": {
      "text/plain": [
       "array([[1., 0.],\n",
       "       [0., 1.]])"
      ]
     },
     "execution_count": 30,
     "metadata": {},
     "output_type": "execute_result"
    }
   ],
   "source": [
    "np.eye(2,2)"
   ]
  },
  {
   "cell_type": "markdown",
   "id": "4c8a479c",
   "metadata": {},
   "source": [
    "### Broadcasting in an array"
   ]
  },
  {
   "cell_type": "code",
   "execution_count": 31,
   "id": "39162359",
   "metadata": {},
   "outputs": [
    {
     "name": "stdout",
     "output_type": "stream",
     "text": [
      "[[1. 1. 1. 1.]\n",
      " [1. 1. 1. 1.]\n",
      " [1. 1. 1. 1.]]\n"
     ]
    }
   ],
   "source": [
    "big_one=np.ones((3,4))\n",
    "print(big_one)"
   ]
  },
  {
   "cell_type": "code",
   "execution_count": 32,
   "id": "8cb583ef",
   "metadata": {},
   "outputs": [
    {
     "data": {
      "text/plain": [
       "dtype('float64')"
      ]
     },
     "execution_count": 32,
     "metadata": {},
     "output_type": "execute_result"
    }
   ],
   "source": [
    "big_one.dtype"
   ]
  },
  {
   "cell_type": "code",
   "execution_count": 33,
   "id": "4e335f64",
   "metadata": {},
   "outputs": [
    {
     "data": {
      "text/plain": [
       "array([[3., 3., 3., 3.],\n",
       "       [3., 3., 3., 3.],\n",
       "       [3., 3., 3., 3.]])"
      ]
     },
     "execution_count": 33,
     "metadata": {},
     "output_type": "execute_result"
    }
   ],
   "source": [
    "big_one * 3   #Multiplies each matrix element with a given number"
   ]
  },
  {
   "cell_type": "markdown",
   "id": "6701eadc",
   "metadata": {},
   "source": [
    "The ability to access each and every element of an array is known as Broadcasting."
   ]
  },
  {
   "cell_type": "code",
   "execution_count": 34,
   "id": "789ea9b0",
   "metadata": {},
   "outputs": [
    {
     "data": {
      "text/plain": [
       "array([[4., 4., 4., 4.],\n",
       "       [4., 4., 4., 4.],\n",
       "       [4., 4., 4., 4.]])"
      ]
     },
     "execution_count": 34,
     "metadata": {},
     "output_type": "execute_result"
    }
   ],
   "source": [
    "bigger_one=big_one*6 - 2\n",
    "bigger_one"
   ]
  },
  {
   "cell_type": "code",
   "execution_count": 35,
   "id": "c421db9c",
   "metadata": {},
   "outputs": [
    {
     "name": "stdout",
     "output_type": "stream",
     "text": [
      "[[2 2 2 2]\n",
      " [2 2 2 2]\n",
      " [2 2 2 2]]\n"
     ]
    }
   ],
   "source": [
    "bigger=np.array(big_one*3 -0.4, dtype=\"int\")\n",
    "print(bigger)"
   ]
  },
  {
   "cell_type": "code",
   "execution_count": 36,
   "id": "8f94de65",
   "metadata": {},
   "outputs": [
    {
     "data": {
      "text/plain": [
       "dtype('int32')"
      ]
     },
     "execution_count": 36,
     "metadata": {},
     "output_type": "execute_result"
    }
   ],
   "source": [
    "bigger.dtype"
   ]
  },
  {
   "cell_type": "code",
   "execution_count": 37,
   "id": "ec075bad",
   "metadata": {},
   "outputs": [
    {
     "data": {
      "text/plain": [
       "numpy.ndarray"
      ]
     },
     "execution_count": 37,
     "metadata": {},
     "output_type": "execute_result"
    }
   ],
   "source": [
    "type(bigger)"
   ]
  },
  {
   "cell_type": "code",
   "execution_count": 38,
   "id": "2ec16240",
   "metadata": {},
   "outputs": [
    {
     "data": {
      "text/plain": [
       "(3, 4)"
      ]
     },
     "execution_count": 38,
     "metadata": {},
     "output_type": "execute_result"
    }
   ],
   "source": [
    "bigger.shape"
   ]
  },
  {
   "cell_type": "code",
   "execution_count": 39,
   "id": "c6d424bb",
   "metadata": {},
   "outputs": [
    {
     "data": {
      "text/plain": [
       "array([[1., 1., 1., 1.],\n",
       "       [1., 1., 1., 1.],\n",
       "       [1., 1., 1., 1.]])"
      ]
     },
     "execution_count": 39,
     "metadata": {},
     "output_type": "execute_result"
    }
   ],
   "source": [
    "bigger/bigger"
   ]
  },
  {
   "cell_type": "code",
   "execution_count": 40,
   "id": "0cdd36e4",
   "metadata": {},
   "outputs": [],
   "source": [
    "arr1 = np.arange(3,20) #generate numbers between 3 to 20, 20 will be excluded\n",
    "#default is integer"
   ]
  },
  {
   "cell_type": "code",
   "execution_count": 41,
   "id": "4da11944",
   "metadata": {},
   "outputs": [
    {
     "data": {
      "text/plain": [
       "array([ 3,  4,  5,  6,  7,  8,  9, 10, 11, 12, 13, 14, 15, 16, 17, 18, 19])"
      ]
     },
     "execution_count": 41,
     "metadata": {},
     "output_type": "execute_result"
    }
   ],
   "source": [
    "arr1"
   ]
  },
  {
   "cell_type": "code",
   "execution_count": 42,
   "id": "b63c1c30",
   "metadata": {},
   "outputs": [
    {
     "data": {
      "text/plain": [
       "array([ 6,  8, 10, 12, 14, 16, 18, 20, 22, 24, 26, 28, 30, 32, 34, 36, 38])"
      ]
     },
     "execution_count": 42,
     "metadata": {},
     "output_type": "execute_result"
    }
   ],
   "source": [
    "arr1+arr1"
   ]
  },
  {
   "cell_type": "code",
   "execution_count": 43,
   "id": "31b5bb9f",
   "metadata": {},
   "outputs": [
    {
     "data": {
      "text/plain": [
       "array([         27,         256,        3125,       46656,      823543,\n",
       "          16777216,   387420489,  1410065408,  1843829075,  -251658240,\n",
       "       -1692154371, -1282129920,  1500973039,           0,  1681328401,\n",
       "         457441280,  -306639989])"
      ]
     },
     "execution_count": 43,
     "metadata": {},
     "output_type": "execute_result"
    }
   ],
   "source": [
    "arr1 ** arr1"
   ]
  },
  {
   "cell_type": "code",
   "execution_count": 52,
   "id": "cc51b2c1",
   "metadata": {},
   "outputs": [],
   "source": [
    " arr1 = np.arange(3,20,dtype=\"float\")"
   ]
  },
  {
   "cell_type": "code",
   "execution_count": 54,
   "id": "54cbc37c",
   "metadata": {},
   "outputs": [
    {
     "data": {
      "text/plain": [
       "array([2.70000000e+01, 2.56000000e+02, 3.12500000e+03, 4.66560000e+04,\n",
       "       8.23543000e+05, 1.67772160e+07, 3.87420489e+08, 1.00000000e+10,\n",
       "       2.85311671e+11, 8.91610045e+12, 3.02875107e+14, 1.11120068e+16,\n",
       "       4.37893890e+17, 1.84467441e+19, 8.27240262e+20, 3.93464081e+22,\n",
       "       1.97841966e+24])"
      ]
     },
     "execution_count": 54,
     "metadata": {},
     "output_type": "execute_result"
    }
   ],
   "source": [
    " arr1**arr1"
   ]
  },
  {
   "cell_type": "markdown",
   "id": "7e188b0c",
   "metadata": {},
   "source": [
    "## Use of copy function "
   ]
  },
  {
   "cell_type": "code",
   "execution_count": 55,
   "id": "152c95f3",
   "metadata": {},
   "outputs": [],
   "source": [
    "import numpy as np"
   ]
  },
  {
   "cell_type": "code",
   "execution_count": 56,
   "id": "3e0f8c73",
   "metadata": {},
   "outputs": [
    {
     "data": {
      "text/plain": [
       "array([ 3.,  4.,  5.,  6.,  7.,  8.,  9., 10., 11., 12., 13., 14., 15.,\n",
       "       16., 17., 18., 19.])"
      ]
     },
     "execution_count": 56,
     "metadata": {},
     "output_type": "execute_result"
    }
   ],
   "source": [
    "arr2=arr1  #not recommended\n",
    "arr2"
   ]
  },
  {
   "cell_type": "code",
   "execution_count": 57,
   "id": "3f492069",
   "metadata": {},
   "outputs": [],
   "source": [
    "arr2[:10] = 30 #using indexing/slicing to modify arr2"
   ]
  },
  {
   "cell_type": "code",
   "execution_count": 58,
   "id": "ddc1edf5",
   "metadata": {},
   "outputs": [
    {
     "data": {
      "text/plain": [
       "array([30., 30., 30., 30., 30., 30., 30., 30., 30., 30., 13., 14., 15.,\n",
       "       16., 17., 18., 19.])"
      ]
     },
     "execution_count": 58,
     "metadata": {},
     "output_type": "execute_result"
    }
   ],
   "source": [
    "arr2"
   ]
  },
  {
   "cell_type": "code",
   "execution_count": 59,
   "id": "c944b545",
   "metadata": {},
   "outputs": [
    {
     "data": {
      "text/plain": [
       "array([30., 30., 30., 30., 30., 30., 30., 30., 30., 30., 13., 14., 15.,\n",
       "       16., 17., 18., 19.])"
      ]
     },
     "execution_count": 59,
     "metadata": {},
     "output_type": "execute_result"
    }
   ],
   "source": [
    "arr1"
   ]
  },
  {
   "cell_type": "code",
   "execution_count": 60,
   "id": "49ba0d15",
   "metadata": {},
   "outputs": [],
   "source": [
    "#Instead of using the above method"
   ]
  },
  {
   "cell_type": "code",
   "execution_count": 61,
   "id": "da290b09",
   "metadata": {},
   "outputs": [],
   "source": [
    "arr3=arr1.copy()  #generates a copy / creates a backup"
   ]
  },
  {
   "cell_type": "code",
   "execution_count": 62,
   "id": "c5dc4bc4",
   "metadata": {},
   "outputs": [
    {
     "data": {
      "text/plain": [
       "array([ 30.,  30.,  30.,  30.,  30.,  30.,  30.,  30.,  30.,  30., 100.,\n",
       "       100., 100., 100., 100., 100., 100.])"
      ]
     },
     "execution_count": 62,
     "metadata": {},
     "output_type": "execute_result"
    }
   ],
   "source": [
    "arr3[10:]=100\n",
    "arr3"
   ]
  },
  {
   "cell_type": "code",
   "execution_count": 63,
   "id": "a41beace",
   "metadata": {},
   "outputs": [
    {
     "data": {
      "text/plain": [
       "array([30., 30., 30., 30., 30., 30., 30., 30., 30., 30., 13., 14., 15.,\n",
       "       16., 17., 18., 19.])"
      ]
     },
     "execution_count": 63,
     "metadata": {},
     "output_type": "execute_result"
    }
   ],
   "source": [
    "arr1  #Now arr1 remains the same and does not change"
   ]
  },
  {
   "cell_type": "markdown",
   "id": "4cf86650",
   "metadata": {},
   "source": [
    "### Random number generation "
   ]
  },
  {
   "cell_type": "markdown",
   "id": "c5bbe46e",
   "metadata": {},
   "source": [
    "Numpy has lots of ways to create random number arrays:"
   ]
  },
  {
   "cell_type": "markdown",
   "id": "df3ac4a4",
   "metadata": {},
   "source": [
    "Create an array of the given shape and populate it with random samples from a uniform distribution over 0 to 1"
   ]
  },
  {
   "cell_type": "code",
   "execution_count": 64,
   "id": "2cca70dd",
   "metadata": {},
   "outputs": [],
   "source": [
    "import numpy as np"
   ]
  },
  {
   "cell_type": "code",
   "execution_count": 65,
   "id": "61c1b39b",
   "metadata": {},
   "outputs": [
    {
     "data": {
      "text/plain": [
       "0.6823767689125494"
      ]
     },
     "execution_count": 65,
     "metadata": {},
     "output_type": "execute_result"
    }
   ],
   "source": [
    "np.random.rand()"
   ]
  },
  {
   "cell_type": "code",
   "execution_count": 67,
   "id": "7a966b49",
   "metadata": {},
   "outputs": [
    {
     "data": {
      "text/plain": [
       "array([0.38395786, 0.56798382, 0.57087952, 0.0324381 , 0.98771154,\n",
       "       0.46824468, 0.29472884, 0.16686189, 0.3862971 , 0.93022733])"
      ]
     },
     "execution_count": 67,
     "metadata": {},
     "output_type": "execute_result"
    }
   ],
   "source": [
    "np.random.rand(10) #rand gives values between 0 and 1"
   ]
  },
  {
   "cell_type": "code",
   "execution_count": 69,
   "id": "8472aacb",
   "metadata": {},
   "outputs": [
    {
     "data": {
      "text/plain": [
       "array([[0.26385618, 0.95220003],\n",
       "       [0.43674915, 0.95239443],\n",
       "       [0.64993712, 0.97360468],\n",
       "       [0.86972867, 0.06601652],\n",
       "       [0.78526678, 0.70183132]])"
      ]
     },
     "execution_count": 69,
     "metadata": {},
     "output_type": "execute_result"
    }
   ],
   "source": [
    "np.random.rand(10).reshape((5,2))  #Reshapes all the random values into an array of 5 rows and 2 columns"
   ]
  },
  {
   "cell_type": "code",
   "execution_count": 70,
   "id": "b71f26eb",
   "metadata": {},
   "outputs": [],
   "source": [
    "# Creating array from uniform distribution\n",
    "new_arr=np.random.rand(5,3)\n",
    "# 2 dimensional array of shape(5,3)"
   ]
  },
  {
   "cell_type": "code",
   "execution_count": 71,
   "id": "36ba0a79",
   "metadata": {},
   "outputs": [
    {
     "data": {
      "text/plain": [
       "array([[0.54922848, 0.83900372, 0.42814749],\n",
       "       [0.95265296, 0.72770461, 0.45218682],\n",
       "       [0.72208865, 0.09959683, 0.51073103],\n",
       "       [0.15085063, 0.08700999, 0.31765535],\n",
       "       [0.86341059, 0.43297822, 0.31804474]])"
      ]
     },
     "execution_count": 71,
     "metadata": {},
     "output_type": "execute_result"
    }
   ],
   "source": [
    "new_arr"
   ]
  },
  {
   "cell_type": "code",
   "execution_count": 72,
   "id": "3549ea3f",
   "metadata": {},
   "outputs": [
    {
     "data": {
      "text/plain": [
       "array([[0.89872329, 0.01240616, 0.00720274],\n",
       "       [0.95587065, 0.95225625, 0.45157009],\n",
       "       [0.77068609, 0.10336525, 0.26131262]])"
      ]
     },
     "execution_count": 72,
     "metadata": {},
     "output_type": "execute_result"
    }
   ],
   "source": [
    "np.random.rand(3,3)"
   ]
  },
  {
   "cell_type": "markdown",
   "id": "bd202e30",
   "metadata": {},
   "source": [
    "## randn"
   ]
  },
  {
   "cell_type": "markdown",
   "id": "d709686c",
   "metadata": {},
   "source": [
    "Return a sample (or samples) fromt the \"standard normal\" distribution. Unlike rand which is uniform"
   ]
  },
  {
   "cell_type": "code",
   "execution_count": 74,
   "id": "f1a7e1e7",
   "metadata": {},
   "outputs": [],
   "source": [
    "#For randn, random numbers generated willl be in approximately -3 ro +3 range."
   ]
  },
  {
   "cell_type": "code",
   "execution_count": 75,
   "id": "520bd96e",
   "metadata": {},
   "outputs": [
    {
     "data": {
      "text/plain": [
       "array([ 1.82892494,  0.85548234,  1.67055725, -0.47095356, -0.31278499,\n",
       "       -1.58444766,  0.77359002, -1.59248885,  0.82317387,  2.65369728,\n",
       "       -1.07063215,  1.70561115,  1.45020186,  0.95963266, -0.28671638,\n",
       "       -0.82229788,  1.34571464,  0.30392463, -2.37649492, -0.62396121,\n",
       "       -0.29163396,  0.02179545, -0.7881173 ,  1.03410865,  0.28300968,\n",
       "       -1.21844999,  0.37471813, -0.78833017, -2.46705084, -0.01095151,\n",
       "       -0.59407493,  1.17470943, -0.7056754 , -0.18251636,  0.84905349,\n",
       "        0.38941638, -0.9038503 ,  0.17560431, -1.24457545,  1.31479196,\n",
       "       -0.09813075, -0.41117863, -0.30757981,  1.17341487,  0.103716  ,\n",
       "        0.35250313,  0.89287168,  0.73647029,  0.13135113,  0.61664808])"
      ]
     },
     "execution_count": 75,
     "metadata": {},
     "output_type": "execute_result"
    }
   ],
   "source": [
    "arr1=np.random.randn(50)\n",
    "arr1"
   ]
  },
  {
   "cell_type": "code",
   "execution_count": 76,
   "id": "1a003387",
   "metadata": {},
   "outputs": [
    {
     "data": {
      "text/plain": [
       "50"
      ]
     },
     "execution_count": 76,
     "metadata": {},
     "output_type": "execute_result"
    }
   ],
   "source": [
    "len(arr1)"
   ]
  },
  {
   "cell_type": "code",
   "execution_count": 77,
   "id": "07ff1cb4",
   "metadata": {},
   "outputs": [
    {
     "data": {
      "text/plain": [
       "2.653697276506111"
      ]
     },
     "execution_count": 77,
     "metadata": {},
     "output_type": "execute_result"
    }
   ],
   "source": [
    "max(arr1)"
   ]
  },
  {
   "cell_type": "code",
   "execution_count": 78,
   "id": "99eec435",
   "metadata": {},
   "outputs": [
    {
     "data": {
      "text/plain": [
       "-2.4670508386858168"
      ]
     },
     "execution_count": 78,
     "metadata": {},
     "output_type": "execute_result"
    }
   ],
   "source": [
    "min(arr1)"
   ]
  },
  {
   "cell_type": "code",
   "execution_count": 79,
   "id": "dc3ff53a",
   "metadata": {},
   "outputs": [
    {
     "data": {
      "text/plain": [
       "array([[ 0.64690734, -0.31761808],\n",
       "       [ 2.36445172, -1.22281412]])"
      ]
     },
     "execution_count": 79,
     "metadata": {},
     "output_type": "execute_result"
    }
   ],
   "source": [
    "np.random.randn(2,2)"
   ]
  },
  {
   "cell_type": "code",
   "execution_count": 80,
   "id": "d5dc1264",
   "metadata": {},
   "outputs": [
    {
     "data": {
      "image/png": "[encoded data removed]",
      "text/plain": [
       "<Figure size 640x480 with 1 Axes>"
      ]
     },
     "metadata": {},
     "output_type": "display_data"
    }
   ],
   "source": [
    "import matplotlib.pyplot as plt\n",
    "plt.hist(arr1)\n",
    "plt.show()"
   ]
  },
  {
   "cell_type": "markdown",
   "id": "9d3d97e0",
   "metadata": {},
   "source": [
    "## randint"
   ]
  },
  {
   "cell_type": "markdown",
   "id": "b921fee8",
   "metadata": {},
   "source": [
    "Return random integers from low(inclusive) to high(exclusive)"
   ]
  },
  {
   "cell_type": "code",
   "execution_count": 82,
   "id": "10ed92a9",
   "metadata": {},
   "outputs": [
    {
     "data": {
      "text/plain": [
       "97"
      ]
     },
     "execution_count": 82,
     "metadata": {},
     "output_type": "execute_result"
    }
   ],
   "source": [
    "np.random.randint(1,100)\n",
    "# third argument is no. of values. defualt=1 value"
   ]
  },
  {
   "cell_type": "code",
   "execution_count": 83,
   "id": "38e0659a",
   "metadata": {},
   "outputs": [
    {
     "data": {
      "text/plain": [
       "array([86, 91, 61, 32, 23, 36, 18, 99, 33, 82])"
      ]
     },
     "execution_count": 83,
     "metadata": {},
     "output_type": "execute_result"
    }
   ],
   "source": [
    "np.random.randint(1,100,10)"
   ]
  },
  {
   "cell_type": "code",
   "execution_count": 86,
   "id": "99ee085f",
   "metadata": {},
   "outputs": [
    {
     "data": {
      "text/plain": [
       "array([46, 55, 41, 44, 57, 58, 57, 46, 50, 44, 42, 40, 48, 57, 44, 45, 42,\n",
       "       49, 40, 47, 45, 42, 56, 58, 56, 59, 44, 48, 47, 58, 47, 49, 40, 42,\n",
       "       51, 53, 48, 40, 57, 40, 45, 58, 45, 53, 46, 59, 54, 40, 54, 52])"
      ]
     },
     "execution_count": 86,
     "metadata": {},
     "output_type": "execute_result"
    }
   ],
   "source": [
    "arr_rand=np.random.randint(40,60,50) # generating 50 values between 40 and 60\n",
    "arr_rand"
   ]
  },
  {
   "cell_type": "code",
   "execution_count": 88,
   "id": "10632373",
   "metadata": {},
   "outputs": [
    {
     "data": {
      "image/png": "[encoded data removed]",
      "text/plain": [
       "<Figure size 640x480 with 1 Axes>"
      ]
     },
     "metadata": {},
     "output_type": "display_data"
    }
   ],
   "source": [
    "import matplotlib.pyplot as plt\n",
    "plt.hist(arr_rand)\n",
    "plt.show()"
   ]
  },
  {
   "cell_type": "markdown",
   "id": "3d35e5bc",
   "metadata": {},
   "source": [
    "## Array Attributes and Methods"
   ]
  },
  {
   "cell_type": "code",
   "execution_count": 1,
   "id": "0ee8394e",
   "metadata": {},
   "outputs": [],
   "source": [
    "import numpy as np"
   ]
  },
  {
   "cell_type": "code",
   "execution_count": 2,
   "id": "dedb13bf",
   "metadata": {},
   "outputs": [],
   "source": [
    "arr=np.arange(20)\n",
    "ranarr = np.random.randint(0,100,10)"
   ]
  },
  {
   "cell_type": "code",
   "execution_count": 3,
   "id": "8ecc1d10",
   "metadata": {},
   "outputs": [
    {
     "data": {
      "text/plain": [
       "array([ 0,  1,  2,  3,  4,  5,  6,  7,  8,  9, 10, 11, 12, 13, 14, 15, 16,\n",
       "       17, 18, 19])"
      ]
     },
     "execution_count": 3,
     "metadata": {},
     "output_type": "execute_result"
    }
   ],
   "source": [
    "arr"
   ]
  },
  {
   "cell_type": "code",
   "execution_count": 4,
   "id": "3f145e8d",
   "metadata": {},
   "outputs": [
    {
     "data": {
      "text/plain": [
       "array([19,  8, 63, 29, 58, 21, 97, 65, 31,  8])"
      ]
     },
     "execution_count": 4,
     "metadata": {},
     "output_type": "execute_result"
    }
   ],
   "source": [
    "ranarr"
   ]
  },
  {
   "cell_type": "markdown",
   "id": "0b6f9ef1",
   "metadata": {},
   "source": [
    "## max,min,argmax,argmin"
   ]
  },
  {
   "cell_type": "code",
   "execution_count": 5,
   "id": "0694d25c",
   "metadata": {},
   "outputs": [],
   "source": [
    "arr2=np.random.randint(1,100,20)"
   ]
  },
  {
   "cell_type": "code",
   "execution_count": 6,
   "id": "652c3811",
   "metadata": {},
   "outputs": [
    {
     "data": {
      "text/plain": [
       "array([74, 45,  3, 61, 18, 98, 73, 58, 62, 38, 79, 75, 40, 68,  5, 99, 68,\n",
       "        6,  8, 89])"
      ]
     },
     "execution_count": 6,
     "metadata": {},
     "output_type": "execute_result"
    }
   ],
   "source": [
    "arr2"
   ]
  },
  {
   "cell_type": "code",
   "execution_count": 7,
   "id": "f0a9f5b3",
   "metadata": {},
   "outputs": [
    {
     "data": {
      "text/plain": [
       "99"
      ]
     },
     "execution_count": 7,
     "metadata": {},
     "output_type": "execute_result"
    }
   ],
   "source": [
    "arr2.max()"
   ]
  },
  {
   "cell_type": "code",
   "execution_count": 8,
   "id": "f804459c",
   "metadata": {},
   "outputs": [
    {
     "data": {
      "text/plain": [
       "3"
      ]
     },
     "execution_count": 8,
     "metadata": {},
     "output_type": "execute_result"
    }
   ],
   "source": [
    "arr2.min()"
   ]
  },
  {
   "cell_type": "code",
   "execution_count": 9,
   "id": "9b28d36f",
   "metadata": {},
   "outputs": [
    {
     "data": {
      "text/plain": [
       "15"
      ]
     },
     "execution_count": 9,
     "metadata": {},
     "output_type": "execute_result"
    }
   ],
   "source": [
    "arr2.argmax()  #shows the index position of the max number"
   ]
  },
  {
   "cell_type": "code",
   "execution_count": 10,
   "id": "766b1fcc",
   "metadata": {},
   "outputs": [
    {
     "data": {
      "text/plain": [
       "2"
      ]
     },
     "execution_count": 10,
     "metadata": {},
     "output_type": "execute_result"
    }
   ],
   "source": [
    "arr2.argmin() #shows the index position of the min number"
   ]
  },
  {
   "cell_type": "code",
   "execution_count": 11,
   "id": "4901f9b7",
   "metadata": {},
   "outputs": [
    {
     "data": {
      "text/plain": [
       "array([19,  8, 63, 29, 58, 21, 97, 65, 31,  8])"
      ]
     },
     "execution_count": 11,
     "metadata": {},
     "output_type": "execute_result"
    }
   ],
   "source": [
    "ranarr"
   ]
  },
  {
   "cell_type": "code",
   "execution_count": 12,
   "id": "6c056ee6",
   "metadata": {},
   "outputs": [
    {
     "data": {
      "text/plain": [
       "6"
      ]
     },
     "execution_count": 12,
     "metadata": {},
     "output_type": "execute_result"
    }
   ],
   "source": [
    "ranarr.argmax()"
   ]
  },
  {
   "cell_type": "code",
   "execution_count": 13,
   "id": "ee0b2227",
   "metadata": {},
   "outputs": [
    {
     "data": {
      "text/plain": [
       "1"
      ]
     },
     "execution_count": 13,
     "metadata": {},
     "output_type": "execute_result"
    }
   ],
   "source": [
    "ranarr.argmin()"
   ]
  },
  {
   "cell_type": "code",
   "execution_count": 17,
   "id": "2ee27861",
   "metadata": {},
   "outputs": [
    {
     "data": {
      "text/plain": [
       "array([[19,  8, 63, 29, 58],\n",
       "       [21, 97, 65, 31,  8]])"
      ]
     },
     "execution_count": 17,
     "metadata": {},
     "output_type": "execute_result"
    }
   ],
   "source": [
    "ran2=ranarr.reshape(2,5)   #No of elements before conversion into 2D array should be same as the number of elements after conversion into 2D\n",
    "ran2                       # for example ran2=ranarr.reshape(2,6) or(2,4) wont work"
   ]
  },
  {
   "cell_type": "code",
   "execution_count": 18,
   "id": "76857dd0",
   "metadata": {},
   "outputs": [
    {
     "data": {
      "text/plain": [
       "array([[19,  8],\n",
       "       [63, 29],\n",
       "       [58, 21],\n",
       "       [97, 65],\n",
       "       [31,  8]])"
      ]
     },
     "execution_count": 18,
     "metadata": {},
     "output_type": "execute_result"
    }
   ],
   "source": [
    "ranarr.reshape(5,2)"
   ]
  },
  {
   "cell_type": "code",
   "execution_count": 20,
   "id": "51ac388c",
   "metadata": {},
   "outputs": [
    {
     "data": {
      "text/plain": [
       "6"
      ]
     },
     "execution_count": 20,
     "metadata": {},
     "output_type": "execute_result"
    }
   ],
   "source": [
    "ran2.argmax()"
   ]
  },
  {
   "cell_type": "code",
   "execution_count": 21,
   "id": "c78959cf",
   "metadata": {},
   "outputs": [
    {
     "data": {
      "text/plain": [
       "97"
      ]
     },
     "execution_count": 21,
     "metadata": {},
     "output_type": "execute_result"
    }
   ],
   "source": [
    "ran2.max()"
   ]
  },
  {
   "cell_type": "markdown",
   "id": "51034b4c",
   "metadata": {},
   "source": [
    "## NumPy Indexing and Selection"
   ]
  },
  {
   "cell_type": "code",
   "execution_count": 22,
   "id": "da9bdef9",
   "metadata": {},
   "outputs": [],
   "source": [
    "import numpy as np"
   ]
  },
  {
   "cell_type": "code",
   "execution_count": 24,
   "id": "f813b1fe",
   "metadata": {},
   "outputs": [],
   "source": [
    "#Creating sample array\n",
    "arr=np.arange(0,21)"
   ]
  },
  {
   "cell_type": "code",
   "execution_count": 25,
   "id": "c55a332d",
   "metadata": {},
   "outputs": [
    {
     "data": {
      "text/plain": [
       "array([ 0,  1,  2,  3,  4,  5,  6,  7,  8,  9, 10, 11, 12, 13, 14, 15, 16,\n",
       "       17, 18, 19, 20])"
      ]
     },
     "execution_count": 25,
     "metadata": {},
     "output_type": "execute_result"
    }
   ],
   "source": [
    "arr"
   ]
  },
  {
   "cell_type": "markdown",
   "id": "d64e8a6b",
   "metadata": {},
   "source": [
    "## Bracket Indexing and Selection"
   ]
  },
  {
   "cell_type": "code",
   "execution_count": 26,
   "id": "b85533aa",
   "metadata": {},
   "outputs": [
    {
     "data": {
      "text/plain": [
       "array([10, 15, 20, 25, 30, 35, 40, 45, 50, 55, 60, 65, 70, 75, 80, 85, 90,\n",
       "       95])"
      ]
     },
     "execution_count": 26,
     "metadata": {},
     "output_type": "execute_result"
    }
   ],
   "source": [
    "#Creating sample array\n",
    "arr=np.arange(10,100,5)\n",
    "arr"
   ]
  },
  {
   "cell_type": "code",
   "execution_count": 27,
   "id": "8b3a1990",
   "metadata": {},
   "outputs": [
    {
     "data": {
      "text/plain": [
       "18"
      ]
     },
     "execution_count": 27,
     "metadata": {},
     "output_type": "execute_result"
    }
   ],
   "source": [
    "len(arr)"
   ]
  },
  {
   "cell_type": "code",
   "execution_count": 28,
   "id": "94d68dd3",
   "metadata": {},
   "outputs": [
    {
     "data": {
      "text/plain": [
       "40"
      ]
     },
     "execution_count": 28,
     "metadata": {},
     "output_type": "execute_result"
    }
   ],
   "source": [
    "arr[6]"
   ]
  },
  {
   "cell_type": "code",
   "execution_count": 29,
   "id": "c05631a7",
   "metadata": {},
   "outputs": [
    {
     "data": {
      "text/plain": [
       "55"
      ]
     },
     "execution_count": 29,
     "metadata": {},
     "output_type": "execute_result"
    }
   ],
   "source": [
    "arr[9]  #Getting a value at an index"
   ]
  },
  {
   "cell_type": "code",
   "execution_count": 30,
   "id": "7ef2040f",
   "metadata": {},
   "outputs": [
    {
     "data": {
      "text/plain": [
       "array([15, 25, 35, 45, 55])"
      ]
     },
     "execution_count": 30,
     "metadata": {},
     "output_type": "execute_result"
    }
   ],
   "source": [
    "arr[1:11:2]"
   ]
  },
  {
   "cell_type": "code",
   "execution_count": 31,
   "id": "cb6e3557",
   "metadata": {},
   "outputs": [
    {
     "data": {
      "text/plain": [
       "array([6, 3, 2, 7, 1, 4])"
      ]
     },
     "execution_count": 31,
     "metadata": {},
     "output_type": "execute_result"
    }
   ],
   "source": [
    "#Get values in a range\n",
    "s=np.array([6,3,2,7,1,4])\n",
    "s"
   ]
  },
  {
   "cell_type": "code",
   "execution_count": 32,
   "id": "c13a6b08",
   "metadata": {},
   "outputs": [
    {
     "data": {
      "text/plain": [
       "array([2, 7, 1, 4])"
      ]
     },
     "execution_count": 32,
     "metadata": {},
     "output_type": "execute_result"
    }
   ],
   "source": [
    "s[2:6]"
   ]
  },
  {
   "cell_type": "markdown",
   "id": "a356e459",
   "metadata": {},
   "source": [
    "## Filtering"
   ]
  },
  {
   "cell_type": "code",
   "execution_count": 33,
   "id": "680ee587",
   "metadata": {},
   "outputs": [
    {
     "data": {
      "text/plain": [
       "array([   1,    2, 1010,    4,  108,   18,  610])"
      ]
     },
     "execution_count": 33,
     "metadata": {},
     "output_type": "execute_result"
    }
   ],
   "source": [
    "#Filtering condition\n",
    "\n",
    "arr=np.array([1,2,1010,4,108,18,610])\n",
    "arr"
   ]
  },
  {
   "cell_type": "code",
   "execution_count": 34,
   "id": "3ff8eb90",
   "metadata": {},
   "outputs": [
    {
     "data": {
      "text/plain": [
       "array([ True,  True, False,  True, False,  True, False])"
      ]
     },
     "execution_count": 34,
     "metadata": {},
     "output_type": "execute_result"
    }
   ],
   "source": [
    "arr<100"
   ]
  },
  {
   "cell_type": "code",
   "execution_count": 35,
   "id": "c6a49494",
   "metadata": {},
   "outputs": [
    {
     "data": {
      "text/plain": [
       "array([ True,  True, False,  True, False,  True, False])"
      ]
     },
     "execution_count": 35,
     "metadata": {},
     "output_type": "execute_result"
    }
   ],
   "source": [
    "filterarr=arr<100\n",
    "filterarr"
   ]
  },
  {
   "cell_type": "code",
   "execution_count": 37,
   "id": "daea5bbb",
   "metadata": {},
   "outputs": [
    {
     "data": {
      "text/plain": [
       "array([ 1,  2,  4, 18])"
      ]
     },
     "execution_count": 37,
     "metadata": {},
     "output_type": "execute_result"
    }
   ],
   "source": [
    "nwarry=arr[arr<100]   #Gives the index of the numbers which return true for the following condition\n",
    "nwarry"
   ]
  },
  {
   "cell_type": "code",
   "execution_count": 38,
   "id": "be38db4b",
   "metadata": {},
   "outputs": [
    {
     "data": {
      "text/plain": [
       "18"
      ]
     },
     "execution_count": 38,
     "metadata": {},
     "output_type": "execute_result"
    }
   ],
   "source": [
    "arr[5]"
   ]
  },
  {
   "cell_type": "code",
   "execution_count": 39,
   "id": "52a2526e",
   "metadata": {},
   "outputs": [
    {
     "data": {
      "text/plain": [
       "(array([0, 1, 3, 5], dtype=int64),)"
      ]
     },
     "execution_count": 39,
     "metadata": {},
     "output_type": "execute_result"
    }
   ],
   "source": [
    "np.where(arr<100) #where function outputs index location of values"
   ]
  },
  {
   "cell_type": "code",
   "execution_count": 40,
   "id": "401adfb1",
   "metadata": {},
   "outputs": [
    {
     "data": {
      "text/plain": [
       "(array([2, 4, 6], dtype=int64),)"
      ]
     },
     "execution_count": 40,
     "metadata": {},
     "output_type": "execute_result"
    }
   ],
   "source": [
    "np.where(arr>100)"
   ]
  },
  {
   "cell_type": "code",
   "execution_count": 42,
   "id": "e501d906",
   "metadata": {},
   "outputs": [
    {
     "data": {
      "text/plain": [
       "(array([], dtype=int64),)"
      ]
     },
     "execution_count": 42,
     "metadata": {},
     "output_type": "execute_result"
    }
   ],
   "source": [
    "np.where(arr==100)  #no element with value 100"
   ]
  },
  {
   "cell_type": "markdown",
   "id": "723c161c",
   "metadata": {},
   "source": [
    "## Indexing a 2D array (matrices)"
   ]
  },
  {
   "cell_type": "code",
   "execution_count": 43,
   "id": "bbd32c50",
   "metadata": {},
   "outputs": [],
   "source": [
    "import numpy as np"
   ]
  },
  {
   "cell_type": "code",
   "execution_count": 44,
   "id": "e7a98def",
   "metadata": {},
   "outputs": [
    {
     "data": {
      "text/plain": [
       "array([[  1,   2,   3],\n",
       "       [ 12,  15,  18],\n",
       "       [ 64,  96, 128]])"
      ]
     },
     "execution_count": 44,
     "metadata": {},
     "output_type": "execute_result"
    }
   ],
   "source": [
    "arr_2d = np.array(([1,2,3],[12,15,18],[64,96,128]))\n",
    "\n",
    "#Show\n",
    "arr_2d"
   ]
  },
  {
   "cell_type": "code",
   "execution_count": 45,
   "id": "5a899811",
   "metadata": {},
   "outputs": [
    {
     "data": {
      "text/plain": [
       "128"
      ]
     },
     "execution_count": 45,
     "metadata": {},
     "output_type": "execute_result"
    }
   ],
   "source": [
    "arr_2d[2,2]"
   ]
  },
  {
   "cell_type": "code",
   "execution_count": 47,
   "id": "593246f6",
   "metadata": {},
   "outputs": [
    {
     "data": {
      "text/plain": [
       "18"
      ]
     },
     "execution_count": 47,
     "metadata": {},
     "output_type": "execute_result"
    }
   ],
   "source": [
    "arr_2d[1,2] #To fetch 18"
   ]
  },
  {
   "cell_type": "code",
   "execution_count": 48,
   "id": "c8230579",
   "metadata": {},
   "outputs": [
    {
     "data": {
      "text/plain": [
       "15"
      ]
     },
     "execution_count": 48,
     "metadata": {},
     "output_type": "execute_result"
    }
   ],
   "source": [
    "arr_2d[1,1]  #To fetch 15"
   ]
  },
  {
   "cell_type": "code",
   "execution_count": 49,
   "id": "33ef824b",
   "metadata": {},
   "outputs": [
    {
     "data": {
      "text/plain": [
       "array([[ 1,  2],\n",
       "       [12, 15],\n",
       "       [64, 96]])"
      ]
     },
     "execution_count": 49,
     "metadata": {},
     "output_type": "execute_result"
    }
   ],
   "source": [
    "arr_2d[:3,:2]"
   ]
  },
  {
   "cell_type": "code",
   "execution_count": 52,
   "id": "d1482616",
   "metadata": {},
   "outputs": [
    {
     "data": {
      "text/plain": [
       "array([[ 15,  18],\n",
       "       [ 96, 128]])"
      ]
     },
     "execution_count": 52,
     "metadata": {},
     "output_type": "execute_result"
    }
   ],
   "source": [
    "arr_2d[1:,1:]"
   ]
  },
  {
   "cell_type": "code",
   "execution_count": 53,
   "id": "c4f2c655",
   "metadata": {},
   "outputs": [
    {
     "data": {
      "text/plain": [
       "(3, 3)"
      ]
     },
     "execution_count": 53,
     "metadata": {},
     "output_type": "execute_result"
    }
   ],
   "source": [
    "arr_2d.shape"
   ]
  },
  {
   "cell_type": "code",
   "execution_count": 56,
   "id": "68541899",
   "metadata": {},
   "outputs": [
    {
     "data": {
      "text/plain": [
       "array([12, 15, 18])"
      ]
     },
     "execution_count": 56,
     "metadata": {},
     "output_type": "execute_result"
    }
   ],
   "source": [
    "arr_2d[1] #Indexing 2nd row"
   ]
  },
  {
   "cell_type": "code",
   "execution_count": 58,
   "id": "4c4a6ee4",
   "metadata": {},
   "outputs": [
    {
     "data": {
      "text/plain": [
       "array([  3,  18, 128])"
      ]
     },
     "execution_count": 58,
     "metadata": {},
     "output_type": "execute_result"
    }
   ],
   "source": [
    "arr_2d[:,2] #Indexing 3rd column"
   ]
  },
  {
   "cell_type": "code",
   "execution_count": 60,
   "id": "e3a42219",
   "metadata": {},
   "outputs": [
    {
     "data": {
      "text/plain": [
       "15"
      ]
     },
     "execution_count": 60,
     "metadata": {},
     "output_type": "execute_result"
    }
   ],
   "source": [
    "arr_2d[1,1]"
   ]
  },
  {
   "cell_type": "markdown",
   "id": "fd08dcc4",
   "metadata": {},
   "source": [
    "## Indexing"
   ]
  },
  {
   "cell_type": "code",
   "execution_count": 65,
   "id": "a0080db2",
   "metadata": {},
   "outputs": [
    {
     "data": {
      "text/plain": [
       "array([[1., 1., 1., 1., 1., 1., 1., 1., 1., 1.],\n",
       "       [1., 1., 1., 1., 1., 1., 1., 1., 1., 1.],\n",
       "       [1., 1., 1., 1., 1., 1., 1., 1., 1., 1.],\n",
       "       [1., 1., 1., 1., 1., 1., 1., 1., 1., 1.],\n",
       "       [1., 1., 1., 1., 1., 1., 1., 1., 1., 1.]])"
      ]
     },
     "execution_count": 65,
     "metadata": {},
     "output_type": "execute_result"
    }
   ],
   "source": [
    "arr2d_1=np.ones((5,10))\n",
    "arr1"
   ]
  },
  {
   "cell_type": "code",
   "execution_count": 66,
   "id": "7684dd94",
   "metadata": {},
   "outputs": [
    {
     "data": {
      "text/plain": [
       "array([[0., 0., 0., 0., 0., 0., 0., 0., 0., 0.],\n",
       "       [0., 0., 0., 0., 0., 0., 0., 0., 0., 0.],\n",
       "       [0., 0., 0., 0., 0., 0., 0., 0., 0., 0.],\n",
       "       [0., 0., 0., 0., 0., 0., 0., 0., 0., 0.],\n",
       "       [0., 0., 0., 0., 0., 0., 0., 0., 0., 0.]])"
      ]
     },
     "execution_count": 66,
     "metadata": {},
     "output_type": "execute_result"
    }
   ],
   "source": [
    "arr2d = np.zeros((5,10))\n",
    "arr2d"
   ]
  },
  {
   "cell_type": "code",
   "execution_count": 67,
   "id": "2980829a",
   "metadata": {},
   "outputs": [
    {
     "data": {
      "text/plain": [
       "(5, 10)"
      ]
     },
     "execution_count": 67,
     "metadata": {},
     "output_type": "execute_result"
    }
   ],
   "source": [
    "arr2d.shape\n"
   ]
  },
  {
   "cell_type": "code",
   "execution_count": 68,
   "id": "ccc9f03d",
   "metadata": {},
   "outputs": [
    {
     "data": {
      "text/plain": [
       "5"
      ]
     },
     "execution_count": 68,
     "metadata": {},
     "output_type": "execute_result"
    }
   ],
   "source": [
    "no_of_rows=arr2d.shape[0]\n",
    "no_of_rows"
   ]
  },
  {
   "cell_type": "code",
   "execution_count": 70,
   "id": "61b58a2b",
   "metadata": {},
   "outputs": [
    {
     "data": {
      "text/plain": [
       "array([[10., 10., 10., 10., 10., 10., 10., 10., 10., 10.],\n",
       "       [11., 11., 11., 11., 11., 11., 11., 11., 11., 11.],\n",
       "       [12., 12., 12., 12., 12., 12., 12., 12., 12., 12.],\n",
       "       [13., 13., 13., 13., 13., 13., 13., 13., 13., 13.],\n",
       "       [14., 14., 14., 14., 14., 14., 14., 14., 14., 14.]])"
      ]
     },
     "execution_count": 70,
     "metadata": {},
     "output_type": "execute_result"
    }
   ],
   "source": [
    "for i in range(5):\n",
    "    arr2d[i]=i+10\n",
    "\n",
    "arr2d"
   ]
  },
  {
   "cell_type": "markdown",
   "id": "308fd384",
   "metadata": {},
   "source": [
    "## Fancy Indexing"
   ]
  },
  {
   "cell_type": "markdown",
   "id": "c5cbed15",
   "metadata": {},
   "source": [
    "Fancy indexing allows you to select entire rows or columns out of order"
   ]
  },
  {
   "cell_type": "code",
   "execution_count": 2,
   "id": "2f732eba",
   "metadata": {},
   "outputs": [],
   "source": [
    "import numpy as np"
   ]
  },
  {
   "cell_type": "code",
   "execution_count": 3,
   "id": "83059bf5",
   "metadata": {},
   "outputs": [
    {
     "data": {
      "text/plain": [
       "(10, 10)"
      ]
     },
     "execution_count": 3,
     "metadata": {},
     "output_type": "execute_result"
    }
   ],
   "source": [
    "arr1=np.ones((10,10))\n",
    "arr1.shape"
   ]
  },
  {
   "cell_type": "code",
   "execution_count": 4,
   "id": "6dde50cc",
   "metadata": {},
   "outputs": [
    {
     "data": {
      "text/plain": [
       "array([[1., 1., 1., 1., 1., 1., 1., 1., 1., 1.],\n",
       "       [1., 1., 1., 1., 1., 1., 1., 1., 1., 1.],\n",
       "       [1., 1., 1., 1., 1., 1., 1., 1., 1., 1.],\n",
       "       [1., 1., 1., 1., 1., 1., 1., 1., 1., 1.],\n",
       "       [1., 1., 1., 1., 1., 1., 1., 1., 1., 1.],\n",
       "       [1., 1., 1., 1., 1., 1., 1., 1., 1., 1.],\n",
       "       [1., 1., 1., 1., 1., 1., 1., 1., 1., 1.],\n",
       "       [1., 1., 1., 1., 1., 1., 1., 1., 1., 1.],\n",
       "       [1., 1., 1., 1., 1., 1., 1., 1., 1., 1.],\n",
       "       [1., 1., 1., 1., 1., 1., 1., 1., 1., 1.]])"
      ]
     },
     "execution_count": 4,
     "metadata": {},
     "output_type": "execute_result"
    }
   ],
   "source": [
    "arr1"
   ]
  },
  {
   "cell_type": "code",
   "execution_count": 5,
   "id": "a734e092",
   "metadata": {},
   "outputs": [],
   "source": [
    "for i in range(len(arr1)):\n",
    "    arr1[i]=i"
   ]
  },
  {
   "cell_type": "code",
   "execution_count": 6,
   "id": "d0787dd5",
   "metadata": {},
   "outputs": [
    {
     "data": {
      "text/plain": [
       "array([[0., 0., 0., 0., 0., 0., 0., 0., 0., 0.],\n",
       "       [1., 1., 1., 1., 1., 1., 1., 1., 1., 1.],\n",
       "       [2., 2., 2., 2., 2., 2., 2., 2., 2., 2.],\n",
       "       [3., 3., 3., 3., 3., 3., 3., 3., 3., 3.],\n",
       "       [4., 4., 4., 4., 4., 4., 4., 4., 4., 4.],\n",
       "       [5., 5., 5., 5., 5., 5., 5., 5., 5., 5.],\n",
       "       [6., 6., 6., 6., 6., 6., 6., 6., 6., 6.],\n",
       "       [7., 7., 7., 7., 7., 7., 7., 7., 7., 7.],\n",
       "       [8., 8., 8., 8., 8., 8., 8., 8., 8., 8.],\n",
       "       [9., 9., 9., 9., 9., 9., 9., 9., 9., 9.]])"
      ]
     },
     "execution_count": 6,
     "metadata": {},
     "output_type": "execute_result"
    }
   ],
   "source": [
    "arr1"
   ]
  },
  {
   "cell_type": "code",
   "execution_count": 10,
   "id": "92a049ae",
   "metadata": {},
   "outputs": [],
   "source": [
    "arr3=np.arange(27).reshape(3,3,3)"
   ]
  },
  {
   "cell_type": "code",
   "execution_count": 11,
   "id": "5c3b4429",
   "metadata": {},
   "outputs": [
    {
     "data": {
      "text/plain": [
       "array([[[ 0,  1,  2],\n",
       "        [ 3,  4,  5],\n",
       "        [ 6,  7,  8]],\n",
       "\n",
       "       [[ 9, 10, 11],\n",
       "        [12, 13, 14],\n",
       "        [15, 16, 17]],\n",
       "\n",
       "       [[18, 19, 20],\n",
       "        [21, 22, 23],\n",
       "        [24, 25, 26]]])"
      ]
     },
     "execution_count": 11,
     "metadata": {},
     "output_type": "execute_result"
    }
   ],
   "source": [
    "arr3"
   ]
  },
  {
   "cell_type": "markdown",
   "id": "b5987bb4",
   "metadata": {},
   "source": [
    "Fancy indexing allows the following"
   ]
  },
  {
   "cell_type": "code",
   "execution_count": 12,
   "id": "f26bdbf0",
   "metadata": {},
   "outputs": [],
   "source": [
    "arr2d=np.ones((10,10))"
   ]
  },
  {
   "cell_type": "code",
   "execution_count": 13,
   "id": "45e0052d",
   "metadata": {},
   "outputs": [
    {
     "data": {
      "text/plain": [
       "array([[1., 1., 1., 1., 1., 1., 1., 1., 1., 1.],\n",
       "       [1., 1., 1., 1., 1., 1., 1., 1., 1., 1.],\n",
       "       [1., 1., 1., 1., 1., 1., 1., 1., 1., 1.],\n",
       "       [1., 1., 1., 1., 1., 1., 1., 1., 1., 1.],\n",
       "       [1., 1., 1., 1., 1., 1., 1., 1., 1., 1.],\n",
       "       [1., 1., 1., 1., 1., 1., 1., 1., 1., 1.],\n",
       "       [1., 1., 1., 1., 1., 1., 1., 1., 1., 1.],\n",
       "       [1., 1., 1., 1., 1., 1., 1., 1., 1., 1.],\n",
       "       [1., 1., 1., 1., 1., 1., 1., 1., 1., 1.],\n",
       "       [1., 1., 1., 1., 1., 1., 1., 1., 1., 1.]])"
      ]
     },
     "execution_count": 13,
     "metadata": {},
     "output_type": "execute_result"
    }
   ],
   "source": [
    "arr2d"
   ]
  },
  {
   "cell_type": "code",
   "execution_count": 23,
   "id": "cf71f307",
   "metadata": {},
   "outputs": [
    {
     "data": {
      "text/plain": [
       "10"
      ]
     },
     "execution_count": 23,
     "metadata": {},
     "output_type": "execute_result"
    }
   ],
   "source": [
    "no_of_rows = arr2d.shape[0]\n",
    "no_of_rows"
   ]
  },
  {
   "cell_type": "code",
   "execution_count": 24,
   "id": "7b7e61d9",
   "metadata": {},
   "outputs": [],
   "source": [
    "for i in range(len(arr1)):\n",
    "    arr2d[i]=i"
   ]
  },
  {
   "cell_type": "code",
   "execution_count": 25,
   "id": "c4ab9934",
   "metadata": {},
   "outputs": [
    {
     "data": {
      "text/plain": [
       "array([[0., 0., 0., 0., 0., 0., 0., 0., 0., 0.],\n",
       "       [1., 1., 1., 1., 1., 1., 1., 1., 1., 1.],\n",
       "       [2., 2., 2., 2., 2., 2., 2., 2., 2., 2.],\n",
       "       [3., 3., 3., 3., 3., 3., 3., 3., 3., 3.],\n",
       "       [4., 4., 4., 4., 4., 4., 4., 4., 4., 4.],\n",
       "       [5., 5., 5., 5., 5., 5., 5., 5., 5., 5.],\n",
       "       [6., 6., 6., 6., 6., 6., 6., 6., 6., 6.],\n",
       "       [7., 7., 7., 7., 7., 7., 7., 7., 7., 7.],\n",
       "       [8., 8., 8., 8., 8., 8., 8., 8., 8., 8.],\n",
       "       [9., 9., 9., 9., 9., 9., 9., 9., 9., 9.]])"
      ]
     },
     "execution_count": 25,
     "metadata": {},
     "output_type": "execute_result"
    }
   ],
   "source": [
    "arr2d"
   ]
  },
  {
   "cell_type": "code",
   "execution_count": 26,
   "id": "cd12bf5a",
   "metadata": {},
   "outputs": [
    {
     "data": {
      "text/plain": [
       "array([[6., 6., 6., 6., 6., 6., 6., 6., 6., 6.],\n",
       "       [3., 3., 3., 3., 3., 3., 3., 3., 3., 3.],\n",
       "       [8., 8., 8., 8., 8., 8., 8., 8., 8., 8.]])"
      ]
     },
     "execution_count": 26,
     "metadata": {},
     "output_type": "execute_result"
    }
   ],
   "source": [
    "arr2d[[6,3,8]]  #Allows in any order"
   ]
  },
  {
   "cell_type": "code",
   "execution_count": 27,
   "id": "d8a6d664",
   "metadata": {
    "scrolled": false
   },
   "outputs": [
    {
     "data": {
      "text/plain": [
       "array([[0., 0., 0., 0.],\n",
       "       [1., 1., 1., 1.],\n",
       "       [2., 2., 2., 2.],\n",
       "       [3., 3., 3., 3.],\n",
       "       [4., 4., 4., 4.],\n",
       "       [5., 5., 5., 5.],\n",
       "       [6., 6., 6., 6.],\n",
       "       [7., 7., 7., 7.],\n",
       "       [8., 8., 8., 8.],\n",
       "       [9., 9., 9., 9.]])"
      ]
     },
     "execution_count": 27,
     "metadata": {},
     "output_type": "execute_result"
    }
   ],
   "source": [
    "arr2d[:,[2,4,6,8]]"
   ]
  },
  {
   "cell_type": "code",
   "execution_count": 30,
   "id": "79575397",
   "metadata": {},
   "outputs": [
    {
     "data": {
      "text/plain": [
       "array([[6., 6., 6., 6., 6., 6., 6., 6., 6., 6.],\n",
       "       [4., 4., 4., 4., 4., 4., 4., 4., 4., 4.],\n",
       "       [2., 2., 2., 2., 2., 2., 2., 2., 2., 2.],\n",
       "       [7., 7., 7., 7., 7., 7., 7., 7., 7., 7.]])"
      ]
     },
     "execution_count": 30,
     "metadata": {},
     "output_type": "execute_result"
    }
   ],
   "source": [
    "arr2d[[6,4,2,7]]  #Allows indexing in any order, use - [[]]"
   ]
  },
  {
   "cell_type": "code",
   "execution_count": 31,
   "id": "c741f48c",
   "metadata": {},
   "outputs": [
    {
     "data": {
      "text/plain": [
       "array([[2., 2., 2., 2., 2., 2., 2., 2., 2., 2.],\n",
       "       [4., 4., 4., 4., 4., 4., 4., 4., 4., 4.],\n",
       "       [6., 6., 6., 6., 6., 6., 6., 6., 6., 6.],\n",
       "       [8., 8., 8., 8., 8., 8., 8., 8., 8., 8.]])"
      ]
     },
     "execution_count": 31,
     "metadata": {},
     "output_type": "execute_result"
    }
   ],
   "source": [
    "arr2d[[2,4,6,8],:]"
   ]
  },
  {
   "cell_type": "code",
   "execution_count": null,
   "id": "6c3faa23",
   "metadata": {},
   "outputs": [],
   "source": []
  }
 ],
 "metadata": {
  "kernelspec": {
   "display_name": "Python 3 (ipykernel)",
   "language": "python",
   "name": "python3"
  },
  "language_info": {
   "codemirror_mode": {
    "name": "ipython",
    "version": 3
   },
   "file_extension": ".py",
   "mimetype": "text/x-python",
   "name": "python",
   "nbconvert_exporter": "python",
   "pygments_lexer": "ipython3",
   "version": "3.11.4"
  }
 },
 "nbformat": 4,
 "nbformat_minor": 5
}
